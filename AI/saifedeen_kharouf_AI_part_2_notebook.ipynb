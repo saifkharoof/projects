{
  "cells": [
    {
      "cell_type": "markdown",
      "metadata": {
        "id": "iMVHEIeIPIWO"
      },
      "source": [
        "# **Importing the data and explore it and preprocess it as needed**"
      ]
    },
    {
      "cell_type": "code",
      "execution_count": 496,
      "metadata": {
        "id": "xlkWpy8dj70q"
      },
      "outputs": [],
      "source": [
        "import pandas as pd\n",
        "from sklearn.neighbors import KNeighborsClassifier\n",
        "from sklearn import tree\n",
        "from sklearn.model_selection import train_test_split\n",
        "from sklearn.ensemble import RandomForestClassifier\n",
        "import sklearn.metrics as met\n",
        "from sklearn.preprocessing import StandardScaler\n",
        "from sklearn.metrics import ConfusionMatrixDisplay\n",
        "import matplotlib.pyplot as plt"
      ]
    },
    {
      "cell_type": "code",
      "execution_count": 497,
      "metadata": {
        "id": "8161Rj0_kNGu"
      },
      "outputs": [],
      "source": [
        "data1 = pd.read_csv('Train.csv')\n",
        "data2 = pd.read_csv('Train_Vehicletravellingdata.csv')\n",
        "data3 = pd.read_csv('Train_WeatherData.csv')"
      ]
    },
    {
      "cell_type": "code",
      "execution_count": 498,
      "metadata": {
        "colab": {
          "base_uri": "https://localhost:8080/"
        },
        "id": "BkT6H8uykmNr",
        "outputId": "d6a6fa39-63a3-4a85-df4d-53167c1e7b46"
      },
      "outputs": [
        {
          "output_type": "execute_result",
          "data": {
            "text/plain": [
              "(12994, 5)"
            ]
          },
          "metadata": {},
          "execution_count": 498
        }
      ],
      "source": [
        "data1.shape"
      ]
    },
    {
      "cell_type": "code",
      "execution_count": 499,
      "metadata": {
        "colab": {
          "base_uri": "https://localhost:8080/"
        },
        "id": "1Cvopko6kvwT",
        "outputId": "8355b6f0-ccf6-4a8e-f88d-910f7f356bdd"
      },
      "outputs": [
        {
          "output_type": "execute_result",
          "data": {
            "text/plain": [
              "(162566, 10)"
            ]
          },
          "metadata": {},
          "execution_count": 499
        }
      ],
      "source": [
        "data2.shape"
      ]
    },
    {
      "cell_type": "code",
      "execution_count": 500,
      "metadata": {
        "colab": {
          "base_uri": "https://localhost:8080/"
        },
        "id": "RofdDEupky8p",
        "outputId": "17458dca-8caa-4727-ba49-96cb4420a1d1"
      },
      "outputs": [
        {
          "output_type": "execute_result",
          "data": {
            "text/plain": [
              "(162566, 9)"
            ]
          },
          "metadata": {},
          "execution_count": 500
        }
      ],
      "source": [
        "data3.shape"
      ]
    },
    {
      "cell_type": "code",
      "execution_count": 501,
      "metadata": {
        "colab": {
          "base_uri": "https://localhost:8080/"
        },
        "id": "_WjBD-gYmCCb",
        "outputId": "0be893ed-938e-4cd4-a23a-eefdca74c396"
      },
      "outputs": [
        {
          "output_type": "stream",
          "name": "stdout",
          "text": [
            "Index(['ID', 'V2', 'V5', 'V6', 'DrivingStyle'], dtype='object')\n",
            "Index(['ID', 'V1', 'V3', 'V4', 'V7', 'V8', 'V9', 'V10', 'V11', 'V18'], dtype='object')\n",
            "Index(['ID', 'V1', 'V12', 'V13', 'V14', 'V15', 'V16', 'V17', 'V19'], dtype='object')\n"
          ]
        }
      ],
      "source": [
        "print(data1.columns)\n",
        "print(data2.columns)\n",
        "print(data3.columns)"
      ]
    },
    {
      "cell_type": "code",
      "execution_count": 502,
      "metadata": {
        "id": "6pL-mjsNl9x1"
      },
      "outputs": [],
      "source": [
        "data1 = data1.rename(columns = {'V2':'veincle length' ,\n",
        "                        'V5':'veincle weight' ,\n",
        "                        'V6':'axles number'})"
      ]
    },
    {
      "cell_type": "code",
      "execution_count": 503,
      "metadata": {
        "id": "hHaF4EhrpRCu"
      },
      "outputs": [],
      "source": [
        "data2 = data2.rename(columns = {'V1':'time of collection' ,\n",
        "                        'V3':'Lane of the road' ,\n",
        "                        'V4':'veincle speed',\n",
        "                        'V7':'perceding Veincle ID',\n",
        "                        'V8':'perceding veincle speed',\n",
        "                        'V9':'perceding veincle weight',\n",
        "                        'V10':'perceding veincle length',\n",
        "                        'V11':'perceding veincle time-gap',\n",
        "                        'V18':'road condition'})"
      ]
    },
    {
      "cell_type": "code",
      "execution_count": 504,
      "metadata": {
        "id": "19CuTMvBnX8i"
      },
      "outputs": [],
      "source": [
        "data3 = data3.rename(columns = {'V1':'time of collection' ,\n",
        "                        'V12':'Air temprture' ,\n",
        "                        'V13':'perciption type',\n",
        "                        'V14':'perciption intensity',\n",
        "                        'V15':'relatve humadity',\n",
        "                        'V16':'wind direction',\n",
        "                        'V17':'wind speed',\n",
        "                        'V19':'Lighting condition'})"
      ]
    },
    {
      "cell_type": "code",
      "execution_count": 505,
      "metadata": {
        "colab": {
          "base_uri": "https://localhost:8080/"
        },
        "id": "5n5tv-W7mZhP",
        "outputId": "e40d23d7-e6fe-44f9-b2d3-c0377de2b633"
      },
      "outputs": [
        {
          "output_type": "stream",
          "name": "stdout",
          "text": [
            "Index(['ID', 'veincle length', 'veincle weight', 'axles number',\n",
            "       'DrivingStyle'],\n",
            "      dtype='object')\n",
            "Index(['ID', 'time of collection', 'Lane of the road', 'veincle speed',\n",
            "       'perceding Veincle ID', 'perceding veincle speed',\n",
            "       'perceding veincle weight', 'perceding veincle length',\n",
            "       'perceding veincle time-gap', 'road condition'],\n",
            "      dtype='object')\n",
            "Index(['ID', 'time of collection', 'Air temprture', 'perciption type',\n",
            "       'perciption intensity', 'relatve humadity', 'wind direction',\n",
            "       'wind speed', 'Lighting condition'],\n",
            "      dtype='object')\n"
          ]
        }
      ],
      "source": [
        "print(data1.columns)\n",
        "print(data2.columns)\n",
        "print(data3.columns)"
      ]
    },
    {
      "cell_type": "code",
      "execution_count": 506,
      "metadata": {
        "colab": {
          "base_uri": "https://localhost:8080/"
        },
        "id": "2WkK8rLfk0sN",
        "outputId": "defe510d-0644-4529-d1a1-97db6e475b18"
      },
      "outputs": [
        {
          "output_type": "execute_result",
          "data": {
            "text/plain": [
              "ID                0\n",
              "veincle length    0\n",
              "veincle weight    0\n",
              "axles number      0\n",
              "DrivingStyle      0\n",
              "dtype: int64"
            ]
          },
          "metadata": {},
          "execution_count": 506
        }
      ],
      "source": [
        "data1.isnull().sum()"
      ]
    },
    {
      "cell_type": "code",
      "execution_count": 507,
      "metadata": {
        "colab": {
          "base_uri": "https://localhost:8080/"
        },
        "id": "5UuhkdmJk5qF",
        "outputId": "80a80ec7-d1a2-4241-835f-9e1b0c8fc291"
      },
      "outputs": [
        {
          "output_type": "execute_result",
          "data": {
            "text/plain": [
              "ID                               0\n",
              "time of collection               0\n",
              "Lane of the road                 0\n",
              "veincle speed                    0\n",
              "perceding Veincle ID             0\n",
              "perceding veincle speed          0\n",
              "perceding veincle weight         0\n",
              "perceding veincle length         0\n",
              "perceding veincle time-gap    2455\n",
              "road condition                   0\n",
              "dtype: int64"
            ]
          },
          "metadata": {},
          "execution_count": 507
        }
      ],
      "source": [
        "data2.isnull().sum()"
      ]
    },
    {
      "cell_type": "code",
      "execution_count": 508,
      "metadata": {
        "colab": {
          "base_uri": "https://localhost:8080/"
        },
        "id": "7mHc546kk83L",
        "outputId": "4c9c256e-c54d-4a7f-b9f1-17b99016fd8f"
      },
      "outputs": [
        {
          "output_type": "execute_result",
          "data": {
            "text/plain": [
              "ID                         0\n",
              "time of collection         0\n",
              "Air temprture           2057\n",
              "perciption type            0\n",
              "perciption intensity       0\n",
              "relatve humadity        2105\n",
              "wind direction          2114\n",
              "wind speed              2464\n",
              "Lighting condition         0\n",
              "dtype: int64"
            ]
          },
          "metadata": {},
          "execution_count": 508
        }
      ],
      "source": [
        "data3.isnull().sum()"
      ]
    },
    {
      "cell_type": "code",
      "execution_count": 509,
      "metadata": {
        "colab": {
          "base_uri": "https://localhost:8080/"
        },
        "id": "VpEduulzlAAA",
        "outputId": "20ebb107-f846-4c1e-e012-da9987bf9caa"
      },
      "outputs": [
        {
          "output_type": "execute_result",
          "data": {
            "text/plain": [
              "ID                0\n",
              "veincle length    0\n",
              "veincle weight    0\n",
              "axles number      0\n",
              "DrivingStyle      0\n",
              "dtype: int64"
            ]
          },
          "metadata": {},
          "execution_count": 509
        }
      ],
      "source": [
        "data1.isna().sum()\n"
      ]
    },
    {
      "cell_type": "code",
      "execution_count": 510,
      "metadata": {
        "colab": {
          "base_uri": "https://localhost:8080/"
        },
        "id": "Ad9sO_HPlCiZ",
        "outputId": "561087fd-c232-4e22-987f-ad2631d322b4"
      },
      "outputs": [
        {
          "output_type": "execute_result",
          "data": {
            "text/plain": [
              "ID                               0\n",
              "time of collection               0\n",
              "Lane of the road                 0\n",
              "veincle speed                    0\n",
              "perceding Veincle ID             0\n",
              "perceding veincle speed          0\n",
              "perceding veincle weight         0\n",
              "perceding veincle length         0\n",
              "perceding veincle time-gap    2455\n",
              "road condition                   0\n",
              "dtype: int64"
            ]
          },
          "metadata": {},
          "execution_count": 510
        }
      ],
      "source": [
        "data2.isna().sum()\n"
      ]
    },
    {
      "cell_type": "code",
      "execution_count": 511,
      "metadata": {
        "colab": {
          "base_uri": "https://localhost:8080/"
        },
        "id": "QgGeh0eRlI5Q",
        "outputId": "3a5799de-4188-4efb-d1cf-e48787b364d2"
      },
      "outputs": [
        {
          "output_type": "execute_result",
          "data": {
            "text/plain": [
              "ID                         0\n",
              "time of collection         0\n",
              "Air temprture           2057\n",
              "perciption type            0\n",
              "perciption intensity       0\n",
              "relatve humadity        2105\n",
              "wind direction          2114\n",
              "wind speed              2464\n",
              "Lighting condition         0\n",
              "dtype: int64"
            ]
          },
          "metadata": {},
          "execution_count": 511
        }
      ],
      "source": [
        "data3.isna().sum()"
      ]
    },
    {
      "cell_type": "code",
      "execution_count": 512,
      "metadata": {
        "colab": {
          "base_uri": "https://localhost:8080/"
        },
        "id": "tMXoGgnUtFb0",
        "outputId": "aad8312a-7003-477c-b15f-228fefc5a876"
      },
      "outputs": [
        {
          "output_type": "stream",
          "name": "stdout",
          "text": [
            "105\n",
            "43\n"
          ]
        },
        {
          "output_type": "execute_result",
          "data": {
            "text/plain": [
              "ID                            0\n",
              "time of collection            0\n",
              "Lane of the road              0\n",
              "veincle speed                 0\n",
              "perceding Veincle ID          0\n",
              "perceding veincle speed       0\n",
              "perceding veincle weight      0\n",
              "perceding veincle length      0\n",
              "perceding veincle time-gap    0\n",
              "road condition                0\n",
              "dtype: int64"
            ]
          },
          "metadata": {},
          "execution_count": 512
        }
      ],
      "source": [
        "print(int(data2['perceding veincle time-gap'].mean()))\n",
        "print(int(data2['perceding veincle time-gap'].median()))\n",
        "data2['perceding veincle time-gap'].fillna( value = int(data2['perceding veincle time-gap'].median()),inplace= True)\n",
        "#data2['perceding veincle time-gap'].skew()\n",
        "data2.isnull().sum()"
      ]
    },
    {
      "cell_type": "code",
      "execution_count": 513,
      "metadata": {
        "colab": {
          "base_uri": "https://localhost:8080/"
        },
        "id": "5-mvMdQOxM7V",
        "outputId": "adbc17df-b26c-40c4-ac1c-947bb523c5f1"
      },
      "outputs": [
        {
          "output_type": "stream",
          "name": "stdout",
          "text": [
            "4\n",
            "5\n"
          ]
        }
      ],
      "source": [
        "print(int(data3['Air temprture'].mean()))\n",
        "print(int(data3['Air temprture'].median()))\n",
        "data3['Air temprture'].fillna( value = int(data3['Air temprture'].median()),inplace= True)\n",
        "\n",
        "#data3.isnull().sum()"
      ]
    },
    {
      "cell_type": "code",
      "execution_count": 514,
      "metadata": {
        "id": "xFV3-lu5KUOO"
      },
      "outputs": [],
      "source": [
        "data2['road condition'] = pd.factorize(data2['road condition'])[0]"
      ]
    },
    {
      "cell_type": "code",
      "execution_count": 515,
      "metadata": {
        "colab": {
          "base_uri": "https://localhost:8080/"
        },
        "id": "-FkQ-TnumX2w",
        "outputId": "b8ada43f-c197-47e3-dac8-85ec71aa84b8"
      },
      "outputs": [
        {
          "output_type": "stream",
          "name": "stdout",
          "text": [
            "<class 'pandas.core.frame.DataFrame'>\n",
            "RangeIndex: 162566 entries, 0 to 162565\n",
            "Data columns (total 10 columns):\n",
            " #   Column                      Non-Null Count   Dtype  \n",
            "---  ------                      --------------   -----  \n",
            " 0   ID                          162566 non-null  object \n",
            " 1   time of collection          162566 non-null  object \n",
            " 2   Lane of the road            162566 non-null  int64  \n",
            " 3   veincle speed               162566 non-null  int64  \n",
            " 4   perceding Veincle ID        162566 non-null  int64  \n",
            " 5   perceding veincle speed     162566 non-null  int64  \n",
            " 6   perceding veincle weight    162566 non-null  int64  \n",
            " 7   perceding veincle length    162566 non-null  int64  \n",
            " 8   perceding veincle time-gap  162566 non-null  float64\n",
            " 9   road condition              162566 non-null  int64  \n",
            "dtypes: float64(1), int64(7), object(2)\n",
            "memory usage: 12.4+ MB\n"
          ]
        }
      ],
      "source": [
        "data2.info()"
      ]
    },
    {
      "cell_type": "code",
      "execution_count": 516,
      "metadata": {
        "id": "yjMgjA2IGry9"
      },
      "outputs": [],
      "source": [
        "data2_gropued = data2.groupby('ID')[['perceding veincle time-gap','Lane of the road','veincle speed','perceding veincle speed','perceding veincle weight','perceding veincle length','road condition']].mean()"
      ]
    },
    {
      "cell_type": "code",
      "execution_count": 517,
      "metadata": {
        "colab": {
          "base_uri": "https://localhost:8080/"
        },
        "id": "WTvvqR0amc-E",
        "outputId": "f4ef7fa0-bb27-436c-9902-333b3594d953"
      },
      "outputs": [
        {
          "output_type": "stream",
          "name": "stdout",
          "text": [
            "<class 'pandas.core.frame.DataFrame'>\n",
            "Index: 12994 entries, DR_10002 to DR_75253\n",
            "Data columns (total 7 columns):\n",
            " #   Column                      Non-Null Count  Dtype  \n",
            "---  ------                      --------------  -----  \n",
            " 0   perceding veincle time-gap  12994 non-null  float64\n",
            " 1   Lane of the road            12994 non-null  float64\n",
            " 2   veincle speed               12994 non-null  float64\n",
            " 3   perceding veincle speed     12994 non-null  float64\n",
            " 4   perceding veincle weight    12994 non-null  float64\n",
            " 5   perceding veincle length    12994 non-null  float64\n",
            " 6   road condition              12994 non-null  float64\n",
            "dtypes: float64(7)\n",
            "memory usage: 812.1+ KB\n"
          ]
        }
      ],
      "source": [
        "data2_gropued.info()"
      ]
    },
    {
      "cell_type": "code",
      "execution_count": 518,
      "metadata": {
        "id": "Hid8qP9Imwqd"
      },
      "outputs": [],
      "source": [
        "data2_gropued = data2_gropued.astype({'Lane of the road':int})"
      ]
    },
    {
      "cell_type": "code",
      "execution_count": 519,
      "metadata": {
        "colab": {
          "base_uri": "https://localhost:8080/"
        },
        "id": "6c7VedF3nFrZ",
        "outputId": "1915940b-273b-4ebc-b1d7-3546d566db1a"
      },
      "outputs": [
        {
          "output_type": "stream",
          "name": "stdout",
          "text": [
            "<class 'pandas.core.frame.DataFrame'>\n",
            "Index: 12994 entries, DR_10002 to DR_75253\n",
            "Data columns (total 7 columns):\n",
            " #   Column                      Non-Null Count  Dtype  \n",
            "---  ------                      --------------  -----  \n",
            " 0   perceding veincle time-gap  12994 non-null  float64\n",
            " 1   Lane of the road            12994 non-null  int64  \n",
            " 2   veincle speed               12994 non-null  float64\n",
            " 3   perceding veincle speed     12994 non-null  float64\n",
            " 4   perceding veincle weight    12994 non-null  float64\n",
            " 5   perceding veincle length    12994 non-null  float64\n",
            " 6   road condition              12994 non-null  float64\n",
            "dtypes: float64(6), int64(1)\n",
            "memory usage: 812.1+ KB\n"
          ]
        }
      ],
      "source": [
        "data2_gropued.info()"
      ]
    },
    {
      "cell_type": "code",
      "execution_count": 520,
      "metadata": {
        "colab": {
          "base_uri": "https://localhost:8080/"
        },
        "id": "FymiVIphszDc",
        "outputId": "9e9f16f4-eeec-4c32-b5a7-4ace2f91aa41"
      },
      "outputs": [
        {
          "output_type": "stream",
          "name": "stdout",
          "text": [
            "<class 'pandas.core.frame.DataFrame'>\n",
            "RangeIndex: 12994 entries, 0 to 12993\n",
            "Data columns (total 5 columns):\n",
            " #   Column          Non-Null Count  Dtype \n",
            "---  ------          --------------  ----- \n",
            " 0   ID              12994 non-null  object\n",
            " 1   veincle length  12994 non-null  int64 \n",
            " 2   veincle weight  12994 non-null  int64 \n",
            " 3   axles number    12994 non-null  int64 \n",
            " 4   DrivingStyle    12994 non-null  int64 \n",
            "dtypes: int64(4), object(1)\n",
            "memory usage: 507.7+ KB\n"
          ]
        }
      ],
      "source": [
        "data1.info()"
      ]
    },
    {
      "cell_type": "code",
      "execution_count": 521,
      "metadata": {
        "colab": {
          "base_uri": "https://localhost:8080/"
        },
        "id": "DWV1AZWLs2_N",
        "outputId": "399b676a-fe5e-41f3-a599-d6a77b71e486"
      },
      "outputs": [
        {
          "output_type": "stream",
          "name": "stdout",
          "text": [
            "<class 'pandas.core.frame.DataFrame'>\n",
            "RangeIndex: 162566 entries, 0 to 162565\n",
            "Data columns (total 10 columns):\n",
            " #   Column                      Non-Null Count   Dtype  \n",
            "---  ------                      --------------   -----  \n",
            " 0   ID                          162566 non-null  object \n",
            " 1   time of collection          162566 non-null  object \n",
            " 2   Lane of the road            162566 non-null  int64  \n",
            " 3   veincle speed               162566 non-null  int64  \n",
            " 4   perceding Veincle ID        162566 non-null  int64  \n",
            " 5   perceding veincle speed     162566 non-null  int64  \n",
            " 6   perceding veincle weight    162566 non-null  int64  \n",
            " 7   perceding veincle length    162566 non-null  int64  \n",
            " 8   perceding veincle time-gap  162566 non-null  float64\n",
            " 9   road condition              162566 non-null  int64  \n",
            "dtypes: float64(1), int64(7), object(2)\n",
            "memory usage: 12.4+ MB\n"
          ]
        }
      ],
      "source": [
        "data2.info()"
      ]
    },
    {
      "cell_type": "code",
      "execution_count": 522,
      "metadata": {
        "colab": {
          "base_uri": "https://localhost:8080/"
        },
        "id": "sD-NORsQs6-c",
        "outputId": "0c28e1ef-3af3-4a4a-d836-3072f45ddc51"
      },
      "outputs": [
        {
          "output_type": "stream",
          "name": "stdout",
          "text": [
            "<class 'pandas.core.frame.DataFrame'>\n",
            "RangeIndex: 162566 entries, 0 to 162565\n",
            "Data columns (total 9 columns):\n",
            " #   Column                Non-Null Count   Dtype  \n",
            "---  ------                --------------   -----  \n",
            " 0   ID                    162566 non-null  object \n",
            " 1   time of collection    162566 non-null  object \n",
            " 2   Air temprture         162566 non-null  float64\n",
            " 3   perciption type       162566 non-null  object \n",
            " 4   perciption intensity  162566 non-null  object \n",
            " 5   relatve humadity      160461 non-null  float64\n",
            " 6   wind direction        160452 non-null  float64\n",
            " 7   wind speed            160102 non-null  float64\n",
            " 8   Lighting condition    162566 non-null  object \n",
            "dtypes: float64(4), object(5)\n",
            "memory usage: 11.2+ MB\n"
          ]
        }
      ],
      "source": [
        "data3.info()"
      ]
    },
    {
      "cell_type": "code",
      "execution_count": 523,
      "metadata": {
        "colab": {
          "base_uri": "https://localhost:8080/"
        },
        "id": "6860rNqiM2Q4",
        "outputId": "449650e2-84db-4d94-ffce-7a9654aa8aed"
      },
      "outputs": [
        {
          "output_type": "execute_result",
          "data": {
            "text/plain": [
              "ID                         0\n",
              "time of collection         0\n",
              "Air temprture              0\n",
              "perciption type            0\n",
              "perciption intensity       0\n",
              "relatve humadity        2105\n",
              "wind direction          2114\n",
              "wind speed              2464\n",
              "Lighting condition         0\n",
              "dtype: int64"
            ]
          },
          "metadata": {},
          "execution_count": 523
        }
      ],
      "source": [
        "data3.isnull().sum()"
      ]
    },
    {
      "cell_type": "code",
      "execution_count": 524,
      "metadata": {
        "colab": {
          "base_uri": "https://localhost:8080/"
        },
        "id": "6qbExu4QM696",
        "outputId": "854956c2-e5b2-43a1-e933-5591cab294c8"
      },
      "outputs": [
        {
          "output_type": "stream",
          "name": "stdout",
          "text": [
            "60\n",
            "58\n"
          ]
        }
      ],
      "source": [
        "print(int(data3['relatve humadity'].mean()))\n",
        "print(int(data3['relatve humadity'].median()))"
      ]
    },
    {
      "cell_type": "code",
      "execution_count": 525,
      "metadata": {
        "colab": {
          "base_uri": "https://localhost:8080/"
        },
        "id": "px4BKI-kNbon",
        "outputId": "0627c106-d93d-4d64-ed0a-384de58990d2"
      },
      "outputs": [
        {
          "output_type": "execute_result",
          "data": {
            "text/plain": [
              "ID                         0\n",
              "time of collection         0\n",
              "Air temprture              0\n",
              "perciption type            0\n",
              "perciption intensity       0\n",
              "relatve humadity        2105\n",
              "wind direction          2114\n",
              "wind speed              2464\n",
              "Lighting condition         0\n",
              "dtype: int64"
            ]
          },
          "metadata": {},
          "execution_count": 525
        }
      ],
      "source": [
        "data3['relatve humadity'].fillna( value = data3['relatve humadity'].median)\n",
        "data3.isnull().sum()"
      ]
    },
    {
      "cell_type": "code",
      "execution_count": 526,
      "metadata": {
        "colab": {
          "base_uri": "https://localhost:8080/"
        },
        "id": "lLl1zBDDQB_D",
        "outputId": "3520d9d3-373a-4934-c3ec-fc59178b192f"
      },
      "outputs": [
        {
          "output_type": "stream",
          "name": "stdout",
          "text": [
            "182\n",
            "180\n"
          ]
        }
      ],
      "source": [
        "print(int(data3['wind direction'].mean()))\n",
        "print(int(data3['wind direction'].median()))"
      ]
    },
    {
      "cell_type": "code",
      "execution_count": 527,
      "metadata": {
        "colab": {
          "base_uri": "https://localhost:8080/"
        },
        "id": "xWjsHRV8RqnP",
        "outputId": "8e67b7d3-82e8-423a-bcd8-b3885b2c75c5"
      },
      "outputs": [
        {
          "output_type": "execute_result",
          "data": {
            "text/plain": [
              "ID                         0\n",
              "time of collection         0\n",
              "Air temprture              0\n",
              "perciption type            0\n",
              "perciption intensity       0\n",
              "relatve humadity        2105\n",
              "wind direction             0\n",
              "wind speed              2464\n",
              "Lighting condition         0\n",
              "dtype: int64"
            ]
          },
          "metadata": {},
          "execution_count": 527
        }
      ],
      "source": [
        "data3['wind direction'].fillna( value = int(data3['wind direction'].median()),inplace= True)\n",
        "data3.isnull().sum()"
      ]
    },
    {
      "cell_type": "code",
      "execution_count": 528,
      "metadata": {
        "colab": {
          "base_uri": "https://localhost:8080/"
        },
        "id": "RsQAeTg7So4I",
        "outputId": "d68de9f3-6633-4890-f495-9a09e9a5091c"
      },
      "outputs": [
        {
          "output_type": "stream",
          "name": "stdout",
          "text": [
            "4\n",
            "4\n"
          ]
        }
      ],
      "source": [
        "print(int(data3['wind speed'].mean()))\n",
        "print(int(data3['wind speed'].median()))"
      ]
    },
    {
      "cell_type": "code",
      "execution_count": 529,
      "metadata": {
        "colab": {
          "base_uri": "https://localhost:8080/"
        },
        "id": "fkLRoWsCSx5u",
        "outputId": "b12fe39e-8107-425c-b80b-de528072ef63"
      },
      "outputs": [
        {
          "output_type": "execute_result",
          "data": {
            "text/plain": [
              "ID                         0\n",
              "time of collection         0\n",
              "Air temprture              0\n",
              "perciption type            0\n",
              "perciption intensity       0\n",
              "relatve humadity        2105\n",
              "wind direction             0\n",
              "wind speed                 0\n",
              "Lighting condition         0\n",
              "dtype: int64"
            ]
          },
          "metadata": {},
          "execution_count": 529
        }
      ],
      "source": [
        "data3['wind speed'].fillna( value = int(data3['wind speed'].median()),inplace= True)\n",
        "data3.isnull().sum()"
      ]
    },
    {
      "cell_type": "code",
      "execution_count": 530,
      "metadata": {
        "id": "FH1nA9IdS3uK"
      },
      "outputs": [],
      "source": [
        "data3['perciption type'] = pd.factorize(data3['perciption type'])[0]\n",
        "data3['perciption intensity'] = pd.factorize(data3['perciption intensity'])[0]\n",
        "data3['Lighting condition'] = pd.factorize(data3['Lighting condition'])[0]"
      ]
    },
    {
      "cell_type": "code",
      "execution_count": 531,
      "metadata": {
        "colab": {
          "base_uri": "https://localhost:8080/"
        },
        "id": "H5IY4bK4TuSn",
        "outputId": "9e170034-c7ac-482c-b285-40928137a7e3"
      },
      "outputs": [
        {
          "output_type": "stream",
          "name": "stdout",
          "text": [
            "<class 'pandas.core.frame.DataFrame'>\n",
            "RangeIndex: 162566 entries, 0 to 162565\n",
            "Data columns (total 9 columns):\n",
            " #   Column                Non-Null Count   Dtype  \n",
            "---  ------                --------------   -----  \n",
            " 0   ID                    162566 non-null  object \n",
            " 1   time of collection    162566 non-null  object \n",
            " 2   Air temprture         162566 non-null  float64\n",
            " 3   perciption type       162566 non-null  int64  \n",
            " 4   perciption intensity  162566 non-null  int64  \n",
            " 5   relatve humadity      160461 non-null  float64\n",
            " 6   wind direction        162566 non-null  float64\n",
            " 7   wind speed            162566 non-null  float64\n",
            " 8   Lighting condition    162566 non-null  int64  \n",
            "dtypes: float64(4), int64(3), object(2)\n",
            "memory usage: 11.2+ MB\n"
          ]
        }
      ],
      "source": [
        "data3.info()"
      ]
    },
    {
      "cell_type": "code",
      "execution_count": 532,
      "metadata": {
        "id": "VxPyZf56UBd3"
      },
      "outputs": [],
      "source": [
        "data3_gropued = data3.groupby('ID')[['Air temprture','perciption type','perciption intensity','relatve humadity','wind direction','wind speed','Lighting condition']].mean()"
      ]
    },
    {
      "cell_type": "code",
      "execution_count": 533,
      "metadata": {
        "colab": {
          "base_uri": "https://localhost:8080/",
          "height": 237
        },
        "id": "1oQVzdHeUdYx",
        "outputId": "d38906f9-ff8c-40e3-868f-d1f3f330680e"
      },
      "outputs": [
        {
          "output_type": "execute_result",
          "data": {
            "text/plain": [
              "          perceding veincle time-gap  Lane of the road  veincle speed  \\\n",
              "ID                                                                      \n",
              "DR_10002                  234.800000                 1      84.400000   \n",
              "DR_10013                  173.111111                 1      86.555556   \n",
              "DR_10023                   66.812500                 1      83.125000   \n",
              "DR_10024                  194.166667                 1      86.666667   \n",
              "DR_10025                  156.125000                 1      81.500000   \n",
              "\n",
              "          perceding veincle speed  perceding veincle weight  \\\n",
              "ID                                                            \n",
              "DR_10002                77.000000               4200.400000   \n",
              "DR_10013                85.777778               9517.888889   \n",
              "DR_10023                81.625000              10180.187500   \n",
              "DR_10024                81.500000               6366.333333   \n",
              "DR_10025                82.500000              10157.875000   \n",
              "\n",
              "          perceding veincle length  road condition  \n",
              "ID                                                  \n",
              "DR_10002                762.000000             0.0  \n",
              "DR_10013               1184.888889             0.0  \n",
              "DR_10023               1022.312500             0.0  \n",
              "DR_10024               1069.666667             0.0  \n",
              "DR_10025               1113.625000             1.0  "
            ],
            "text/html": [
              "\n",
              "  <div id=\"df-555f2b91-73d8-453c-b37e-84e46d544abe\">\n",
              "    <div class=\"colab-df-container\">\n",
              "      <div>\n",
              "<style scoped>\n",
              "    .dataframe tbody tr th:only-of-type {\n",
              "        vertical-align: middle;\n",
              "    }\n",
              "\n",
              "    .dataframe tbody tr th {\n",
              "        vertical-align: top;\n",
              "    }\n",
              "\n",
              "    .dataframe thead th {\n",
              "        text-align: right;\n",
              "    }\n",
              "</style>\n",
              "<table border=\"1\" class=\"dataframe\">\n",
              "  <thead>\n",
              "    <tr style=\"text-align: right;\">\n",
              "      <th></th>\n",
              "      <th>perceding veincle time-gap</th>\n",
              "      <th>Lane of the road</th>\n",
              "      <th>veincle speed</th>\n",
              "      <th>perceding veincle speed</th>\n",
              "      <th>perceding veincle weight</th>\n",
              "      <th>perceding veincle length</th>\n",
              "      <th>road condition</th>\n",
              "    </tr>\n",
              "    <tr>\n",
              "      <th>ID</th>\n",
              "      <th></th>\n",
              "      <th></th>\n",
              "      <th></th>\n",
              "      <th></th>\n",
              "      <th></th>\n",
              "      <th></th>\n",
              "      <th></th>\n",
              "    </tr>\n",
              "  </thead>\n",
              "  <tbody>\n",
              "    <tr>\n",
              "      <th>DR_10002</th>\n",
              "      <td>234.800000</td>\n",
              "      <td>1</td>\n",
              "      <td>84.400000</td>\n",
              "      <td>77.000000</td>\n",
              "      <td>4200.400000</td>\n",
              "      <td>762.000000</td>\n",
              "      <td>0.0</td>\n",
              "    </tr>\n",
              "    <tr>\n",
              "      <th>DR_10013</th>\n",
              "      <td>173.111111</td>\n",
              "      <td>1</td>\n",
              "      <td>86.555556</td>\n",
              "      <td>85.777778</td>\n",
              "      <td>9517.888889</td>\n",
              "      <td>1184.888889</td>\n",
              "      <td>0.0</td>\n",
              "    </tr>\n",
              "    <tr>\n",
              "      <th>DR_10023</th>\n",
              "      <td>66.812500</td>\n",
              "      <td>1</td>\n",
              "      <td>83.125000</td>\n",
              "      <td>81.625000</td>\n",
              "      <td>10180.187500</td>\n",
              "      <td>1022.312500</td>\n",
              "      <td>0.0</td>\n",
              "    </tr>\n",
              "    <tr>\n",
              "      <th>DR_10024</th>\n",
              "      <td>194.166667</td>\n",
              "      <td>1</td>\n",
              "      <td>86.666667</td>\n",
              "      <td>81.500000</td>\n",
              "      <td>6366.333333</td>\n",
              "      <td>1069.666667</td>\n",
              "      <td>0.0</td>\n",
              "    </tr>\n",
              "    <tr>\n",
              "      <th>DR_10025</th>\n",
              "      <td>156.125000</td>\n",
              "      <td>1</td>\n",
              "      <td>81.500000</td>\n",
              "      <td>82.500000</td>\n",
              "      <td>10157.875000</td>\n",
              "      <td>1113.625000</td>\n",
              "      <td>1.0</td>\n",
              "    </tr>\n",
              "  </tbody>\n",
              "</table>\n",
              "</div>\n",
              "      <button class=\"colab-df-convert\" onclick=\"convertToInteractive('df-555f2b91-73d8-453c-b37e-84e46d544abe')\"\n",
              "              title=\"Convert this dataframe to an interactive table.\"\n",
              "              style=\"display:none;\">\n",
              "        \n",
              "  <svg xmlns=\"http://www.w3.org/2000/svg\" height=\"24px\"viewBox=\"0 0 24 24\"\n",
              "       width=\"24px\">\n",
              "    <path d=\"M0 0h24v24H0V0z\" fill=\"none\"/>\n",
              "    <path d=\"M18.56 5.44l.94 2.06.94-2.06 2.06-.94-2.06-.94-.94-2.06-.94 2.06-2.06.94zm-11 1L8.5 8.5l.94-2.06 2.06-.94-2.06-.94L8.5 2.5l-.94 2.06-2.06.94zm10 10l.94 2.06.94-2.06 2.06-.94-2.06-.94-.94-2.06-.94 2.06-2.06.94z\"/><path d=\"M17.41 7.96l-1.37-1.37c-.4-.4-.92-.59-1.43-.59-.52 0-1.04.2-1.43.59L10.3 9.45l-7.72 7.72c-.78.78-.78 2.05 0 2.83L4 21.41c.39.39.9.59 1.41.59.51 0 1.02-.2 1.41-.59l7.78-7.78 2.81-2.81c.8-.78.8-2.07 0-2.86zM5.41 20L4 18.59l7.72-7.72 1.47 1.35L5.41 20z\"/>\n",
              "  </svg>\n",
              "      </button>\n",
              "      \n",
              "  <style>\n",
              "    .colab-df-container {\n",
              "      display:flex;\n",
              "      flex-wrap:wrap;\n",
              "      gap: 12px;\n",
              "    }\n",
              "\n",
              "    .colab-df-convert {\n",
              "      background-color: #E8F0FE;\n",
              "      border: none;\n",
              "      border-radius: 50%;\n",
              "      cursor: pointer;\n",
              "      display: none;\n",
              "      fill: #1967D2;\n",
              "      height: 32px;\n",
              "      padding: 0 0 0 0;\n",
              "      width: 32px;\n",
              "    }\n",
              "\n",
              "    .colab-df-convert:hover {\n",
              "      background-color: #E2EBFA;\n",
              "      box-shadow: 0px 1px 2px rgba(60, 64, 67, 0.3), 0px 1px 3px 1px rgba(60, 64, 67, 0.15);\n",
              "      fill: #174EA6;\n",
              "    }\n",
              "\n",
              "    [theme=dark] .colab-df-convert {\n",
              "      background-color: #3B4455;\n",
              "      fill: #D2E3FC;\n",
              "    }\n",
              "\n",
              "    [theme=dark] .colab-df-convert:hover {\n",
              "      background-color: #434B5C;\n",
              "      box-shadow: 0px 1px 3px 1px rgba(0, 0, 0, 0.15);\n",
              "      filter: drop-shadow(0px 1px 2px rgba(0, 0, 0, 0.3));\n",
              "      fill: #FFFFFF;\n",
              "    }\n",
              "  </style>\n",
              "\n",
              "      <script>\n",
              "        const buttonEl =\n",
              "          document.querySelector('#df-555f2b91-73d8-453c-b37e-84e46d544abe button.colab-df-convert');\n",
              "        buttonEl.style.display =\n",
              "          google.colab.kernel.accessAllowed ? 'block' : 'none';\n",
              "\n",
              "        async function convertToInteractive(key) {\n",
              "          const element = document.querySelector('#df-555f2b91-73d8-453c-b37e-84e46d544abe');\n",
              "          const dataTable =\n",
              "            await google.colab.kernel.invokeFunction('convertToInteractive',\n",
              "                                                     [key], {});\n",
              "          if (!dataTable) return;\n",
              "\n",
              "          const docLinkHtml = 'Like what you see? Visit the ' +\n",
              "            '<a target=\"_blank\" href=https://colab.research.google.com/notebooks/data_table.ipynb>data table notebook</a>'\n",
              "            + ' to learn more about interactive tables.';\n",
              "          element.innerHTML = '';\n",
              "          dataTable['output_type'] = 'display_data';\n",
              "          await google.colab.output.renderOutput(dataTable, element);\n",
              "          const docLink = document.createElement('div');\n",
              "          docLink.innerHTML = docLinkHtml;\n",
              "          element.appendChild(docLink);\n",
              "        }\n",
              "      </script>\n",
              "    </div>\n",
              "  </div>\n",
              "  "
            ]
          },
          "metadata": {},
          "execution_count": 533
        }
      ],
      "source": [
        "data2_gropued.head()"
      ]
    },
    {
      "cell_type": "code",
      "execution_count": 534,
      "metadata": {
        "colab": {
          "base_uri": "https://localhost:8080/",
          "height": 237
        },
        "id": "2BUzR2GpU1ly",
        "outputId": "7b12fe4d-cc74-4549-e943-b341257bd474"
      },
      "outputs": [
        {
          "output_type": "execute_result",
          "data": {
            "text/plain": [
              "          Air temprture  perciption type  perciption intensity  \\\n",
              "ID                                                               \n",
              "DR_10002         2.2000              0.0                   0.0   \n",
              "DR_10013         4.0000              0.0                   0.0   \n",
              "DR_10023         6.0625              0.0                   0.0   \n",
              "DR_10024         5.0000              2.0                   2.0   \n",
              "DR_10025         1.0000              0.0                   0.0   \n",
              "\n",
              "          relatve humadity  wind direction  wind speed  Lighting condition  \n",
              "ID                                                                          \n",
              "DR_10002           66.6000         173.200      5.8000                 0.0  \n",
              "DR_10013           58.0000         163.000      8.0000                 2.0  \n",
              "DR_10023           34.0625         205.875      3.0625                 2.0  \n",
              "DR_10024               NaN         180.000      4.0000                 1.0  \n",
              "DR_10025           87.0000          11.000      3.0000                 2.0  "
            ],
            "text/html": [
              "\n",
              "  <div id=\"df-34a512a7-8e24-4665-924d-fa0afbf7ca76\">\n",
              "    <div class=\"colab-df-container\">\n",
              "      <div>\n",
              "<style scoped>\n",
              "    .dataframe tbody tr th:only-of-type {\n",
              "        vertical-align: middle;\n",
              "    }\n",
              "\n",
              "    .dataframe tbody tr th {\n",
              "        vertical-align: top;\n",
              "    }\n",
              "\n",
              "    .dataframe thead th {\n",
              "        text-align: right;\n",
              "    }\n",
              "</style>\n",
              "<table border=\"1\" class=\"dataframe\">\n",
              "  <thead>\n",
              "    <tr style=\"text-align: right;\">\n",
              "      <th></th>\n",
              "      <th>Air temprture</th>\n",
              "      <th>perciption type</th>\n",
              "      <th>perciption intensity</th>\n",
              "      <th>relatve humadity</th>\n",
              "      <th>wind direction</th>\n",
              "      <th>wind speed</th>\n",
              "      <th>Lighting condition</th>\n",
              "    </tr>\n",
              "    <tr>\n",
              "      <th>ID</th>\n",
              "      <th></th>\n",
              "      <th></th>\n",
              "      <th></th>\n",
              "      <th></th>\n",
              "      <th></th>\n",
              "      <th></th>\n",
              "      <th></th>\n",
              "    </tr>\n",
              "  </thead>\n",
              "  <tbody>\n",
              "    <tr>\n",
              "      <th>DR_10002</th>\n",
              "      <td>2.2000</td>\n",
              "      <td>0.0</td>\n",
              "      <td>0.0</td>\n",
              "      <td>66.6000</td>\n",
              "      <td>173.200</td>\n",
              "      <td>5.8000</td>\n",
              "      <td>0.0</td>\n",
              "    </tr>\n",
              "    <tr>\n",
              "      <th>DR_10013</th>\n",
              "      <td>4.0000</td>\n",
              "      <td>0.0</td>\n",
              "      <td>0.0</td>\n",
              "      <td>58.0000</td>\n",
              "      <td>163.000</td>\n",
              "      <td>8.0000</td>\n",
              "      <td>2.0</td>\n",
              "    </tr>\n",
              "    <tr>\n",
              "      <th>DR_10023</th>\n",
              "      <td>6.0625</td>\n",
              "      <td>0.0</td>\n",
              "      <td>0.0</td>\n",
              "      <td>34.0625</td>\n",
              "      <td>205.875</td>\n",
              "      <td>3.0625</td>\n",
              "      <td>2.0</td>\n",
              "    </tr>\n",
              "    <tr>\n",
              "      <th>DR_10024</th>\n",
              "      <td>5.0000</td>\n",
              "      <td>2.0</td>\n",
              "      <td>2.0</td>\n",
              "      <td>NaN</td>\n",
              "      <td>180.000</td>\n",
              "      <td>4.0000</td>\n",
              "      <td>1.0</td>\n",
              "    </tr>\n",
              "    <tr>\n",
              "      <th>DR_10025</th>\n",
              "      <td>1.0000</td>\n",
              "      <td>0.0</td>\n",
              "      <td>0.0</td>\n",
              "      <td>87.0000</td>\n",
              "      <td>11.000</td>\n",
              "      <td>3.0000</td>\n",
              "      <td>2.0</td>\n",
              "    </tr>\n",
              "  </tbody>\n",
              "</table>\n",
              "</div>\n",
              "      <button class=\"colab-df-convert\" onclick=\"convertToInteractive('df-34a512a7-8e24-4665-924d-fa0afbf7ca76')\"\n",
              "              title=\"Convert this dataframe to an interactive table.\"\n",
              "              style=\"display:none;\">\n",
              "        \n",
              "  <svg xmlns=\"http://www.w3.org/2000/svg\" height=\"24px\"viewBox=\"0 0 24 24\"\n",
              "       width=\"24px\">\n",
              "    <path d=\"M0 0h24v24H0V0z\" fill=\"none\"/>\n",
              "    <path d=\"M18.56 5.44l.94 2.06.94-2.06 2.06-.94-2.06-.94-.94-2.06-.94 2.06-2.06.94zm-11 1L8.5 8.5l.94-2.06 2.06-.94-2.06-.94L8.5 2.5l-.94 2.06-2.06.94zm10 10l.94 2.06.94-2.06 2.06-.94-2.06-.94-.94-2.06-.94 2.06-2.06.94z\"/><path d=\"M17.41 7.96l-1.37-1.37c-.4-.4-.92-.59-1.43-.59-.52 0-1.04.2-1.43.59L10.3 9.45l-7.72 7.72c-.78.78-.78 2.05 0 2.83L4 21.41c.39.39.9.59 1.41.59.51 0 1.02-.2 1.41-.59l7.78-7.78 2.81-2.81c.8-.78.8-2.07 0-2.86zM5.41 20L4 18.59l7.72-7.72 1.47 1.35L5.41 20z\"/>\n",
              "  </svg>\n",
              "      </button>\n",
              "      \n",
              "  <style>\n",
              "    .colab-df-container {\n",
              "      display:flex;\n",
              "      flex-wrap:wrap;\n",
              "      gap: 12px;\n",
              "    }\n",
              "\n",
              "    .colab-df-convert {\n",
              "      background-color: #E8F0FE;\n",
              "      border: none;\n",
              "      border-radius: 50%;\n",
              "      cursor: pointer;\n",
              "      display: none;\n",
              "      fill: #1967D2;\n",
              "      height: 32px;\n",
              "      padding: 0 0 0 0;\n",
              "      width: 32px;\n",
              "    }\n",
              "\n",
              "    .colab-df-convert:hover {\n",
              "      background-color: #E2EBFA;\n",
              "      box-shadow: 0px 1px 2px rgba(60, 64, 67, 0.3), 0px 1px 3px 1px rgba(60, 64, 67, 0.15);\n",
              "      fill: #174EA6;\n",
              "    }\n",
              "\n",
              "    [theme=dark] .colab-df-convert {\n",
              "      background-color: #3B4455;\n",
              "      fill: #D2E3FC;\n",
              "    }\n",
              "\n",
              "    [theme=dark] .colab-df-convert:hover {\n",
              "      background-color: #434B5C;\n",
              "      box-shadow: 0px 1px 3px 1px rgba(0, 0, 0, 0.15);\n",
              "      filter: drop-shadow(0px 1px 2px rgba(0, 0, 0, 0.3));\n",
              "      fill: #FFFFFF;\n",
              "    }\n",
              "  </style>\n",
              "\n",
              "      <script>\n",
              "        const buttonEl =\n",
              "          document.querySelector('#df-34a512a7-8e24-4665-924d-fa0afbf7ca76 button.colab-df-convert');\n",
              "        buttonEl.style.display =\n",
              "          google.colab.kernel.accessAllowed ? 'block' : 'none';\n",
              "\n",
              "        async function convertToInteractive(key) {\n",
              "          const element = document.querySelector('#df-34a512a7-8e24-4665-924d-fa0afbf7ca76');\n",
              "          const dataTable =\n",
              "            await google.colab.kernel.invokeFunction('convertToInteractive',\n",
              "                                                     [key], {});\n",
              "          if (!dataTable) return;\n",
              "\n",
              "          const docLinkHtml = 'Like what you see? Visit the ' +\n",
              "            '<a target=\"_blank\" href=https://colab.research.google.com/notebooks/data_table.ipynb>data table notebook</a>'\n",
              "            + ' to learn more about interactive tables.';\n",
              "          element.innerHTML = '';\n",
              "          dataTable['output_type'] = 'display_data';\n",
              "          await google.colab.output.renderOutput(dataTable, element);\n",
              "          const docLink = document.createElement('div');\n",
              "          docLink.innerHTML = docLinkHtml;\n",
              "          element.appendChild(docLink);\n",
              "        }\n",
              "      </script>\n",
              "    </div>\n",
              "  </div>\n",
              "  "
            ]
          },
          "metadata": {},
          "execution_count": 534
        }
      ],
      "source": [
        "data3_gropued.head()"
      ]
    },
    {
      "cell_type": "code",
      "execution_count": 535,
      "metadata": {
        "colab": {
          "base_uri": "https://localhost:8080/",
          "height": 206
        },
        "id": "AAX4GM2bU4XZ",
        "outputId": "44cf6714-bb5d-404c-8401-21e7559a3516"
      },
      "outputs": [
        {
          "output_type": "execute_result",
          "data": {
            "text/plain": [
              "         ID  veincle length  veincle weight  axles number  DrivingStyle\n",
              "0  DR_24526            1265           10243             2             2\n",
              "1  DR_30052            1680           30871             6             2\n",
              "2  DR_40928             936            3224             4             2\n",
              "3  DR_66033            1503            3315             4             2\n",
              "4  DR_45266             929            3022             4             2"
            ],
            "text/html": [
              "\n",
              "  <div id=\"df-c962ff57-8cdd-4b8b-896e-054fd3e6aaad\">\n",
              "    <div class=\"colab-df-container\">\n",
              "      <div>\n",
              "<style scoped>\n",
              "    .dataframe tbody tr th:only-of-type {\n",
              "        vertical-align: middle;\n",
              "    }\n",
              "\n",
              "    .dataframe tbody tr th {\n",
              "        vertical-align: top;\n",
              "    }\n",
              "\n",
              "    .dataframe thead th {\n",
              "        text-align: right;\n",
              "    }\n",
              "</style>\n",
              "<table border=\"1\" class=\"dataframe\">\n",
              "  <thead>\n",
              "    <tr style=\"text-align: right;\">\n",
              "      <th></th>\n",
              "      <th>ID</th>\n",
              "      <th>veincle length</th>\n",
              "      <th>veincle weight</th>\n",
              "      <th>axles number</th>\n",
              "      <th>DrivingStyle</th>\n",
              "    </tr>\n",
              "  </thead>\n",
              "  <tbody>\n",
              "    <tr>\n",
              "      <th>0</th>\n",
              "      <td>DR_24526</td>\n",
              "      <td>1265</td>\n",
              "      <td>10243</td>\n",
              "      <td>2</td>\n",
              "      <td>2</td>\n",
              "    </tr>\n",
              "    <tr>\n",
              "      <th>1</th>\n",
              "      <td>DR_30052</td>\n",
              "      <td>1680</td>\n",
              "      <td>30871</td>\n",
              "      <td>6</td>\n",
              "      <td>2</td>\n",
              "    </tr>\n",
              "    <tr>\n",
              "      <th>2</th>\n",
              "      <td>DR_40928</td>\n",
              "      <td>936</td>\n",
              "      <td>3224</td>\n",
              "      <td>4</td>\n",
              "      <td>2</td>\n",
              "    </tr>\n",
              "    <tr>\n",
              "      <th>3</th>\n",
              "      <td>DR_66033</td>\n",
              "      <td>1503</td>\n",
              "      <td>3315</td>\n",
              "      <td>4</td>\n",
              "      <td>2</td>\n",
              "    </tr>\n",
              "    <tr>\n",
              "      <th>4</th>\n",
              "      <td>DR_45266</td>\n",
              "      <td>929</td>\n",
              "      <td>3022</td>\n",
              "      <td>4</td>\n",
              "      <td>2</td>\n",
              "    </tr>\n",
              "  </tbody>\n",
              "</table>\n",
              "</div>\n",
              "      <button class=\"colab-df-convert\" onclick=\"convertToInteractive('df-c962ff57-8cdd-4b8b-896e-054fd3e6aaad')\"\n",
              "              title=\"Convert this dataframe to an interactive table.\"\n",
              "              style=\"display:none;\">\n",
              "        \n",
              "  <svg xmlns=\"http://www.w3.org/2000/svg\" height=\"24px\"viewBox=\"0 0 24 24\"\n",
              "       width=\"24px\">\n",
              "    <path d=\"M0 0h24v24H0V0z\" fill=\"none\"/>\n",
              "    <path d=\"M18.56 5.44l.94 2.06.94-2.06 2.06-.94-2.06-.94-.94-2.06-.94 2.06-2.06.94zm-11 1L8.5 8.5l.94-2.06 2.06-.94-2.06-.94L8.5 2.5l-.94 2.06-2.06.94zm10 10l.94 2.06.94-2.06 2.06-.94-2.06-.94-.94-2.06-.94 2.06-2.06.94z\"/><path d=\"M17.41 7.96l-1.37-1.37c-.4-.4-.92-.59-1.43-.59-.52 0-1.04.2-1.43.59L10.3 9.45l-7.72 7.72c-.78.78-.78 2.05 0 2.83L4 21.41c.39.39.9.59 1.41.59.51 0 1.02-.2 1.41-.59l7.78-7.78 2.81-2.81c.8-.78.8-2.07 0-2.86zM5.41 20L4 18.59l7.72-7.72 1.47 1.35L5.41 20z\"/>\n",
              "  </svg>\n",
              "      </button>\n",
              "      \n",
              "  <style>\n",
              "    .colab-df-container {\n",
              "      display:flex;\n",
              "      flex-wrap:wrap;\n",
              "      gap: 12px;\n",
              "    }\n",
              "\n",
              "    .colab-df-convert {\n",
              "      background-color: #E8F0FE;\n",
              "      border: none;\n",
              "      border-radius: 50%;\n",
              "      cursor: pointer;\n",
              "      display: none;\n",
              "      fill: #1967D2;\n",
              "      height: 32px;\n",
              "      padding: 0 0 0 0;\n",
              "      width: 32px;\n",
              "    }\n",
              "\n",
              "    .colab-df-convert:hover {\n",
              "      background-color: #E2EBFA;\n",
              "      box-shadow: 0px 1px 2px rgba(60, 64, 67, 0.3), 0px 1px 3px 1px rgba(60, 64, 67, 0.15);\n",
              "      fill: #174EA6;\n",
              "    }\n",
              "\n",
              "    [theme=dark] .colab-df-convert {\n",
              "      background-color: #3B4455;\n",
              "      fill: #D2E3FC;\n",
              "    }\n",
              "\n",
              "    [theme=dark] .colab-df-convert:hover {\n",
              "      background-color: #434B5C;\n",
              "      box-shadow: 0px 1px 3px 1px rgba(0, 0, 0, 0.15);\n",
              "      filter: drop-shadow(0px 1px 2px rgba(0, 0, 0, 0.3));\n",
              "      fill: #FFFFFF;\n",
              "    }\n",
              "  </style>\n",
              "\n",
              "      <script>\n",
              "        const buttonEl =\n",
              "          document.querySelector('#df-c962ff57-8cdd-4b8b-896e-054fd3e6aaad button.colab-df-convert');\n",
              "        buttonEl.style.display =\n",
              "          google.colab.kernel.accessAllowed ? 'block' : 'none';\n",
              "\n",
              "        async function convertToInteractive(key) {\n",
              "          const element = document.querySelector('#df-c962ff57-8cdd-4b8b-896e-054fd3e6aaad');\n",
              "          const dataTable =\n",
              "            await google.colab.kernel.invokeFunction('convertToInteractive',\n",
              "                                                     [key], {});\n",
              "          if (!dataTable) return;\n",
              "\n",
              "          const docLinkHtml = 'Like what you see? Visit the ' +\n",
              "            '<a target=\"_blank\" href=https://colab.research.google.com/notebooks/data_table.ipynb>data table notebook</a>'\n",
              "            + ' to learn more about interactive tables.';\n",
              "          element.innerHTML = '';\n",
              "          dataTable['output_type'] = 'display_data';\n",
              "          await google.colab.output.renderOutput(dataTable, element);\n",
              "          const docLink = document.createElement('div');\n",
              "          docLink.innerHTML = docLinkHtml;\n",
              "          element.appendChild(docLink);\n",
              "        }\n",
              "      </script>\n",
              "    </div>\n",
              "  </div>\n",
              "  "
            ]
          },
          "metadata": {},
          "execution_count": 535
        }
      ],
      "source": [
        "data1.head()"
      ]
    },
    {
      "cell_type": "code",
      "execution_count": 536,
      "metadata": {
        "colab": {
          "base_uri": "https://localhost:8080/"
        },
        "id": "iGdiwhhdVAmb",
        "outputId": "a39cf6f1-9445-4be9-aa5f-c850c35f2dfa"
      },
      "outputs": [
        {
          "output_type": "stream",
          "name": "stdout",
          "text": [
            "(12994, 5)\n",
            "(12994, 7)\n",
            "(12994, 7)\n"
          ]
        }
      ],
      "source": [
        "print(data1.shape)\n",
        "print(data2_gropued.shape)\n",
        "print(data3_gropued.shape)"
      ]
    },
    {
      "cell_type": "code",
      "execution_count": 537,
      "metadata": {
        "colab": {
          "base_uri": "https://localhost:8080/"
        },
        "id": "qtu6WJnlmNYx",
        "outputId": "e7fcf28a-ae00-493e-ee5f-3792c8b81599"
      },
      "outputs": [
        {
          "output_type": "execute_result",
          "data": {
            "text/plain": [
              "<bound method Series.drop_duplicates of 0        DR_24526\n",
              "1        DR_30052\n",
              "2        DR_40928\n",
              "3        DR_66033\n",
              "4        DR_45266\n",
              "           ...   \n",
              "12989    DR_61322\n",
              "12990    DR_35712\n",
              "12991    DR_61590\n",
              "12992    DR_69505\n",
              "12993    DR_56117\n",
              "Name: ID, Length: 12994, dtype: object>"
            ]
          },
          "metadata": {},
          "execution_count": 537
        }
      ],
      "source": [
        "data1['ID'].drop_duplicates"
      ]
    },
    {
      "cell_type": "code",
      "execution_count": 538,
      "metadata": {
        "id": "5Eq-_Yw5lMeA"
      },
      "outputs": [],
      "source": [
        "merged_data = pd.merge(data2_gropued,data3_gropued, on ='ID')"
      ]
    },
    {
      "cell_type": "code",
      "execution_count": 539,
      "metadata": {
        "id": "0uZI4JnhnZsN"
      },
      "outputs": [],
      "source": [
        "merged_data2 = pd.merge(data1,merged_data, on='ID')"
      ]
    },
    {
      "cell_type": "code",
      "execution_count": 540,
      "metadata": {
        "colab": {
          "base_uri": "https://localhost:8080/",
          "height": 302
        },
        "id": "xPQi3XBnngxu",
        "outputId": "a4ee1bc7-1a3e-4a0e-ae7e-c21a65a3b0fa"
      },
      "outputs": [
        {
          "output_type": "execute_result",
          "data": {
            "text/plain": [
              "         ID  veincle length  veincle weight  axles number  DrivingStyle  \\\n",
              "0  DR_24526            1265           10243             2             2   \n",
              "1  DR_30052            1680           30871             6             2   \n",
              "2  DR_40928             936            3224             4             2   \n",
              "3  DR_66033            1503            3315             4             2   \n",
              "4  DR_45266             929            3022             4             2   \n",
              "\n",
              "   perceding veincle time-gap  Lane of the road  veincle speed  \\\n",
              "0                   67.842105                 1      87.473684   \n",
              "1                  138.363636                 1      82.272727   \n",
              "2                  159.545455                 1      85.090909   \n",
              "3                  118.454545                 1      82.818182   \n",
              "4                  109.500000                 1      82.750000   \n",
              "\n",
              "   perceding veincle speed  perceding veincle weight  \\\n",
              "0                87.052632               8443.789474   \n",
              "1                86.090909               6887.000000   \n",
              "2                82.454545               4624.363636   \n",
              "3                83.727273               9229.909091   \n",
              "4                82.916667               3058.416667   \n",
              "\n",
              "   perceding veincle length  road condition  Air temprture  perciption type  \\\n",
              "0                965.473684             0.0       7.000000              0.0   \n",
              "1                920.636364             0.0       4.636364              0.0   \n",
              "2                773.909091             0.0       1.545455              1.0   \n",
              "3               1210.545455             0.0       3.545455              0.0   \n",
              "4                723.583333             0.0       3.000000              0.0   \n",
              "\n",
              "   perciption intensity  relatve humadity  wind direction  wind speed  \\\n",
              "0                   0.0         95.000000      125.157895    0.052632   \n",
              "1                   0.0         95.545455      157.818182    6.000000   \n",
              "2                   1.0         95.000000       64.454545    0.000000   \n",
              "3                   0.0         95.000000      169.727273    1.363636   \n",
              "4                   0.0         95.000000      191.000000    3.000000   \n",
              "\n",
              "   Lighting condition  \n",
              "0                 0.0  \n",
              "1                 0.0  \n",
              "2                 0.0  \n",
              "3                 0.0  \n",
              "4                 0.0  "
            ],
            "text/html": [
              "\n",
              "  <div id=\"df-5be49d87-8cde-4d8a-84e6-b191047d8f65\">\n",
              "    <div class=\"colab-df-container\">\n",
              "      <div>\n",
              "<style scoped>\n",
              "    .dataframe tbody tr th:only-of-type {\n",
              "        vertical-align: middle;\n",
              "    }\n",
              "\n",
              "    .dataframe tbody tr th {\n",
              "        vertical-align: top;\n",
              "    }\n",
              "\n",
              "    .dataframe thead th {\n",
              "        text-align: right;\n",
              "    }\n",
              "</style>\n",
              "<table border=\"1\" class=\"dataframe\">\n",
              "  <thead>\n",
              "    <tr style=\"text-align: right;\">\n",
              "      <th></th>\n",
              "      <th>ID</th>\n",
              "      <th>veincle length</th>\n",
              "      <th>veincle weight</th>\n",
              "      <th>axles number</th>\n",
              "      <th>DrivingStyle</th>\n",
              "      <th>perceding veincle time-gap</th>\n",
              "      <th>Lane of the road</th>\n",
              "      <th>veincle speed</th>\n",
              "      <th>perceding veincle speed</th>\n",
              "      <th>perceding veincle weight</th>\n",
              "      <th>perceding veincle length</th>\n",
              "      <th>road condition</th>\n",
              "      <th>Air temprture</th>\n",
              "      <th>perciption type</th>\n",
              "      <th>perciption intensity</th>\n",
              "      <th>relatve humadity</th>\n",
              "      <th>wind direction</th>\n",
              "      <th>wind speed</th>\n",
              "      <th>Lighting condition</th>\n",
              "    </tr>\n",
              "  </thead>\n",
              "  <tbody>\n",
              "    <tr>\n",
              "      <th>0</th>\n",
              "      <td>DR_24526</td>\n",
              "      <td>1265</td>\n",
              "      <td>10243</td>\n",
              "      <td>2</td>\n",
              "      <td>2</td>\n",
              "      <td>67.842105</td>\n",
              "      <td>1</td>\n",
              "      <td>87.473684</td>\n",
              "      <td>87.052632</td>\n",
              "      <td>8443.789474</td>\n",
              "      <td>965.473684</td>\n",
              "      <td>0.0</td>\n",
              "      <td>7.000000</td>\n",
              "      <td>0.0</td>\n",
              "      <td>0.0</td>\n",
              "      <td>95.000000</td>\n",
              "      <td>125.157895</td>\n",
              "      <td>0.052632</td>\n",
              "      <td>0.0</td>\n",
              "    </tr>\n",
              "    <tr>\n",
              "      <th>1</th>\n",
              "      <td>DR_30052</td>\n",
              "      <td>1680</td>\n",
              "      <td>30871</td>\n",
              "      <td>6</td>\n",
              "      <td>2</td>\n",
              "      <td>138.363636</td>\n",
              "      <td>1</td>\n",
              "      <td>82.272727</td>\n",
              "      <td>86.090909</td>\n",
              "      <td>6887.000000</td>\n",
              "      <td>920.636364</td>\n",
              "      <td>0.0</td>\n",
              "      <td>4.636364</td>\n",
              "      <td>0.0</td>\n",
              "      <td>0.0</td>\n",
              "      <td>95.545455</td>\n",
              "      <td>157.818182</td>\n",
              "      <td>6.000000</td>\n",
              "      <td>0.0</td>\n",
              "    </tr>\n",
              "    <tr>\n",
              "      <th>2</th>\n",
              "      <td>DR_40928</td>\n",
              "      <td>936</td>\n",
              "      <td>3224</td>\n",
              "      <td>4</td>\n",
              "      <td>2</td>\n",
              "      <td>159.545455</td>\n",
              "      <td>1</td>\n",
              "      <td>85.090909</td>\n",
              "      <td>82.454545</td>\n",
              "      <td>4624.363636</td>\n",
              "      <td>773.909091</td>\n",
              "      <td>0.0</td>\n",
              "      <td>1.545455</td>\n",
              "      <td>1.0</td>\n",
              "      <td>1.0</td>\n",
              "      <td>95.000000</td>\n",
              "      <td>64.454545</td>\n",
              "      <td>0.000000</td>\n",
              "      <td>0.0</td>\n",
              "    </tr>\n",
              "    <tr>\n",
              "      <th>3</th>\n",
              "      <td>DR_66033</td>\n",
              "      <td>1503</td>\n",
              "      <td>3315</td>\n",
              "      <td>4</td>\n",
              "      <td>2</td>\n",
              "      <td>118.454545</td>\n",
              "      <td>1</td>\n",
              "      <td>82.818182</td>\n",
              "      <td>83.727273</td>\n",
              "      <td>9229.909091</td>\n",
              "      <td>1210.545455</td>\n",
              "      <td>0.0</td>\n",
              "      <td>3.545455</td>\n",
              "      <td>0.0</td>\n",
              "      <td>0.0</td>\n",
              "      <td>95.000000</td>\n",
              "      <td>169.727273</td>\n",
              "      <td>1.363636</td>\n",
              "      <td>0.0</td>\n",
              "    </tr>\n",
              "    <tr>\n",
              "      <th>4</th>\n",
              "      <td>DR_45266</td>\n",
              "      <td>929</td>\n",
              "      <td>3022</td>\n",
              "      <td>4</td>\n",
              "      <td>2</td>\n",
              "      <td>109.500000</td>\n",
              "      <td>1</td>\n",
              "      <td>82.750000</td>\n",
              "      <td>82.916667</td>\n",
              "      <td>3058.416667</td>\n",
              "      <td>723.583333</td>\n",
              "      <td>0.0</td>\n",
              "      <td>3.000000</td>\n",
              "      <td>0.0</td>\n",
              "      <td>0.0</td>\n",
              "      <td>95.000000</td>\n",
              "      <td>191.000000</td>\n",
              "      <td>3.000000</td>\n",
              "      <td>0.0</td>\n",
              "    </tr>\n",
              "  </tbody>\n",
              "</table>\n",
              "</div>\n",
              "      <button class=\"colab-df-convert\" onclick=\"convertToInteractive('df-5be49d87-8cde-4d8a-84e6-b191047d8f65')\"\n",
              "              title=\"Convert this dataframe to an interactive table.\"\n",
              "              style=\"display:none;\">\n",
              "        \n",
              "  <svg xmlns=\"http://www.w3.org/2000/svg\" height=\"24px\"viewBox=\"0 0 24 24\"\n",
              "       width=\"24px\">\n",
              "    <path d=\"M0 0h24v24H0V0z\" fill=\"none\"/>\n",
              "    <path d=\"M18.56 5.44l.94 2.06.94-2.06 2.06-.94-2.06-.94-.94-2.06-.94 2.06-2.06.94zm-11 1L8.5 8.5l.94-2.06 2.06-.94-2.06-.94L8.5 2.5l-.94 2.06-2.06.94zm10 10l.94 2.06.94-2.06 2.06-.94-2.06-.94-.94-2.06-.94 2.06-2.06.94z\"/><path d=\"M17.41 7.96l-1.37-1.37c-.4-.4-.92-.59-1.43-.59-.52 0-1.04.2-1.43.59L10.3 9.45l-7.72 7.72c-.78.78-.78 2.05 0 2.83L4 21.41c.39.39.9.59 1.41.59.51 0 1.02-.2 1.41-.59l7.78-7.78 2.81-2.81c.8-.78.8-2.07 0-2.86zM5.41 20L4 18.59l7.72-7.72 1.47 1.35L5.41 20z\"/>\n",
              "  </svg>\n",
              "      </button>\n",
              "      \n",
              "  <style>\n",
              "    .colab-df-container {\n",
              "      display:flex;\n",
              "      flex-wrap:wrap;\n",
              "      gap: 12px;\n",
              "    }\n",
              "\n",
              "    .colab-df-convert {\n",
              "      background-color: #E8F0FE;\n",
              "      border: none;\n",
              "      border-radius: 50%;\n",
              "      cursor: pointer;\n",
              "      display: none;\n",
              "      fill: #1967D2;\n",
              "      height: 32px;\n",
              "      padding: 0 0 0 0;\n",
              "      width: 32px;\n",
              "    }\n",
              "\n",
              "    .colab-df-convert:hover {\n",
              "      background-color: #E2EBFA;\n",
              "      box-shadow: 0px 1px 2px rgba(60, 64, 67, 0.3), 0px 1px 3px 1px rgba(60, 64, 67, 0.15);\n",
              "      fill: #174EA6;\n",
              "    }\n",
              "\n",
              "    [theme=dark] .colab-df-convert {\n",
              "      background-color: #3B4455;\n",
              "      fill: #D2E3FC;\n",
              "    }\n",
              "\n",
              "    [theme=dark] .colab-df-convert:hover {\n",
              "      background-color: #434B5C;\n",
              "      box-shadow: 0px 1px 3px 1px rgba(0, 0, 0, 0.15);\n",
              "      filter: drop-shadow(0px 1px 2px rgba(0, 0, 0, 0.3));\n",
              "      fill: #FFFFFF;\n",
              "    }\n",
              "  </style>\n",
              "\n",
              "      <script>\n",
              "        const buttonEl =\n",
              "          document.querySelector('#df-5be49d87-8cde-4d8a-84e6-b191047d8f65 button.colab-df-convert');\n",
              "        buttonEl.style.display =\n",
              "          google.colab.kernel.accessAllowed ? 'block' : 'none';\n",
              "\n",
              "        async function convertToInteractive(key) {\n",
              "          const element = document.querySelector('#df-5be49d87-8cde-4d8a-84e6-b191047d8f65');\n",
              "          const dataTable =\n",
              "            await google.colab.kernel.invokeFunction('convertToInteractive',\n",
              "                                                     [key], {});\n",
              "          if (!dataTable) return;\n",
              "\n",
              "          const docLinkHtml = 'Like what you see? Visit the ' +\n",
              "            '<a target=\"_blank\" href=https://colab.research.google.com/notebooks/data_table.ipynb>data table notebook</a>'\n",
              "            + ' to learn more about interactive tables.';\n",
              "          element.innerHTML = '';\n",
              "          dataTable['output_type'] = 'display_data';\n",
              "          await google.colab.output.renderOutput(dataTable, element);\n",
              "          const docLink = document.createElement('div');\n",
              "          docLink.innerHTML = docLinkHtml;\n",
              "          element.appendChild(docLink);\n",
              "        }\n",
              "      </script>\n",
              "    </div>\n",
              "  </div>\n",
              "  "
            ]
          },
          "metadata": {},
          "execution_count": 540
        }
      ],
      "source": [
        "merged_data2.head()"
      ]
    },
    {
      "cell_type": "code",
      "execution_count": 541,
      "metadata": {
        "colab": {
          "base_uri": "https://localhost:8080/"
        },
        "id": "As1m9OOZnpxw",
        "outputId": "1fa429c1-8e3e-4fd8-bd13-8f7558723c59"
      },
      "outputs": [
        {
          "output_type": "execute_result",
          "data": {
            "text/plain": [
              "ID                              0\n",
              "veincle length                  0\n",
              "veincle weight                  0\n",
              "axles number                    0\n",
              "DrivingStyle                    0\n",
              "perceding veincle time-gap      0\n",
              "Lane of the road                0\n",
              "veincle speed                   0\n",
              "perceding veincle speed         0\n",
              "perceding veincle weight        0\n",
              "perceding veincle length        0\n",
              "road condition                  0\n",
              "Air temprture                   0\n",
              "perciption type                 0\n",
              "perciption intensity            0\n",
              "relatve humadity              137\n",
              "wind direction                  0\n",
              "wind speed                      0\n",
              "Lighting condition              0\n",
              "dtype: int64"
            ]
          },
          "metadata": {},
          "execution_count": 541
        }
      ],
      "source": [
        "merged_data2.isnull().sum()"
      ]
    },
    {
      "cell_type": "code",
      "execution_count": 542,
      "metadata": {
        "id": "JRsFAFQ0ZFH6"
      },
      "outputs": [],
      "source": [
        "merged_data2 = merged_data2.dropna(subset=['relatve humadity'])\n",
        "merged_data2 = merged_data2.drop('ID',axis = 1)"
      ]
    },
    {
      "cell_type": "code",
      "execution_count": 543,
      "metadata": {
        "colab": {
          "base_uri": "https://localhost:8080/"
        },
        "id": "R7zyeuZiZNeX",
        "outputId": "50019407-7f23-4bec-9830-ecceb36b0cfa"
      },
      "outputs": [
        {
          "output_type": "execute_result",
          "data": {
            "text/plain": [
              "veincle length                0\n",
              "veincle weight                0\n",
              "axles number                  0\n",
              "DrivingStyle                  0\n",
              "perceding veincle time-gap    0\n",
              "Lane of the road              0\n",
              "veincle speed                 0\n",
              "perceding veincle speed       0\n",
              "perceding veincle weight      0\n",
              "perceding veincle length      0\n",
              "road condition                0\n",
              "Air temprture                 0\n",
              "perciption type               0\n",
              "perciption intensity          0\n",
              "relatve humadity              0\n",
              "wind direction                0\n",
              "wind speed                    0\n",
              "Lighting condition            0\n",
              "dtype: int64"
            ]
          },
          "metadata": {},
          "execution_count": 543
        }
      ],
      "source": [
        "merged_data2.isnull().sum()"
      ]
    },
    {
      "cell_type": "code",
      "execution_count": 544,
      "metadata": {
        "colab": {
          "base_uri": "https://localhost:8080/"
        },
        "id": "y1-lE8TInyD6",
        "outputId": "70de352b-e9b6-42cc-e080-8789d9dc605f"
      },
      "outputs": [
        {
          "output_type": "execute_result",
          "data": {
            "text/plain": [
              "Index(['veincle length', 'veincle weight', 'axles number', 'DrivingStyle',\n",
              "       'perceding veincle time-gap', 'Lane of the road', 'veincle speed',\n",
              "       'perceding veincle speed', 'perceding veincle weight',\n",
              "       'perceding veincle length', 'road condition', 'Air temprture',\n",
              "       'perciption type', 'perciption intensity', 'relatve humadity',\n",
              "       'wind direction', 'wind speed', 'Lighting condition'],\n",
              "      dtype='object')"
            ]
          },
          "metadata": {},
          "execution_count": 544
        }
      ],
      "source": [
        "merged_data2.columns"
      ]
    },
    {
      "cell_type": "code",
      "execution_count": 545,
      "metadata": {
        "colab": {
          "base_uri": "https://localhost:8080/"
        },
        "id": "vFWy4M-6ouII",
        "outputId": "7aeaa18c-7021-4d73-fd07-dcb0cc91f5ec"
      },
      "outputs": [
        {
          "output_type": "stream",
          "name": "stdout",
          "text": [
            "<class 'pandas.core.frame.DataFrame'>\n",
            "Int64Index: 12857 entries, 0 to 12993\n",
            "Data columns (total 18 columns):\n",
            " #   Column                      Non-Null Count  Dtype  \n",
            "---  ------                      --------------  -----  \n",
            " 0   veincle length              12857 non-null  int64  \n",
            " 1   veincle weight              12857 non-null  int64  \n",
            " 2   axles number                12857 non-null  int64  \n",
            " 3   DrivingStyle                12857 non-null  int64  \n",
            " 4   perceding veincle time-gap  12857 non-null  float64\n",
            " 5   Lane of the road            12857 non-null  int64  \n",
            " 6   veincle speed               12857 non-null  float64\n",
            " 7   perceding veincle speed     12857 non-null  float64\n",
            " 8   perceding veincle weight    12857 non-null  float64\n",
            " 9   perceding veincle length    12857 non-null  float64\n",
            " 10  road condition              12857 non-null  float64\n",
            " 11  Air temprture               12857 non-null  float64\n",
            " 12  perciption type             12857 non-null  float64\n",
            " 13  perciption intensity        12857 non-null  float64\n",
            " 14  relatve humadity            12857 non-null  float64\n",
            " 15  wind direction              12857 non-null  float64\n",
            " 16  wind speed                  12857 non-null  float64\n",
            " 17  Lighting condition          12857 non-null  float64\n",
            "dtypes: float64(13), int64(5)\n",
            "memory usage: 1.9 MB\n"
          ]
        }
      ],
      "source": [
        "merged_data2.info()"
      ]
    },
    {
      "cell_type": "code",
      "execution_count": 546,
      "metadata": {
        "colab": {
          "base_uri": "https://localhost:8080/"
        },
        "id": "FXiI8l32plsQ",
        "outputId": "f4b79afa-90c2-4a67-e0e5-73fd31a519eb"
      },
      "outputs": [
        {
          "output_type": "execute_result",
          "data": {
            "text/plain": [
              "(12857, 18)"
            ]
          },
          "metadata": {},
          "execution_count": 546
        }
      ],
      "source": [
        "merged_data2.shape"
      ]
    },
    {
      "cell_type": "markdown",
      "metadata": {
        "id": "YTj4Rl3bPeZI"
      },
      "source": [
        "# **Building differnent models and see which is the best model for the dataset**"
      ]
    },
    {
      "cell_type": "code",
      "execution_count": 547,
      "metadata": {
        "colab": {
          "base_uri": "https://localhost:8080/",
          "height": 1000
        },
        "id": "5kPivhsyZwgZ",
        "outputId": "77479f3e-3d40-4395-eec5-e148d4edb654"
      },
      "outputs": [
        {
          "output_type": "stream",
          "name": "stdout",
          "text": [
            "---------------------------------\n",
            "---------------------------------\n",
            "[2 1 3 ... 1 2 2]\n",
            "accuracy = 0.7537265068049255\n",
            "f1 score = 0.7271177920364611\n",
            "precision = 0.7279622819424799\n",
            "recall =  0.7279278283119267\n",
            "---------------------------------\n",
            "---------------------------------\n",
            "[2 1 3 ... 1 2 2]\n",
            "accuracy = 0.7524303305249513\n",
            "f1 score = 0.7246612727865599\n",
            "precision = 0.7260060102562248\n",
            "recall =  0.7253349706009588\n",
            "---------------------------------\n",
            "---------------------------------\n",
            "[2 2 3 ... 1 2 2]\n",
            "accuracy = 0.7511341542449773\n",
            "f1 score = 0.7241839373058282\n",
            "precision = 0.7259821110359103\n",
            "recall =  0.7247617329430275\n",
            "---------------------------------\n",
            "---------------------------------\n",
            "[2 1 3 ... 1 2 2]\n",
            "accuracy = 0.7498379779650033\n",
            "f1 score = 0.7212090338056719\n",
            "precision = 0.7238769763029267\n",
            "recall =  0.7209929135798158\n",
            "---------------------------------\n",
            "---------------------------------\n",
            "[2 1 3 ... 1 2 2]\n",
            "accuracy = 0.7427090084251459\n",
            "f1 score = 0.7138806065469496\n",
            "precision = 0.7164585244560203\n",
            "recall =  0.7135887393233274\n",
            "---------------------------------\n",
            "---------------------------------\n",
            "[2 2 3 ... 1 2 2]\n",
            "accuracy = 0.7556707712248866\n",
            "f1 score = 0.7291761204965087\n",
            "precision = 0.731979112823502\n",
            "recall =  0.7286981588498778\n",
            "---------------------------------\n",
            "---------------------------------\n",
            "[3 1 3 ... 1 2 2]\n",
            "accuracy = 0.7524303305249513\n",
            "f1 score = 0.726333906864185\n",
            "precision = 0.7289085455602176\n",
            "recall =  0.7258769760210129\n",
            "---------------------------------\n",
            "---------------------------------\n",
            "[3 2 3 ... 1 2 2]\n",
            "accuracy = 0.7478937135450421\n",
            "f1 score = 0.7194554896693015\n",
            "precision = 0.7214929729184897\n",
            "recall =  0.7193789246410717\n",
            "---------------------------------\n",
            "---------------------------------\n",
            "[2 2 3 ... 1 2 2]\n",
            "accuracy = 0.7485418016850292\n",
            "f1 score = 0.7199519489403925\n",
            "precision = 0.7215982296300499\n",
            "recall =  0.7204503261925962\n",
            "---------------------------------\n",
            "---------------------------------\n",
            "[3 2 3 ... 1 2 2]\n",
            "accuracy = 0.7543745949449125\n",
            "f1 score = 0.7292500809771818\n",
            "precision = 0.7300312697631931\n",
            "recall =  0.7300832407035595\n",
            "---------------------------------\n",
            "---------------------------------\n",
            "---------------------------------\n",
            "---------------------------------\n",
            "average acc= 0.7508749189889825\n",
            "average pre= 0.7254296034689015\n",
            "average rec= 0.7237093811167175\n",
            "average f1= 0.723522018942904\n"
          ]
        },
        {
          "output_type": "display_data",
          "data": {
            "text/plain": [
              "<Figure size 432x288 with 2 Axes>"
            ],
            "image/png": "[encoded data removed]"
          },
          "metadata": {
            "needs_background": "light"
          }
        },
        {
          "output_type": "execute_result",
          "data": {
            "text/plain": [
              "           random forest\n",
              "accuracy        0.750875\n",
              "f1              0.723522\n",
              "presicion       0.725430\n",
              "recaill         0.723709"
            ],
            "text/html": [
              "\n",
              "  <div id=\"df-b03f5ce1-a1c2-4e6e-ad29-bdb10db1681c\">\n",
              "    <div class=\"colab-df-container\">\n",
              "      <div>\n",
              "<style scoped>\n",
              "    .dataframe tbody tr th:only-of-type {\n",
              "        vertical-align: middle;\n",
              "    }\n",
              "\n",
              "    .dataframe tbody tr th {\n",
              "        vertical-align: top;\n",
              "    }\n",
              "\n",
              "    .dataframe thead th {\n",
              "        text-align: right;\n",
              "    }\n",
              "</style>\n",
              "<table border=\"1\" class=\"dataframe\">\n",
              "  <thead>\n",
              "    <tr style=\"text-align: right;\">\n",
              "      <th></th>\n",
              "      <th>random forest</th>\n",
              "    </tr>\n",
              "  </thead>\n",
              "  <tbody>\n",
              "    <tr>\n",
              "      <th>accuracy</th>\n",
              "      <td>0.750875</td>\n",
              "    </tr>\n",
              "    <tr>\n",
              "      <th>f1</th>\n",
              "      <td>0.723522</td>\n",
              "    </tr>\n",
              "    <tr>\n",
              "      <th>presicion</th>\n",
              "      <td>0.725430</td>\n",
              "    </tr>\n",
              "    <tr>\n",
              "      <th>recaill</th>\n",
              "      <td>0.723709</td>\n",
              "    </tr>\n",
              "  </tbody>\n",
              "</table>\n",
              "</div>\n",
              "      <button class=\"colab-df-convert\" onclick=\"convertToInteractive('df-b03f5ce1-a1c2-4e6e-ad29-bdb10db1681c')\"\n",
              "              title=\"Convert this dataframe to an interactive table.\"\n",
              "              style=\"display:none;\">\n",
              "        \n",
              "  <svg xmlns=\"http://www.w3.org/2000/svg\" height=\"24px\"viewBox=\"0 0 24 24\"\n",
              "       width=\"24px\">\n",
              "    <path d=\"M0 0h24v24H0V0z\" fill=\"none\"/>\n",
              "    <path d=\"M18.56 5.44l.94 2.06.94-2.06 2.06-.94-2.06-.94-.94-2.06-.94 2.06-2.06.94zm-11 1L8.5 8.5l.94-2.06 2.06-.94-2.06-.94L8.5 2.5l-.94 2.06-2.06.94zm10 10l.94 2.06.94-2.06 2.06-.94-2.06-.94-.94-2.06-.94 2.06-2.06.94z\"/><path d=\"M17.41 7.96l-1.37-1.37c-.4-.4-.92-.59-1.43-.59-.52 0-1.04.2-1.43.59L10.3 9.45l-7.72 7.72c-.78.78-.78 2.05 0 2.83L4 21.41c.39.39.9.59 1.41.59.51 0 1.02-.2 1.41-.59l7.78-7.78 2.81-2.81c.8-.78.8-2.07 0-2.86zM5.41 20L4 18.59l7.72-7.72 1.47 1.35L5.41 20z\"/>\n",
              "  </svg>\n",
              "      </button>\n",
              "      \n",
              "  <style>\n",
              "    .colab-df-container {\n",
              "      display:flex;\n",
              "      flex-wrap:wrap;\n",
              "      gap: 12px;\n",
              "    }\n",
              "\n",
              "    .colab-df-convert {\n",
              "      background-color: #E8F0FE;\n",
              "      border: none;\n",
              "      border-radius: 50%;\n",
              "      cursor: pointer;\n",
              "      display: none;\n",
              "      fill: #1967D2;\n",
              "      height: 32px;\n",
              "      padding: 0 0 0 0;\n",
              "      width: 32px;\n",
              "    }\n",
              "\n",
              "    .colab-df-convert:hover {\n",
              "      background-color: #E2EBFA;\n",
              "      box-shadow: 0px 1px 2px rgba(60, 64, 67, 0.3), 0px 1px 3px 1px rgba(60, 64, 67, 0.15);\n",
              "      fill: #174EA6;\n",
              "    }\n",
              "\n",
              "    [theme=dark] .colab-df-convert {\n",
              "      background-color: #3B4455;\n",
              "      fill: #D2E3FC;\n",
              "    }\n",
              "\n",
              "    [theme=dark] .colab-df-convert:hover {\n",
              "      background-color: #434B5C;\n",
              "      box-shadow: 0px 1px 3px 1px rgba(0, 0, 0, 0.15);\n",
              "      filter: drop-shadow(0px 1px 2px rgba(0, 0, 0, 0.3));\n",
              "      fill: #FFFFFF;\n",
              "    }\n",
              "  </style>\n",
              "\n",
              "      <script>\n",
              "        const buttonEl =\n",
              "          document.querySelector('#df-b03f5ce1-a1c2-4e6e-ad29-bdb10db1681c button.colab-df-convert');\n",
              "        buttonEl.style.display =\n",
              "          google.colab.kernel.accessAllowed ? 'block' : 'none';\n",
              "\n",
              "        async function convertToInteractive(key) {\n",
              "          const element = document.querySelector('#df-b03f5ce1-a1c2-4e6e-ad29-bdb10db1681c');\n",
              "          const dataTable =\n",
              "            await google.colab.kernel.invokeFunction('convertToInteractive',\n",
              "                                                     [key], {});\n",
              "          if (!dataTable) return;\n",
              "\n",
              "          const docLinkHtml = 'Like what you see? Visit the ' +\n",
              "            '<a target=\"_blank\" href=https://colab.research.google.com/notebooks/data_table.ipynb>data table notebook</a>'\n",
              "            + ' to learn more about interactive tables.';\n",
              "          element.innerHTML = '';\n",
              "          dataTable['output_type'] = 'display_data';\n",
              "          await google.colab.output.renderOutput(dataTable, element);\n",
              "          const docLink = document.createElement('div');\n",
              "          docLink.innerHTML = docLinkHtml;\n",
              "          element.appendChild(docLink);\n",
              "        }\n",
              "      </script>\n",
              "    </div>\n",
              "  </div>\n",
              "  "
            ]
          },
          "metadata": {},
          "execution_count": 547
        }
      ],
      "source": [
        "X = merged_data2.drop('DrivingStyle' , axis = 1)\n",
        "y = merged_data2['DrivingStyle']\n",
        "x_train,x_test,y_train,y_test=train_test_split(X,y,test_size=0.12,random_state=123)\n",
        "avgList = []\n",
        "preList = []\n",
        "recList = []\n",
        "f1List = []\n",
        "for x in range(10):\n",
        "\n",
        "  clf2=RandomForestClassifier(n_estimators=150,max_depth=100,min_samples_split=3,oob_score=True)\n",
        "  clf2.fit(x_train,y_train)\n",
        "  y_pred = clf2.predict(x_test)\n",
        "  print(\"---------------------------------\")\n",
        "  print(\"---------------------------------\")\n",
        "  print(y_pred)\n",
        "\n",
        "  print(\"accuracy =\" ,met.accuracy_score(y_test,y_pred))\n",
        "  print(\"f1 score =\" ,met.f1_score(y_test,y_pred,average='macro'))\n",
        "  print(\"precision =\",met.precision_score(y_test,y_pred,average='macro'))\n",
        "  print(\"recall = \",met.recall_score(y_test,y_pred,average='macro'))\n",
        "\n",
        "  avgList.append(met.accuracy_score(y_test,y_pred))\n",
        "  preList.append(met.precision_score(y_test,y_pred,average='macro'))\n",
        "  recList.append(met.recall_score(y_test,y_pred,average='macro'))\n",
        "  f1List.append(met.f1_score(y_test,y_pred,average='macro'))\n",
        "\n",
        "print(\"---------------------------------\")\n",
        "print(\"---------------------------------\")\n",
        "print(\"---------------------------------\")\n",
        "print(\"---------------------------------\")\n",
        "\n",
        "print(\"average acc=\" ,sum(avgList)/len(avgList))\n",
        "print(\"average pre=\" ,sum(preList)/len(preList))\n",
        "print(\"average rec=\" ,sum(recList)/len(recList))\n",
        "print(\"average f1=\" ,sum(f1List)/len(f1List))\n",
        "\n",
        "\n",
        "ConfusionMatrixDisplay.from_predictions(y_test, y_pred)\n",
        "plt.show()\n",
        "\n",
        "average_acc= sum(avgList)/len(avgList)\n",
        "average_pre=sum(preList)/len(preList)\n",
        "average_rec=sum(recList)/len(recList)\n",
        "average_f1=sum(f1List)/len(f1List)\n",
        "models = {'random forest':{'accuracy':average_acc ,'presicion': average_pre, 'recaill':average_rec, 'f1':average_f1}}\n",
        "data_models = pd.DataFrame(data=models)\n",
        "data_models.head()"
      ]
    },
    {
      "cell_type": "code",
      "execution_count": 548,
      "metadata": {
        "colab": {
          "base_uri": "https://localhost:8080/",
          "height": 297
        },
        "id": "JDxVfVLOtlxN",
        "outputId": "3cb2e8a7-09eb-4253-d71c-41af8b3719a8"
      },
      "outputs": [
        {
          "output_type": "display_data",
          "data": {
            "text/plain": [
              "<Figure size 432x288 with 1 Axes>"
            ],
            "image/png": "[encoded data removed]"
          },
          "metadata": {
            "needs_background": "light"
          }
        }
      ],
      "source": [
        "import numpy as np\n",
        "importances = clf2.feature_importances_\n",
        "sorted_indices = np.argsort(importances)[::-1]\n",
        "feat_labels = X.columns[1:]\n",
        "\n",
        "plt.title('Feature Importance')\n",
        "plt.bar(range(x_train.shape[1]), importances[sorted_indices], align='center')\n",
        "plt.xticks(range(x_train.shape[1]), x_train.columns[sorted_indices], rotation=90)\n",
        "plt.tight_layout()\n",
        "plt.show()"
      ]
    },
    {
      "cell_type": "code",
      "execution_count": 549,
      "metadata": {
        "colab": {
          "base_uri": "https://localhost:8080/"
        },
        "id": "skEOiV9a8Wsg",
        "outputId": "1b5d2c4a-308d-4872-8797-9234e85417bd"
      },
      "outputs": [
        {
          "output_type": "stream",
          "name": "stdout",
          "text": [
            "[0.14237331 0.13539163 0.09828783 0.07474646 0.06972877 0.06959515\n",
            " 0.06438366 0.06061531 0.05685869 0.05607809 0.05462007 0.05269506\n",
            " 0.03715527 0.0184509  0.00354503 0.00304904 0.00242572]\n"
          ]
        }
      ],
      "source": [
        "print(importances[sorted_indices])"
      ]
    },
    {
      "cell_type": "code",
      "execution_count": 550,
      "metadata": {
        "colab": {
          "base_uri": "https://localhost:8080/",
          "height": 1000
        },
        "id": "kKyFRbI-uXRs",
        "outputId": "7a92acf9-7e41-444e-8c54-0b00165d6ae0"
      },
      "outputs": [
        {
          "output_type": "stream",
          "name": "stdout",
          "text": [
            "---------------------------------\n",
            "---------------------------------\n",
            "[2 2 3 ... 1 2 2]\n",
            "accuracy = 0.7491898898250162\n",
            "f1 score = 0.7194690615885514\n",
            "precision = 0.7241671963898272\n",
            "recall =  0.7186277990195794\n",
            "---------------------------------\n",
            "---------------------------------\n",
            "[2 2 3 ... 1 2 2]\n",
            "accuracy = 0.7453013609850939\n",
            "f1 score = 0.7147170729265456\n",
            "precision = 0.7174415029387197\n",
            "recall =  0.7147965151806135\n",
            "---------------------------------\n",
            "---------------------------------\n",
            "[2 1 3 ... 1 2 2]\n",
            "accuracy = 0.745949449125081\n",
            "f1 score = 0.7177788063348776\n",
            "precision = 0.7202364564823119\n",
            "recall =  0.7171922800115618\n",
            "---------------------------------\n",
            "---------------------------------\n",
            "[3 1 3 ... 1 2 2]\n",
            "accuracy = 0.7498379779650033\n",
            "f1 score = 0.7201226564438432\n",
            "precision = 0.7237900915066269\n",
            "recall =  0.7195765994882569\n",
            "---------------------------------\n",
            "---------------------------------\n",
            "[3 2 3 ... 1 2 2]\n",
            "accuracy = 0.7453013609850939\n",
            "f1 score = 0.7175776293302779\n",
            "precision = 0.7193673321197146\n",
            "recall =  0.7179307963444703\n",
            "---------------------------------\n",
            "---------------------------------\n",
            "[2 2 3 ... 1 2 2]\n",
            "accuracy = 0.7485418016850292\n",
            "f1 score = 0.7217487252249688\n",
            "precision = 0.7237762808876184\n",
            "recall =  0.7218359900134436\n",
            "---------------------------------\n",
            "---------------------------------\n",
            "[2 2 3 ... 1 2 2]\n",
            "accuracy = 0.7407647440051847\n",
            "f1 score = 0.7137505667589877\n",
            "precision = 0.7144929133652814\n",
            "recall =  0.7145363758576742\n",
            "---------------------------------\n",
            "---------------------------------\n",
            "[2 2 3 ... 1 2 2]\n",
            "accuracy = 0.745949449125081\n",
            "f1 score = 0.7181712803496131\n",
            "precision = 0.7194787967306556\n",
            "recall =  0.7186698946445441\n",
            "---------------------------------\n",
            "---------------------------------\n",
            "[2 2 3 ... 1 2 2]\n",
            "accuracy = 0.7485418016850292\n",
            "f1 score = 0.7222479563835632\n",
            "precision = 0.7222901975067231\n",
            "recall =  0.7239169106079034\n",
            "---------------------------------\n",
            "---------------------------------\n",
            "[2 2 3 ... 1 2 2]\n",
            "accuracy = 0.7517822423849644\n",
            "f1 score = 0.725724154107286\n",
            "precision = 0.7276084112903537\n",
            "recall =  0.7257411836824167\n",
            "---------------------------------\n",
            "---------------------------------\n",
            "---------------------------------\n",
            "---------------------------------\n"
          ]
        },
        {
          "output_type": "display_data",
          "data": {
            "text/plain": [
              "<Figure size 432x288 with 2 Axes>"
            ],
            "image/png": "[encoded data removed]"
          },
          "metadata": {
            "needs_background": "light"
          }
        }
      ],
      "source": [
        "X = merged_data2.drop(['DrivingStyle','perciption type','perciption intensity','Lane of the road'] , axis = 1)\n",
        "y = merged_data2['DrivingStyle']\n",
        "x_train,x_test,y_train,y_test=train_test_split(X,y,test_size=0.12,random_state=123)\n",
        "avgList = []\n",
        "for x in range(10):\n",
        "  clf2=RandomForestClassifier(n_estimators=150,max_depth=100,min_samples_split=3,oob_score=True)\n",
        "  clf2.fit(x_train,y_train)\n",
        "  y_pred = clf2.predict(x_test)\n",
        "  print(\"---------------------------------\")\n",
        "  print(\"---------------------------------\")\n",
        "  print(y_pred)\n",
        "  print(\"accuracy =\" ,met.accuracy_score(y_test,y_pred))\n",
        "  print(\"f1 score =\" ,met.f1_score(y_test,y_pred,average='macro'))\n",
        "  print(\"precision =\",met.precision_score(y_test,y_pred,average='macro'))\n",
        "  print(\"recall = \",met.recall_score(y_test,y_pred,average='macro'))\n",
        "  avgList.append(met.accuracy_score(y_test,y_pred))\n",
        "print(\"---------------------------------\")\n",
        "print(\"---------------------------------\")\n",
        "print(\"---------------------------------\")\n",
        "print(\"---------------------------------\")\n",
        "\n",
        "ConfusionMatrixDisplay.from_predictions(y_test, y_pred)\n",
        "plt.show()\n"
      ]
    },
    {
      "cell_type": "code",
      "execution_count": 551,
      "metadata": {
        "colab": {
          "base_uri": "https://localhost:8080/",
          "height": 1000
        },
        "id": "ZNWlzgnqdTXl",
        "outputId": "25b3a455-fc3e-4e85-e561-eff8e97fb072"
      },
      "outputs": [
        {
          "output_type": "stream",
          "name": "stdout",
          "text": [
            "---------------------------------\n",
            "---------------------------------\n",
            "[1 2 2 ... 2 2 2]\n",
            "accuracy = 0.7206740116655865\n",
            "precision = 0.784109636568653\n",
            "recall = 0.7203618671834535\n",
            "f1 = 0.6795677326353325\n",
            "--------------------------------------\n",
            "--------------------------------------\n",
            "--------------------------------------\n",
            "---------------------------------\n",
            "---------------------------------\n",
            "[1 2 2 ... 2 2 2]\n",
            "accuracy = 0.7206740116655865\n",
            "precision = 0.784109636568653\n",
            "recall = 0.7203618671834535\n",
            "f1 = 0.6795677326353325\n",
            "--------------------------------------\n",
            "--------------------------------------\n",
            "--------------------------------------\n",
            "---------------------------------\n",
            "---------------------------------\n",
            "[1 2 2 ... 2 2 2]\n",
            "accuracy = 0.7206740116655865\n",
            "precision = 0.784109636568653\n",
            "recall = 0.7203618671834535\n",
            "f1 = 0.6795677326353325\n",
            "--------------------------------------\n",
            "--------------------------------------\n",
            "--------------------------------------\n",
            "---------------------------------\n",
            "---------------------------------\n",
            "[1 2 2 ... 2 2 2]\n",
            "accuracy = 0.7206740116655865\n",
            "precision = 0.784109636568653\n",
            "recall = 0.7203618671834535\n",
            "f1 = 0.6795677326353325\n",
            "--------------------------------------\n",
            "--------------------------------------\n",
            "--------------------------------------\n",
            "---------------------------------\n",
            "---------------------------------\n",
            "[1 2 2 ... 2 2 2]\n",
            "accuracy = 0.7206740116655865\n",
            "precision = 0.784109636568653\n",
            "recall = 0.7203618671834535\n",
            "f1 = 0.6795677326353325\n",
            "--------------------------------------\n",
            "--------------------------------------\n",
            "--------------------------------------\n",
            "---------------------------------\n",
            "---------------------------------\n",
            "[1 2 2 ... 2 2 2]\n",
            "accuracy = 0.7206740116655865\n",
            "precision = 0.784109636568653\n",
            "recall = 0.7203618671834535\n",
            "f1 = 0.6795677326353325\n",
            "--------------------------------------\n",
            "--------------------------------------\n",
            "--------------------------------------\n",
            "---------------------------------\n",
            "---------------------------------\n",
            "[1 2 2 ... 2 2 2]\n",
            "accuracy = 0.7206740116655865\n",
            "precision = 0.784109636568653\n",
            "recall = 0.7203618671834535\n",
            "f1 = 0.6795677326353325\n",
            "--------------------------------------\n",
            "--------------------------------------\n",
            "--------------------------------------\n",
            "---------------------------------\n",
            "---------------------------------\n",
            "[1 2 2 ... 2 2 2]\n",
            "accuracy = 0.7206740116655865\n",
            "precision = 0.784109636568653\n",
            "recall = 0.7203618671834535\n",
            "f1 = 0.6795677326353325\n",
            "--------------------------------------\n",
            "--------------------------------------\n",
            "--------------------------------------\n",
            "---------------------------------\n",
            "---------------------------------\n",
            "[1 2 2 ... 2 2 2]\n",
            "accuracy = 0.7206740116655865\n",
            "precision = 0.784109636568653\n",
            "recall = 0.7203618671834535\n",
            "f1 = 0.6795677326353325\n",
            "--------------------------------------\n",
            "--------------------------------------\n",
            "--------------------------------------\n",
            "---------------------------------\n",
            "---------------------------------\n",
            "[1 2 2 ... 2 2 2]\n",
            "accuracy = 0.7206740116655865\n",
            "precision = 0.784109636568653\n",
            "recall = 0.7203618671834535\n",
            "f1 = 0.6795677326353325\n",
            "--------------------------------------\n",
            "--------------------------------------\n",
            "--------------------------------------\n",
            "---------------------------------\n",
            "---------------------------------\n",
            "---------------------------------\n",
            "---------------------------------\n",
            "average acc= 0.7206740116655865\n",
            "average pre= 0.784109636568653\n",
            "average rec= 0.7203618671834535\n",
            "average f1= 0.6795677326353325\n"
          ]
        },
        {
          "output_type": "display_data",
          "data": {
            "text/plain": [
              "<Figure size 432x288 with 2 Axes>"
            ],
            "image/png": "[encoded data removed]"
          },
          "metadata": {
            "needs_background": "light"
          }
        }
      ],
      "source": [
        "X = merged_data2.drop('DrivingStyle' , axis = 1)\n",
        "y = merged_data2['DrivingStyle']\n",
        "x_train,x_test,y_train,y_test=train_test_split(X,y,test_size=0.12,random_state=123)\n",
        "\n",
        "avgList = []\n",
        "preList = []\n",
        "recList = []\n",
        "f1List = []\n",
        "\n",
        "for x in range(10):\n",
        "\n",
        "  neigh = KNeighborsClassifier(n_neighbors=2,leaf_size=30,p=2,algorithm='ball_tree')\n",
        "  neigh.fit(x_test, y_test)\n",
        "  y_pred = neigh.predict(x_test)\n",
        "\n",
        "  print(\"---------------------------------\")\n",
        "  print(\"---------------------------------\")\n",
        "  print(y_pred)\n",
        "\n",
        "  print('accuracy =', met.accuracy_score(y_test,y_pred))\n",
        "  print('precision =',met.precision_score(y_test,y_pred,average='macro'))\n",
        "  print('recall =',met.recall_score(y_test,y_pred,average='macro'))\n",
        "  print('f1 =',met.f1_score(y_test,y_pred,average='macro'))\n",
        "\n",
        "  print('--------------------------------------')\n",
        "  print('--------------------------------------') \n",
        "  print('--------------------------------------')\n",
        "\n",
        "  avgList.append(met.accuracy_score(y_test,y_pred))\n",
        "  preList.append(met.precision_score(y_test,y_pred,average='macro'))\n",
        "  recList.append(met.recall_score(y_test,y_pred,average='macro'))\n",
        "  f1List.append(met.f1_score(y_test,y_pred,average='macro'))\n",
        "\n",
        "print(\"---------------------------------\")\n",
        "print(\"---------------------------------\")\n",
        "print(\"---------------------------------\")\n",
        "print(\"---------------------------------\")\n",
        "\n",
        "print(\"average acc=\" ,sum(avgList)/len(avgList))\n",
        "print(\"average pre=\" ,sum(preList)/len(preList))\n",
        "print(\"average rec=\" ,sum(recList)/len(recList))\n",
        "print(\"average f1=\" ,sum(f1List)/len(f1List))\n",
        "\n",
        "ConfusionMatrixDisplay.from_predictions(y_test, y_pred)\n",
        "plt.show()\n",
        "\n",
        "average_acc= sum(avgList)/len(avgList)\n",
        "average_pre=sum(preList)/len(preList)\n",
        "average_rec=sum(recList)/len(recList)\n",
        "average_f1=sum(f1List)/len(f1List)\n",
        "models3= [average_acc , average_pre, average_rec, average_f1]\n",
        "data_models['knn'] = models3"
      ]
    },
    {
      "cell_type": "code",
      "execution_count": 552,
      "metadata": {
        "colab": {
          "base_uri": "https://localhost:8080/",
          "height": 1000
        },
        "id": "oxVoy8Pedicy",
        "outputId": "617ca438-edc9-4677-f637-ffb36a7b73e1"
      },
      "outputs": [
        {
          "output_type": "stream",
          "name": "stdout",
          "text": [
            "---------------------------------\n",
            "---------------------------------\n",
            "[2 2 3 ... 1 2 2]\n",
            "accuracy = 0.7368762151652625\n",
            "precision = 0.7184364631972123\n",
            "recall = 0.6908718450105046\n",
            "f1 = 0.696566137985284\n",
            "--------------------------------------\n",
            "--------------------------------------\n",
            "--------------------------------------\n",
            "---------------------------------\n",
            "---------------------------------\n",
            "[2 2 3 ... 1 2 2]\n",
            "accuracy = 0.7368762151652625\n",
            "precision = 0.7184364631972123\n",
            "recall = 0.6908718450105046\n",
            "f1 = 0.696566137985284\n",
            "--------------------------------------\n",
            "--------------------------------------\n",
            "--------------------------------------\n",
            "---------------------------------\n",
            "---------------------------------\n",
            "[2 2 3 ... 1 2 2]\n",
            "accuracy = 0.7368762151652625\n",
            "precision = 0.7184364631972123\n",
            "recall = 0.6908718450105046\n",
            "f1 = 0.696566137985284\n",
            "--------------------------------------\n",
            "--------------------------------------\n",
            "--------------------------------------\n",
            "---------------------------------\n",
            "---------------------------------\n",
            "[2 2 3 ... 1 2 2]\n",
            "accuracy = 0.7368762151652625\n",
            "precision = 0.7184364631972123\n",
            "recall = 0.6908718450105046\n",
            "f1 = 0.696566137985284\n",
            "--------------------------------------\n",
            "--------------------------------------\n",
            "--------------------------------------\n",
            "---------------------------------\n",
            "---------------------------------\n",
            "[2 2 3 ... 1 2 2]\n",
            "accuracy = 0.7368762151652625\n",
            "precision = 0.7184364631972123\n",
            "recall = 0.6908718450105046\n",
            "f1 = 0.696566137985284\n",
            "--------------------------------------\n",
            "--------------------------------------\n",
            "--------------------------------------\n",
            "---------------------------------\n",
            "---------------------------------\n",
            "[2 2 3 ... 1 2 2]\n",
            "accuracy = 0.7368762151652625\n",
            "precision = 0.7184364631972123\n",
            "recall = 0.6908718450105046\n",
            "f1 = 0.696566137985284\n",
            "--------------------------------------\n",
            "--------------------------------------\n",
            "--------------------------------------\n",
            "---------------------------------\n",
            "---------------------------------\n",
            "[2 2 3 ... 1 2 2]\n",
            "accuracy = 0.7368762151652625\n",
            "precision = 0.7184364631972123\n",
            "recall = 0.6908718450105046\n",
            "f1 = 0.696566137985284\n",
            "--------------------------------------\n",
            "--------------------------------------\n",
            "--------------------------------------\n",
            "---------------------------------\n",
            "---------------------------------\n",
            "[2 2 3 ... 1 2 2]\n",
            "accuracy = 0.7368762151652625\n",
            "precision = 0.7184364631972123\n",
            "recall = 0.6908718450105046\n",
            "f1 = 0.696566137985284\n",
            "--------------------------------------\n",
            "--------------------------------------\n",
            "--------------------------------------\n",
            "---------------------------------\n",
            "---------------------------------\n",
            "[2 2 3 ... 1 2 2]\n",
            "accuracy = 0.7368762151652625\n",
            "precision = 0.7184364631972123\n",
            "recall = 0.6908718450105046\n",
            "f1 = 0.696566137985284\n",
            "--------------------------------------\n",
            "--------------------------------------\n",
            "--------------------------------------\n",
            "---------------------------------\n",
            "---------------------------------\n",
            "[2 2 3 ... 1 2 2]\n",
            "accuracy = 0.7368762151652625\n",
            "precision = 0.7184364631972123\n",
            "recall = 0.6908718450105046\n",
            "f1 = 0.696566137985284\n",
            "--------------------------------------\n",
            "--------------------------------------\n",
            "--------------------------------------\n",
            "---------------------------------\n",
            "---------------------------------\n",
            "---------------------------------\n",
            "---------------------------------\n",
            "average acc= 0.7368762151652624\n",
            "average pre= 0.7184364631972124\n",
            "average rec= 0.6908718450105046\n",
            "average f1= 0.6965661379852841\n"
          ]
        },
        {
          "output_type": "display_data",
          "data": {
            "text/plain": [
              "<Figure size 432x288 with 2 Axes>"
            ],
            "image/png": "[encoded data removed]"
          },
          "metadata": {
            "needs_background": "light"
          }
        }
      ],
      "source": [
        "from sklearn.pipeline import make_pipeline\n",
        "from sklearn.svm import SVC\n",
        "\n",
        "avgList = []\n",
        "preList = []\n",
        "recList = []\n",
        "f1List = []\n",
        "\n",
        "for x in range(10):\n",
        "  clf2 = make_pipeline(StandardScaler(), SVC(gamma='auto'))\n",
        "  clf2.fit(X, y)\n",
        "  y_pred = clf2.predict(x_test)\n",
        "\n",
        "  print(\"---------------------------------\")\n",
        "  print(\"---------------------------------\")\n",
        "  print(y_pred)\n",
        "\n",
        "  print('accuracy =', met.accuracy_score(y_test,y_pred))\n",
        "  print('precision =',met.precision_score(y_test,y_pred,average='macro'))\n",
        "  print('recall =',met.recall_score(y_test,y_pred,average='macro'))\n",
        "  print('f1 =',met.f1_score(y_test,y_pred,average='macro'))\n",
        "\n",
        "  print('--------------------------------------')\n",
        "  print('--------------------------------------') \n",
        "  print('--------------------------------------')\n",
        "\n",
        "  avgList.append(met.accuracy_score(y_test,y_pred))\n",
        "  preList.append(met.precision_score(y_test,y_pred,average='macro'))\n",
        "  recList.append(met.recall_score(y_test,y_pred,average='macro'))\n",
        "  f1List.append(met.f1_score(y_test,y_pred,average='macro'))\n",
        "\n",
        "print(\"---------------------------------\")\n",
        "print(\"---------------------------------\")\n",
        "print(\"---------------------------------\")\n",
        "print(\"---------------------------------\")\n",
        "\n",
        "print(\"average acc=\" ,sum(avgList)/len(avgList))\n",
        "print(\"average pre=\" ,sum(preList)/len(preList))\n",
        "print(\"average rec=\" ,sum(recList)/len(recList))\n",
        "print(\"average f1=\" ,sum(f1List)/len(f1List))\n",
        "\n",
        "ConfusionMatrixDisplay.from_predictions(y_test, y_pred)\n",
        "plt.show()\n",
        "\n",
        "average_acc= sum(avgList)/len(avgList)\n",
        "average_pre=sum(preList)/len(preList)\n",
        "average_rec=sum(recList)/len(recList)\n",
        "average_f1=sum(f1List)/len(f1List)\n",
        "models4= [average_acc , average_pre, average_rec, average_f1]\n",
        "data_models['SVC'] = models4"
      ]
    },
    {
      "cell_type": "code",
      "execution_count": 553,
      "metadata": {
        "colab": {
          "base_uri": "https://localhost:8080/",
          "height": 1000
        },
        "id": "oCbG9NcDeNNW",
        "outputId": "3ab5eae7-5cdb-479f-d75b-0b1ce10e06e0"
      },
      "outputs": [
        {
          "output_type": "stream",
          "name": "stderr",
          "text": [
            "/usr/local/lib/python3.8/dist-packages/scipy/optimize/linesearch.py:478: LineSearchWarning: The line search algorithm did not converge\n",
            "  warn('The line search algorithm did not converge', LineSearchWarning)\n",
            "/usr/local/lib/python3.8/dist-packages/scipy/optimize/linesearch.py:327: LineSearchWarning: The line search algorithm did not converge\n",
            "  warn('The line search algorithm did not converge', LineSearchWarning)\n"
          ]
        },
        {
          "output_type": "stream",
          "name": "stdout",
          "text": [
            "---------------------------------\n",
            "---------------------------------\n",
            "[1 3 3 ... 1 2 2]\n",
            "accuracy = 0.6467919637070642\n",
            "precision = 0.6151929894629062\n",
            "recall = 0.6049119968651369\n",
            "f1 = 0.6088436519387904\n",
            "--------------------------------------\n",
            "--------------------------------------\n",
            "--------------------------------------\n"
          ]
        },
        {
          "output_type": "stream",
          "name": "stderr",
          "text": [
            "/usr/local/lib/python3.8/dist-packages/scipy/optimize/linesearch.py:478: LineSearchWarning: The line search algorithm did not converge\n",
            "  warn('The line search algorithm did not converge', LineSearchWarning)\n",
            "/usr/local/lib/python3.8/dist-packages/scipy/optimize/linesearch.py:327: LineSearchWarning: The line search algorithm did not converge\n",
            "  warn('The line search algorithm did not converge', LineSearchWarning)\n"
          ]
        },
        {
          "output_type": "stream",
          "name": "stdout",
          "text": [
            "---------------------------------\n",
            "---------------------------------\n",
            "[1 3 3 ... 1 2 2]\n",
            "accuracy = 0.6467919637070642\n",
            "precision = 0.6151929894629062\n",
            "recall = 0.6049119968651369\n",
            "f1 = 0.6088436519387904\n",
            "--------------------------------------\n",
            "--------------------------------------\n",
            "--------------------------------------\n"
          ]
        },
        {
          "output_type": "stream",
          "name": "stderr",
          "text": [
            "/usr/local/lib/python3.8/dist-packages/scipy/optimize/linesearch.py:478: LineSearchWarning: The line search algorithm did not converge\n",
            "  warn('The line search algorithm did not converge', LineSearchWarning)\n",
            "/usr/local/lib/python3.8/dist-packages/scipy/optimize/linesearch.py:327: LineSearchWarning: The line search algorithm did not converge\n",
            "  warn('The line search algorithm did not converge', LineSearchWarning)\n"
          ]
        },
        {
          "output_type": "stream",
          "name": "stdout",
          "text": [
            "---------------------------------\n",
            "---------------------------------\n",
            "[1 3 3 ... 1 2 2]\n",
            "accuracy = 0.6467919637070642\n",
            "precision = 0.6151929894629062\n",
            "recall = 0.6049119968651369\n",
            "f1 = 0.6088436519387904\n",
            "--------------------------------------\n",
            "--------------------------------------\n",
            "--------------------------------------\n"
          ]
        },
        {
          "output_type": "stream",
          "name": "stderr",
          "text": [
            "/usr/local/lib/python3.8/dist-packages/scipy/optimize/linesearch.py:478: LineSearchWarning: The line search algorithm did not converge\n",
            "  warn('The line search algorithm did not converge', LineSearchWarning)\n",
            "/usr/local/lib/python3.8/dist-packages/scipy/optimize/linesearch.py:327: LineSearchWarning: The line search algorithm did not converge\n",
            "  warn('The line search algorithm did not converge', LineSearchWarning)\n"
          ]
        },
        {
          "output_type": "stream",
          "name": "stdout",
          "text": [
            "---------------------------------\n",
            "---------------------------------\n",
            "[1 3 3 ... 1 2 2]\n",
            "accuracy = 0.6467919637070642\n",
            "precision = 0.6151929894629062\n",
            "recall = 0.6049119968651369\n",
            "f1 = 0.6088436519387904\n",
            "--------------------------------------\n",
            "--------------------------------------\n",
            "--------------------------------------\n"
          ]
        },
        {
          "output_type": "stream",
          "name": "stderr",
          "text": [
            "/usr/local/lib/python3.8/dist-packages/scipy/optimize/linesearch.py:478: LineSearchWarning: The line search algorithm did not converge\n",
            "  warn('The line search algorithm did not converge', LineSearchWarning)\n",
            "/usr/local/lib/python3.8/dist-packages/scipy/optimize/linesearch.py:327: LineSearchWarning: The line search algorithm did not converge\n",
            "  warn('The line search algorithm did not converge', LineSearchWarning)\n"
          ]
        },
        {
          "output_type": "stream",
          "name": "stdout",
          "text": [
            "---------------------------------\n",
            "---------------------------------\n",
            "[1 3 3 ... 1 2 2]\n",
            "accuracy = 0.6467919637070642\n",
            "precision = 0.6151929894629062\n",
            "recall = 0.6049119968651369\n",
            "f1 = 0.6088436519387904\n",
            "--------------------------------------\n",
            "--------------------------------------\n",
            "--------------------------------------\n"
          ]
        },
        {
          "output_type": "stream",
          "name": "stderr",
          "text": [
            "/usr/local/lib/python3.8/dist-packages/scipy/optimize/linesearch.py:478: LineSearchWarning: The line search algorithm did not converge\n",
            "  warn('The line search algorithm did not converge', LineSearchWarning)\n",
            "/usr/local/lib/python3.8/dist-packages/scipy/optimize/linesearch.py:327: LineSearchWarning: The line search algorithm did not converge\n",
            "  warn('The line search algorithm did not converge', LineSearchWarning)\n"
          ]
        },
        {
          "output_type": "stream",
          "name": "stdout",
          "text": [
            "---------------------------------\n",
            "---------------------------------\n",
            "[1 3 3 ... 1 2 2]\n",
            "accuracy = 0.6467919637070642\n",
            "precision = 0.6151929894629062\n",
            "recall = 0.6049119968651369\n",
            "f1 = 0.6088436519387904\n",
            "--------------------------------------\n",
            "--------------------------------------\n",
            "--------------------------------------\n"
          ]
        },
        {
          "output_type": "stream",
          "name": "stderr",
          "text": [
            "/usr/local/lib/python3.8/dist-packages/scipy/optimize/linesearch.py:478: LineSearchWarning: The line search algorithm did not converge\n",
            "  warn('The line search algorithm did not converge', LineSearchWarning)\n",
            "/usr/local/lib/python3.8/dist-packages/scipy/optimize/linesearch.py:327: LineSearchWarning: The line search algorithm did not converge\n",
            "  warn('The line search algorithm did not converge', LineSearchWarning)\n"
          ]
        },
        {
          "output_type": "stream",
          "name": "stdout",
          "text": [
            "---------------------------------\n",
            "---------------------------------\n",
            "[1 3 3 ... 1 2 2]\n",
            "accuracy = 0.6467919637070642\n",
            "precision = 0.6151929894629062\n",
            "recall = 0.6049119968651369\n",
            "f1 = 0.6088436519387904\n",
            "--------------------------------------\n",
            "--------------------------------------\n",
            "--------------------------------------\n"
          ]
        },
        {
          "output_type": "stream",
          "name": "stderr",
          "text": [
            "/usr/local/lib/python3.8/dist-packages/scipy/optimize/linesearch.py:478: LineSearchWarning: The line search algorithm did not converge\n",
            "  warn('The line search algorithm did not converge', LineSearchWarning)\n",
            "/usr/local/lib/python3.8/dist-packages/scipy/optimize/linesearch.py:327: LineSearchWarning: The line search algorithm did not converge\n",
            "  warn('The line search algorithm did not converge', LineSearchWarning)\n"
          ]
        },
        {
          "output_type": "stream",
          "name": "stdout",
          "text": [
            "---------------------------------\n",
            "---------------------------------\n",
            "[1 3 3 ... 1 2 2]\n",
            "accuracy = 0.6467919637070642\n",
            "precision = 0.6151929894629062\n",
            "recall = 0.6049119968651369\n",
            "f1 = 0.6088436519387904\n",
            "--------------------------------------\n",
            "--------------------------------------\n",
            "--------------------------------------\n"
          ]
        },
        {
          "output_type": "stream",
          "name": "stderr",
          "text": [
            "/usr/local/lib/python3.8/dist-packages/scipy/optimize/linesearch.py:478: LineSearchWarning: The line search algorithm did not converge\n",
            "  warn('The line search algorithm did not converge', LineSearchWarning)\n",
            "/usr/local/lib/python3.8/dist-packages/scipy/optimize/linesearch.py:327: LineSearchWarning: The line search algorithm did not converge\n",
            "  warn('The line search algorithm did not converge', LineSearchWarning)\n"
          ]
        },
        {
          "output_type": "stream",
          "name": "stdout",
          "text": [
            "---------------------------------\n",
            "---------------------------------\n",
            "[1 3 3 ... 1 2 2]\n",
            "accuracy = 0.6467919637070642\n",
            "precision = 0.6151929894629062\n",
            "recall = 0.6049119968651369\n",
            "f1 = 0.6088436519387904\n",
            "--------------------------------------\n",
            "--------------------------------------\n",
            "--------------------------------------\n"
          ]
        },
        {
          "output_type": "stream",
          "name": "stderr",
          "text": [
            "/usr/local/lib/python3.8/dist-packages/scipy/optimize/linesearch.py:478: LineSearchWarning: The line search algorithm did not converge\n",
            "  warn('The line search algorithm did not converge', LineSearchWarning)\n",
            "/usr/local/lib/python3.8/dist-packages/scipy/optimize/linesearch.py:327: LineSearchWarning: The line search algorithm did not converge\n",
            "  warn('The line search algorithm did not converge', LineSearchWarning)\n"
          ]
        },
        {
          "output_type": "stream",
          "name": "stdout",
          "text": [
            "---------------------------------\n",
            "---------------------------------\n",
            "[1 3 3 ... 1 2 2]\n",
            "accuracy = 0.6467919637070642\n",
            "precision = 0.6151929894629062\n",
            "recall = 0.6049119968651369\n",
            "f1 = 0.6088436519387904\n",
            "--------------------------------------\n",
            "--------------------------------------\n",
            "--------------------------------------\n",
            "---------------------------------\n",
            "---------------------------------\n",
            "---------------------------------\n",
            "---------------------------------\n",
            "average acc= 0.646791963707064\n",
            "average pre= 0.6151929894629063\n",
            "average rec= 0.6049119968651367\n",
            "average f1= 0.6088436519387904\n"
          ]
        },
        {
          "output_type": "display_data",
          "data": {
            "text/plain": [
              "<Figure size 432x288 with 2 Axes>"
            ],
            "image/png": "[encoded data removed]"
          },
          "metadata": {
            "needs_background": "light"
          }
        }
      ],
      "source": [
        "from sklearn.linear_model import LogisticRegression\n",
        "\n",
        "avgList = []\n",
        "preList = []\n",
        "recList = []\n",
        "f1List = []\n",
        "\n",
        "for x in range(10):\n",
        "  clf12 = LogisticRegression(multi_class='multinomial',max_iter=2000,solver='newton-cg').fit(x_test, y_test)\n",
        "  y_pred = clf12.predict(x_test)\n",
        "  print(\"---------------------------------\")\n",
        "  print(\"---------------------------------\")\n",
        "  print(y_pred)\n",
        "\n",
        "  print('accuracy =', met.accuracy_score(y_test,y_pred))\n",
        "  print('precision =',met.precision_score(y_test,y_pred,average='macro'))\n",
        "  print('recall =',met.recall_score(y_test,y_pred,average='macro'))\n",
        "  print('f1 =',met.f1_score(y_test,y_pred,average='macro'))\n",
        "\n",
        "  print('--------------------------------------')\n",
        "  print('--------------------------------------') \n",
        "  print('--------------------------------------')\n",
        "\n",
        "  avgList.append(met.accuracy_score(y_test,y_pred))\n",
        "  preList.append(met.precision_score(y_test,y_pred,average='macro'))\n",
        "  recList.append(met.recall_score(y_test,y_pred,average='macro'))\n",
        "  f1List.append(met.f1_score(y_test,y_pred,average='macro'))\n",
        "\n",
        "print(\"---------------------------------\")\n",
        "print(\"---------------------------------\")\n",
        "print(\"---------------------------------\")\n",
        "print(\"---------------------------------\")\n",
        "\n",
        "\n",
        "print(\"average acc=\" ,sum(avgList)/len(avgList))\n",
        "print(\"average pre=\" ,sum(preList)/len(preList))\n",
        "print(\"average rec=\" ,sum(recList)/len(recList))\n",
        "print(\"average f1=\" ,sum(f1List)/len(f1List))\n",
        "\n",
        "ConfusionMatrixDisplay.from_predictions(y_test, y_pred)\n",
        "plt.show()\n",
        "\n",
        "average_acc= sum(avgList)/len(avgList)\n",
        "average_pre=sum(preList)/len(preList)\n",
        "average_rec=sum(recList)/len(recList)\n",
        "average_f1=sum(f1List)/len(f1List)\n",
        "models5= [average_acc , average_pre, average_rec, average_f1]\n",
        "data_models['Logistic'] = models5"
      ]
    },
    {
      "cell_type": "code",
      "source": [
        "from sklearn.naive_bayes import MultinomialNB\n",
        "from sklearn.preprocessing import MinMaxScaler\n",
        "from sklearn.naive_bayes import ComplementNB\n",
        "from sklearn.naive_bayes import BernoulliNB\n",
        "from sklearn.naive_bayes import GaussianNB\n",
        "\n",
        "avgList = []\n",
        "preList = []\n",
        "recList = []\n",
        "f1List = []\n",
        "\n",
        "for x in range(10):\n",
        " \n",
        "  clf = make_pipeline(MinMaxScaler(),GaussianNB())\n",
        "  clf.fit(x_train,y_train)\n",
        "  y_pred = clf.predict(x_test)\n",
        "  print(\"---------------------------------\")\n",
        "  print(\"---------------------------------\")\n",
        "  print(y_pred)\n",
        "\n",
        "  print('accuracy =', met.accuracy_score(y_test,y_pred))\n",
        "  print('precision =',met.precision_score(y_test,y_pred,average='macro'))\n",
        "  print('recall =',met.recall_score(y_test,y_pred,average='macro'))\n",
        "  print('f1 =',met.f1_score(y_test,y_pred,average='macro'))\n",
        "\n",
        "  print('--------------------------------------')\n",
        "  print('--------------------------------------') \n",
        "  print('--------------------------------------')\n",
        "\n",
        "  avgList.append(met.accuracy_score(y_test,y_pred))\n",
        "  preList.append(met.precision_score(y_test,y_pred,average='macro'))\n",
        "  recList.append(met.recall_score(y_test,y_pred,average='macro'))\n",
        "  f1List.append(met.f1_score(y_test,y_pred,average='macro'))\n",
        "\n",
        "print(\"average acc=\" ,sum(avgList)/len(avgList))\n",
        "print(\"average pre=\" ,sum(preList)/len(preList))\n",
        "print(\"average rec=\" ,sum(recList)/len(recList))\n",
        "print(\"average f1=\" ,sum(f1List)/len(f1List))\n",
        "\n",
        "print('--------------------------------------')\n",
        "print('--------------------------------------') \n",
        "print('--------------------------------------')\n",
        "\n",
        "print(\"average acc=\" ,sum(avgList)/len(avgList))\n",
        "print(\"average pre=\" ,sum(preList)/len(preList))\n",
        "print(\"average rec=\" ,sum(recList)/len(recList))\n",
        "print(\"average f1=\" ,sum(f1List)/len(f1List))\n",
        "\n",
        "ConfusionMatrixDisplay.from_predictions(y_test, y_pred)\n",
        "plt.show()\n",
        "\n",
        "average_acc= sum(avgList)/len(avgList)\n",
        "average_pre=sum(preList)/len(preList)\n",
        "average_rec=sum(recList)/len(recList)\n",
        "average_f1=sum(f1List)/len(f1List)\n",
        "models5= [average_acc , average_pre, average_rec, average_f1]\n",
        "data_models['naive_bayes'] = models5"
      ],
      "metadata": {
        "colab": {
          "base_uri": "https://localhost:8080/",
          "height": 1000
        },
        "id": "VtkvsF0Z1Ixk",
        "outputId": "df3e4a34-fbfd-4503-d998-89582a794eb7"
      },
      "execution_count": 554,
      "outputs": [
        {
          "output_type": "stream",
          "name": "stdout",
          "text": [
            "---------------------------------\n",
            "---------------------------------\n",
            "[1 3 3 ... 1 3 2]\n",
            "accuracy = 0.6046662346079067\n",
            "precision = 0.5916684435826479\n",
            "recall = 0.611174545532141\n",
            "f1 = 0.5933276336681205\n",
            "--------------------------------------\n",
            "--------------------------------------\n",
            "--------------------------------------\n",
            "---------------------------------\n",
            "---------------------------------\n",
            "[1 3 3 ... 1 3 2]\n",
            "accuracy = 0.6046662346079067\n",
            "precision = 0.5916684435826479\n",
            "recall = 0.611174545532141\n",
            "f1 = 0.5933276336681205\n",
            "--------------------------------------\n",
            "--------------------------------------\n",
            "--------------------------------------\n",
            "---------------------------------\n",
            "---------------------------------\n",
            "[1 3 3 ... 1 3 2]\n",
            "accuracy = 0.6046662346079067\n",
            "precision = 0.5916684435826479\n",
            "recall = 0.611174545532141\n",
            "f1 = 0.5933276336681205\n",
            "--------------------------------------\n",
            "--------------------------------------\n",
            "--------------------------------------\n",
            "---------------------------------\n",
            "---------------------------------\n",
            "[1 3 3 ... 1 3 2]\n",
            "accuracy = 0.6046662346079067\n",
            "precision = 0.5916684435826479\n",
            "recall = 0.611174545532141\n",
            "f1 = 0.5933276336681205\n",
            "--------------------------------------\n",
            "--------------------------------------\n",
            "--------------------------------------\n",
            "---------------------------------\n",
            "---------------------------------\n",
            "[1 3 3 ... 1 3 2]\n",
            "accuracy = 0.6046662346079067\n",
            "precision = 0.5916684435826479\n",
            "recall = 0.611174545532141\n",
            "f1 = 0.5933276336681205\n",
            "--------------------------------------\n",
            "--------------------------------------\n",
            "--------------------------------------\n",
            "---------------------------------\n",
            "---------------------------------\n",
            "[1 3 3 ... 1 3 2]\n",
            "accuracy = 0.6046662346079067\n",
            "precision = 0.5916684435826479\n",
            "recall = 0.611174545532141\n",
            "f1 = 0.5933276336681205\n",
            "--------------------------------------\n",
            "--------------------------------------\n",
            "--------------------------------------\n",
            "---------------------------------\n",
            "---------------------------------\n",
            "[1 3 3 ... 1 3 2]\n",
            "accuracy = 0.6046662346079067\n",
            "precision = 0.5916684435826479\n",
            "recall = 0.611174545532141\n",
            "f1 = 0.5933276336681205\n",
            "--------------------------------------\n",
            "--------------------------------------\n",
            "--------------------------------------\n",
            "---------------------------------\n",
            "---------------------------------\n",
            "[1 3 3 ... 1 3 2]\n",
            "accuracy = 0.6046662346079067\n",
            "precision = 0.5916684435826479\n",
            "recall = 0.611174545532141\n",
            "f1 = 0.5933276336681205\n",
            "--------------------------------------\n",
            "--------------------------------------\n",
            "--------------------------------------\n",
            "---------------------------------\n",
            "---------------------------------\n",
            "[1 3 3 ... 1 3 2]\n",
            "accuracy = 0.6046662346079067\n",
            "precision = 0.5916684435826479\n",
            "recall = 0.611174545532141\n",
            "f1 = 0.5933276336681205\n",
            "--------------------------------------\n",
            "--------------------------------------\n",
            "--------------------------------------\n",
            "---------------------------------\n",
            "---------------------------------\n",
            "[1 3 3 ... 1 3 2]\n",
            "accuracy = 0.6046662346079067\n",
            "precision = 0.5916684435826479\n",
            "recall = 0.611174545532141\n",
            "f1 = 0.5933276336681205\n",
            "--------------------------------------\n",
            "--------------------------------------\n",
            "--------------------------------------\n",
            "average acc= 0.6046662346079066\n",
            "average pre= 0.591668443582648\n",
            "average rec= 0.6111745455321411\n",
            "average f1= 0.5933276336681204\n",
            "--------------------------------------\n",
            "--------------------------------------\n",
            "--------------------------------------\n",
            "average acc= 0.6046662346079066\n",
            "average pre= 0.591668443582648\n",
            "average rec= 0.6111745455321411\n",
            "average f1= 0.5933276336681204\n"
          ]
        },
        {
          "output_type": "display_data",
          "data": {
            "text/plain": [
              "<Figure size 432x288 with 2 Axes>"
            ],
            "image/png": "[encoded data removed]"
          },
          "metadata": {
            "needs_background": "light"
          }
        }
      ]
    },
    {
      "cell_type": "code",
      "source": [
        "data_models"
      ],
      "metadata": {
        "colab": {
          "base_uri": "https://localhost:8080/",
          "height": 175
        },
        "id": "R8OihZqkF82P",
        "outputId": "949b8975-3ca0-4580-ca7e-f24db0f5cb67"
      },
      "execution_count": 555,
      "outputs": [
        {
          "output_type": "execute_result",
          "data": {
            "text/plain": [
              "           random forest       knn       SVC  Logistic  naive_bayes\n",
              "accuracy        0.750875  0.720674  0.736876  0.646792     0.604666\n",
              "f1              0.723522  0.784110  0.718436  0.615193     0.591668\n",
              "presicion       0.725430  0.720362  0.690872  0.604912     0.611175\n",
              "recaill         0.723709  0.679568  0.696566  0.608844     0.593328"
            ],
            "text/html": [
              "\n",
              "  <div id=\"df-de89fe40-5614-400f-928c-544b0f5cadef\">\n",
              "    <div class=\"colab-df-container\">\n",
              "      <div>\n",
              "<style scoped>\n",
              "    .dataframe tbody tr th:only-of-type {\n",
              "        vertical-align: middle;\n",
              "    }\n",
              "\n",
              "    .dataframe tbody tr th {\n",
              "        vertical-align: top;\n",
              "    }\n",
              "\n",
              "    .dataframe thead th {\n",
              "        text-align: right;\n",
              "    }\n",
              "</style>\n",
              "<table border=\"1\" class=\"dataframe\">\n",
              "  <thead>\n",
              "    <tr style=\"text-align: right;\">\n",
              "      <th></th>\n",
              "      <th>random forest</th>\n",
              "      <th>knn</th>\n",
              "      <th>SVC</th>\n",
              "      <th>Logistic</th>\n",
              "      <th>naive_bayes</th>\n",
              "    </tr>\n",
              "  </thead>\n",
              "  <tbody>\n",
              "    <tr>\n",
              "      <th>accuracy</th>\n",
              "      <td>0.750875</td>\n",
              "      <td>0.720674</td>\n",
              "      <td>0.736876</td>\n",
              "      <td>0.646792</td>\n",
              "      <td>0.604666</td>\n",
              "    </tr>\n",
              "    <tr>\n",
              "      <th>f1</th>\n",
              "      <td>0.723522</td>\n",
              "      <td>0.784110</td>\n",
              "      <td>0.718436</td>\n",
              "      <td>0.615193</td>\n",
              "      <td>0.591668</td>\n",
              "    </tr>\n",
              "    <tr>\n",
              "      <th>presicion</th>\n",
              "      <td>0.725430</td>\n",
              "      <td>0.720362</td>\n",
              "      <td>0.690872</td>\n",
              "      <td>0.604912</td>\n",
              "      <td>0.611175</td>\n",
              "    </tr>\n",
              "    <tr>\n",
              "      <th>recaill</th>\n",
              "      <td>0.723709</td>\n",
              "      <td>0.679568</td>\n",
              "      <td>0.696566</td>\n",
              "      <td>0.608844</td>\n",
              "      <td>0.593328</td>\n",
              "    </tr>\n",
              "  </tbody>\n",
              "</table>\n",
              "</div>\n",
              "      <button class=\"colab-df-convert\" onclick=\"convertToInteractive('df-de89fe40-5614-400f-928c-544b0f5cadef')\"\n",
              "              title=\"Convert this dataframe to an interactive table.\"\n",
              "              style=\"display:none;\">\n",
              "        \n",
              "  <svg xmlns=\"http://www.w3.org/2000/svg\" height=\"24px\"viewBox=\"0 0 24 24\"\n",
              "       width=\"24px\">\n",
              "    <path d=\"M0 0h24v24H0V0z\" fill=\"none\"/>\n",
              "    <path d=\"M18.56 5.44l.94 2.06.94-2.06 2.06-.94-2.06-.94-.94-2.06-.94 2.06-2.06.94zm-11 1L8.5 8.5l.94-2.06 2.06-.94-2.06-.94L8.5 2.5l-.94 2.06-2.06.94zm10 10l.94 2.06.94-2.06 2.06-.94-2.06-.94-.94-2.06-.94 2.06-2.06.94z\"/><path d=\"M17.41 7.96l-1.37-1.37c-.4-.4-.92-.59-1.43-.59-.52 0-1.04.2-1.43.59L10.3 9.45l-7.72 7.72c-.78.78-.78 2.05 0 2.83L4 21.41c.39.39.9.59 1.41.59.51 0 1.02-.2 1.41-.59l7.78-7.78 2.81-2.81c.8-.78.8-2.07 0-2.86zM5.41 20L4 18.59l7.72-7.72 1.47 1.35L5.41 20z\"/>\n",
              "  </svg>\n",
              "      </button>\n",
              "      \n",
              "  <style>\n",
              "    .colab-df-container {\n",
              "      display:flex;\n",
              "      flex-wrap:wrap;\n",
              "      gap: 12px;\n",
              "    }\n",
              "\n",
              "    .colab-df-convert {\n",
              "      background-color: #E8F0FE;\n",
              "      border: none;\n",
              "      border-radius: 50%;\n",
              "      cursor: pointer;\n",
              "      display: none;\n",
              "      fill: #1967D2;\n",
              "      height: 32px;\n",
              "      padding: 0 0 0 0;\n",
              "      width: 32px;\n",
              "    }\n",
              "\n",
              "    .colab-df-convert:hover {\n",
              "      background-color: #E2EBFA;\n",
              "      box-shadow: 0px 1px 2px rgba(60, 64, 67, 0.3), 0px 1px 3px 1px rgba(60, 64, 67, 0.15);\n",
              "      fill: #174EA6;\n",
              "    }\n",
              "\n",
              "    [theme=dark] .colab-df-convert {\n",
              "      background-color: #3B4455;\n",
              "      fill: #D2E3FC;\n",
              "    }\n",
              "\n",
              "    [theme=dark] .colab-df-convert:hover {\n",
              "      background-color: #434B5C;\n",
              "      box-shadow: 0px 1px 3px 1px rgba(0, 0, 0, 0.15);\n",
              "      filter: drop-shadow(0px 1px 2px rgba(0, 0, 0, 0.3));\n",
              "      fill: #FFFFFF;\n",
              "    }\n",
              "  </style>\n",
              "\n",
              "      <script>\n",
              "        const buttonEl =\n",
              "          document.querySelector('#df-de89fe40-5614-400f-928c-544b0f5cadef button.colab-df-convert');\n",
              "        buttonEl.style.display =\n",
              "          google.colab.kernel.accessAllowed ? 'block' : 'none';\n",
              "\n",
              "        async function convertToInteractive(key) {\n",
              "          const element = document.querySelector('#df-de89fe40-5614-400f-928c-544b0f5cadef');\n",
              "          const dataTable =\n",
              "            await google.colab.kernel.invokeFunction('convertToInteractive',\n",
              "                                                     [key], {});\n",
              "          if (!dataTable) return;\n",
              "\n",
              "          const docLinkHtml = 'Like what you see? Visit the ' +\n",
              "            '<a target=\"_blank\" href=https://colab.research.google.com/notebooks/data_table.ipynb>data table notebook</a>'\n",
              "            + ' to learn more about interactive tables.';\n",
              "          element.innerHTML = '';\n",
              "          dataTable['output_type'] = 'display_data';\n",
              "          await google.colab.output.renderOutput(dataTable, element);\n",
              "          const docLink = document.createElement('div');\n",
              "          docLink.innerHTML = docLinkHtml;\n",
              "          element.appendChild(docLink);\n",
              "        }\n",
              "      </script>\n",
              "    </div>\n",
              "  </div>\n",
              "  "
            ]
          },
          "metadata": {},
          "execution_count": 555
        }
      ]
    },
    {
      "cell_type": "code",
      "source": [
        "width = 0.18\n",
        "models = ['accuracy','f1','presicion','recail']\n",
        "plt.figure(figsize=(20,4))\n",
        "\n",
        "plt.bar(np.arange(len(data_models['random forest'])), data_models['random forest'], width=width )\n",
        "plt.bar(np.arange(len(data_models['knn']))+ width, data_models['knn'], width=width )\n",
        "plt.bar(np.arange(len(data_models['naive_bayes'])) + width*2, data_models['naive_bayes'], width=width )\n",
        "plt.bar(np.arange(len(data_models['Logistic'])) + width*3, data_models['Logistic'], width=width )\n",
        "plt.bar(np.arange(len(data_models['SVC'])) + width*4, data_models['SVC'], width=width )\n",
        "\n",
        "plt.legend(['random_forests','knn','naive_bayes','logistic_regression','SVC'])\n",
        "plt.show()"
      ],
      "metadata": {
        "colab": {
          "base_uri": "https://localhost:8080/",
          "height": 265
        },
        "id": "n_ZbMBHK6Qx8",
        "outputId": "e8e648c3-abd2-4948-c5fc-da88e8875805"
      },
      "execution_count": 586,
      "outputs": [
        {
          "output_type": "display_data",
          "data": {
            "text/plain": [
              "<Figure size 1440x288 with 1 Axes>"
            ],
            "image/png": "[encoded data removed]"
          },
          "metadata": {
            "needs_background": "light"
          }
        }
      ]
    },
    {
      "cell_type": "code",
      "execution_count": 557,
      "metadata": {
        "id": "qBX6cTYpWLn0"
      },
      "outputs": [],
      "source": [
        "#merged_data2.corr()"
      ]
    },
    {
      "cell_type": "code",
      "execution_count": 558,
      "metadata": {
        "id": "-dioghCSYdLo"
      },
      "outputs": [],
      "source": [
        "#plt.figure(figsize=(17,17))\n",
        "#import seaborn as sns\n",
        "#sns.heatmap(merged_data2.corr(), annot = True, fmt='.2g')\n"
      ]
    },
    {
      "cell_type": "markdown",
      "metadata": {
        "id": "6tZnrDTLM5fe"
      },
      "source": [
        "# **Feature selection and dimensionility reduction**\n"
      ]
    },
    {
      "cell_type": "code",
      "execution_count": 559,
      "metadata": {
        "colab": {
          "base_uri": "https://localhost:8080/"
        },
        "id": "_efQjE2n98wp",
        "outputId": "35a1bfb7-46b6-486b-d57e-34c593825bf1"
      },
      "outputs": [
        {
          "output_type": "stream",
          "name": "stdout",
          "text": [
            "All features:\n",
            "['veincle length' 'veincle weight' 'axles number'\n",
            " 'perceding veincle time-gap' 'Lane of the road' 'veincle speed'\n",
            " 'perceding veincle speed' 'perceding veincle weight'\n",
            " 'perceding veincle length' 'road condition' 'Air temprture'\n",
            " 'perciption type' 'perciption intensity' 'relatve humadity'\n",
            " 'wind direction' 'wind speed' 'Lighting condition']\n",
            "[ True  True  True  True  True  True  True  True  True  True  True False\n",
            " False  True  True  True  True]\n",
            "Selected best\n",
            "['veincle length' 'veincle weight' 'axles number'\n",
            " 'perceding veincle time-gap' 'Lane of the road' 'veincle speed'\n",
            " 'perceding veincle speed' 'perceding veincle weight'\n",
            " 'perceding veincle length' 'road condition' 'Air temprture'\n",
            " 'relatve humadity' 'wind direction' 'wind speed' 'Lighting condition']\n",
            "[[1.26500000e+03 1.02430000e+04 2.00000000e+00 ... 1.25157895e+02\n",
            "  5.26315789e-02 0.00000000e+00]\n",
            " [1.68000000e+03 3.08710000e+04 6.00000000e+00 ... 1.57818182e+02\n",
            "  6.00000000e+00 0.00000000e+00]\n",
            " [9.36000000e+02 3.22400000e+03 4.00000000e+00 ... 6.44545455e+01\n",
            "  0.00000000e+00 0.00000000e+00]\n",
            " ...\n",
            " [1.74700000e+03 3.18640000e+04 6.00000000e+00 ... 2.85000000e+02\n",
            "  5.57894737e+00 2.00000000e+00]\n",
            " [7.10000000e+02 3.24400000e+03 2.00000000e+00 ... 3.08466667e+02\n",
            "  3.66666667e+00 2.00000000e+00]\n",
            " [2.00100000e+03 2.78120000e+04 6.00000000e+00 ... 4.50000000e+01\n",
            "  8.00000000e+00 2.00000000e+00]]\n"
          ]
        },
        {
          "output_type": "stream",
          "name": "stderr",
          "text": [
            "/usr/local/lib/python3.8/dist-packages/sklearn/svm/_base.py:1206: ConvergenceWarning: Liblinear failed to converge, increase the number of iterations.\n",
            "  warnings.warn(\n",
            "/usr/local/lib/python3.8/dist-packages/sklearn/base.py:443: UserWarning: X has feature names, but SelectFromModel was fitted without feature names\n",
            "  warnings.warn(\n"
          ]
        }
      ],
      "source": [
        "from sklearn.feature_selection import SelectKBest\n",
        "from sklearn.svm import LinearSVC\n",
        "from sklearn.feature_selection import SelectFromModel, f_classif\n",
        "X = merged_data2.drop('DrivingStyle' , axis = 1)\n",
        "lsvc = LinearSVC(C=0.01, penalty=\"l1\", dual=False).fit(X, y)\n",
        "model = SelectFromModel(lsvc, prefit=True)\n",
        "X_new = model.transform(X)\n",
        "X_new.shape\n",
        "features = np.array(X.columns)\n",
        "filter = model.get_support()\n",
        "print(\"All features:\")\n",
        "print(features)\n",
        "print(filter)\n",
        "print(\"Selected best\")\n",
        "print(features[filter])\n",
        "print(X_new)"
      ]
    },
    {
      "cell_type": "code",
      "execution_count": 560,
      "metadata": {
        "colab": {
          "base_uri": "https://localhost:8080/"
        },
        "id": "Ioo1e2ZA-ztf",
        "outputId": "c5b97e30-b710-4064-9398-5af483e0a722"
      },
      "outputs": [
        {
          "output_type": "stream",
          "name": "stdout",
          "text": [
            "All features:\n",
            "['veincle length' 'veincle weight' 'axles number'\n",
            " 'perceding veincle time-gap' 'Lane of the road' 'veincle speed'\n",
            " 'perceding veincle speed' 'perceding veincle weight'\n",
            " 'perceding veincle length' 'road condition' 'Air temprture'\n",
            " 'perciption type' 'perciption intensity' 'relatve humadity'\n",
            " 'wind direction' 'wind speed' 'Lighting condition']\n",
            "[ True  True  True False False  True False False False False False False\n",
            " False False False False  True]\n",
            "Selected best 4:\n",
            "['veincle length' 'veincle weight' 'axles number' 'veincle speed'\n",
            " 'Lighting condition']\n",
            "[[1.26500000e+03 1.02430000e+04 2.00000000e+00 8.74736842e+01\n",
            "  0.00000000e+00]\n",
            " [1.68000000e+03 3.08710000e+04 6.00000000e+00 8.22727273e+01\n",
            "  0.00000000e+00]\n",
            " [9.36000000e+02 3.22400000e+03 4.00000000e+00 8.50909091e+01\n",
            "  0.00000000e+00]\n",
            " ...\n",
            " [1.74700000e+03 3.18640000e+04 6.00000000e+00 8.42105263e+01\n",
            "  2.00000000e+00]\n",
            " [7.10000000e+02 3.24400000e+03 2.00000000e+00 8.26666667e+01\n",
            "  2.00000000e+00]\n",
            " [2.00100000e+03 2.78120000e+04 6.00000000e+00 7.75000000e+01\n",
            "  2.00000000e+00]]\n"
          ]
        }
      ],
      "source": [
        "select = SelectKBest(score_func= f_classif, k=5)\n",
        "z = select.fit_transform(X, y)\n",
        "filter = select.get_support()\n",
        "print(\"All features:\")\n",
        "print(features)\n",
        "print(filter)\n",
        "print(\"Selected best 4:\")\n",
        "print(features[filter])\n",
        "print(z)"
      ]
    },
    {
      "cell_type": "code",
      "execution_count": 561,
      "metadata": {
        "colab": {
          "base_uri": "https://localhost:8080/",
          "height": 1000
        },
        "id": "fqbPVQ7LBVFE",
        "outputId": "27d6c111-27ea-48cd-92b3-421c047a436b"
      },
      "outputs": [
        {
          "output_type": "stream",
          "name": "stdout",
          "text": [
            "---------------------------------\n",
            "---------------------------------\n",
            "[2 1 3 ... 2 2 2]\n",
            "accuracy = 0.6714193130265717\n",
            "f1 score = 0.6406924338754562\n",
            "precision = 0.6445809452062697\n",
            "recall =  0.6448799498732282\n",
            "---------------------------------\n",
            "---------------------------------\n",
            "[2 1 3 ... 2 2 2]\n",
            "accuracy = 0.6675307841866494\n",
            "f1 score = 0.6353106115627517\n",
            "precision = 0.6389779037001758\n",
            "recall =  0.638727393000487\n",
            "---------------------------------\n",
            "---------------------------------\n",
            "[2 1 3 ... 2 2 2]\n",
            "accuracy = 0.6591056383668179\n",
            "f1 score = 0.6279366271368656\n",
            "precision = 0.6321890954086843\n",
            "recall =  0.6315629892161484\n",
            "---------------------------------\n",
            "---------------------------------\n",
            "[2 1 3 ... 2 2 2]\n",
            "accuracy = 0.6655865197666883\n",
            "f1 score = 0.6344187184338753\n",
            "precision = 0.6374777947313603\n",
            "recall =  0.6379877127332476\n",
            "---------------------------------\n",
            "---------------------------------\n",
            "[2 1 3 ... 2 2 2]\n",
            "accuracy = 0.6662346079066753\n",
            "f1 score = 0.6355697517119785\n",
            "precision = 0.6394627573420585\n",
            "recall =  0.6386961607626098\n",
            "---------------------------------\n",
            "---------------------------------\n",
            "[2 1 3 ... 2 2 2]\n",
            "accuracy = 0.6694750486066104\n",
            "f1 score = 0.6384845954666201\n",
            "precision = 0.641985488554893\n",
            "recall =  0.6414866933207629\n",
            "---------------------------------\n",
            "---------------------------------\n",
            "[2 1 3 ... 2 2 2]\n",
            "accuracy = 0.6681788723266364\n",
            "f1 score = 0.6367254572349514\n",
            "precision = 0.6404193673423305\n",
            "recall =  0.6403407999720656\n",
            "---------------------------------\n",
            "---------------------------------\n",
            "[2 1 3 ... 2 2 2]\n",
            "accuracy = 0.6681788723266364\n",
            "f1 score = 0.6371724919556478\n",
            "precision = 0.6410556383507203\n",
            "recall =  0.6396761934691644\n",
            "---------------------------------\n",
            "---------------------------------\n",
            "[2 1 3 ... 2 2 2]\n",
            "accuracy = 0.6701231367465975\n",
            "f1 score = 0.6380367372087528\n",
            "precision = 0.6417147728979279\n",
            "recall =  0.6416837862007826\n",
            "---------------------------------\n",
            "---------------------------------\n",
            "[2 1 3 ... 2 2 2]\n",
            "accuracy = 0.6701231367465975\n",
            "f1 score = 0.6403797091922704\n",
            "precision = 0.6444082628126528\n",
            "recall =  0.643611455441684\n",
            "---------------------------------\n",
            "---------------------------------\n",
            "---------------------------------\n",
            "---------------------------------\n",
            "average acc= 0.6675955930006481\n",
            "average pre= 0.6402272026347073\n",
            "average rec= 0.6398653133990181\n",
            "average f1= 0.6364727133779169\n"
          ]
        },
        {
          "output_type": "display_data",
          "data": {
            "text/plain": [
              "<Figure size 432x288 with 2 Axes>"
            ],
            "image/png": "[encoded data removed]"
          },
          "metadata": {
            "needs_background": "light"
          }
        }
      ],
      "source": [
        "X = merged_data2[['veincle length','veincle weight','axles number','veincle speed','Lighting condition']]\n",
        "y = merged_data2['DrivingStyle']\n",
        "x_train,x_test,y_train,y_test=train_test_split(X,y,test_size=0.12,random_state=123)\n",
        "\n",
        "avgList = []\n",
        "preList = []\n",
        "recList = []\n",
        "f1List = []\n",
        "\n",
        "for x in range(10):\n",
        "\n",
        "  clf2=RandomForestClassifier(n_estimators=150,max_depth=100,min_samples_split=3,oob_score=True)\n",
        "  clf2.fit(x_train,y_train)\n",
        "  y_pred = clf2.predict(x_test)\n",
        "  print(\"---------------------------------\")\n",
        "  print(\"---------------------------------\")\n",
        "  print(y_pred)\n",
        "\n",
        "  print(\"accuracy =\" ,met.accuracy_score(y_test,y_pred))\n",
        "  print(\"f1 score =\" ,met.f1_score(y_test,y_pred,average='macro'))\n",
        "  print(\"precision =\",met.precision_score(y_test,y_pred,average='macro'))\n",
        "  print(\"recall = \",met.recall_score(y_test,y_pred,average='macro'))\n",
        "\n",
        "  avgList.append(met.accuracy_score(y_test,y_pred))\n",
        "  preList.append(met.precision_score(y_test,y_pred,average='macro'))\n",
        "  recList.append(met.recall_score(y_test,y_pred,average='macro'))\n",
        "  f1List.append(met.f1_score(y_test,y_pred,average='macro'))\n",
        "\n",
        "print(\"---------------------------------\")\n",
        "print(\"---------------------------------\")\n",
        "print(\"---------------------------------\")\n",
        "print(\"---------------------------------\")\n",
        "\n",
        "print(\"average acc=\" ,sum(avgList)/len(avgList))\n",
        "print(\"average pre=\" ,sum(preList)/len(preList))\n",
        "print(\"average rec=\" ,sum(recList)/len(recList))\n",
        "print(\"average f1=\" ,sum(f1List)/len(f1List))\n",
        "\n",
        "\n",
        "ConfusionMatrixDisplay.from_predictions(y_test, y_pred)\n",
        "plt.show()"
      ]
    },
    {
      "cell_type": "code",
      "source": [
        "avgList = []\n",
        "preList = []\n",
        "recList = []\n",
        "f1List = []\n",
        "\n",
        "for x in range(10):\n",
        "\n",
        "  neigh = KNeighborsClassifier(n_neighbors=2,leaf_size=30,p=2,algorithm='ball_tree')\n",
        "  neigh.fit(x_test, y_test)\n",
        "  y_pred = neigh.predict(x_test)\n",
        "\n",
        "  print(\"---------------------------------\")\n",
        "  print(\"---------------------------------\")\n",
        "  print(y_pred)\n",
        "\n",
        "  print('accuracy =', met.accuracy_score(y_test,y_pred))\n",
        "  print('precision =',met.precision_score(y_test,y_pred,average='macro'))\n",
        "  print('recall =',met.recall_score(y_test,y_pred,average='macro'))\n",
        "  print('f1 =',met.f1_score(y_test,y_pred,average='macro'))\n",
        "\n",
        "  print('--------------------------------------')\n",
        "  print('--------------------------------------') \n",
        "  print('--------------------------------------')\n",
        "\n",
        "  avgList.append(met.accuracy_score(y_test,y_pred))\n",
        "  preList.append(met.precision_score(y_test,y_pred,average='macro'))\n",
        "  recList.append(met.recall_score(y_test,y_pred,average='macro'))\n",
        "  f1List.append(met.f1_score(y_test,y_pred,average='macro'))\n",
        "\n",
        "print(\"---------------------------------\")\n",
        "print(\"---------------------------------\")\n",
        "print(\"---------------------------------\")\n",
        "print(\"---------------------------------\")\n",
        "\n",
        "print(\"average acc=\" ,sum(avgList)/len(avgList))\n",
        "print(\"average pre=\" ,sum(preList)/len(preList))\n",
        "print(\"average rec=\" ,sum(recList)/len(recList))\n",
        "print(\"average f1=\" ,sum(f1List)/len(f1List))\n",
        "\n",
        "ConfusionMatrixDisplay.from_predictions(y_test, y_pred)\n",
        "plt.show()"
      ],
      "metadata": {
        "colab": {
          "base_uri": "https://localhost:8080/",
          "height": 1000
        },
        "id": "P5cSICQYTHJP",
        "outputId": "f2cafaeb-8e9b-434a-a5c1-fd467f57b80b"
      },
      "execution_count": 562,
      "outputs": [
        {
          "output_type": "stream",
          "name": "stdout",
          "text": [
            "---------------------------------\n",
            "---------------------------------\n",
            "[1 1 3 ... 1 1 2]\n",
            "accuracy = 0.7226182760855476\n",
            "precision = 0.7849957970507676\n",
            "recall = 0.7222775091029364\n",
            "f1 = 0.6818412252572353\n",
            "--------------------------------------\n",
            "--------------------------------------\n",
            "--------------------------------------\n",
            "---------------------------------\n",
            "---------------------------------\n",
            "[1 1 3 ... 1 1 2]\n",
            "accuracy = 0.7226182760855476\n",
            "precision = 0.7849957970507676\n",
            "recall = 0.7222775091029364\n",
            "f1 = 0.6818412252572353\n",
            "--------------------------------------\n",
            "--------------------------------------\n",
            "--------------------------------------\n",
            "---------------------------------\n",
            "---------------------------------\n",
            "[1 1 3 ... 1 1 2]\n",
            "accuracy = 0.7226182760855476\n",
            "precision = 0.7849957970507676\n",
            "recall = 0.7222775091029364\n",
            "f1 = 0.6818412252572353\n",
            "--------------------------------------\n",
            "--------------------------------------\n",
            "--------------------------------------\n",
            "---------------------------------\n",
            "---------------------------------\n",
            "[1 1 3 ... 1 1 2]\n",
            "accuracy = 0.7226182760855476\n",
            "precision = 0.7849957970507676\n",
            "recall = 0.7222775091029364\n",
            "f1 = 0.6818412252572353\n",
            "--------------------------------------\n",
            "--------------------------------------\n",
            "--------------------------------------\n",
            "---------------------------------\n",
            "---------------------------------\n",
            "[1 1 3 ... 1 1 2]\n",
            "accuracy = 0.7226182760855476\n",
            "precision = 0.7849957970507676\n",
            "recall = 0.7222775091029364\n",
            "f1 = 0.6818412252572353\n",
            "--------------------------------------\n",
            "--------------------------------------\n",
            "--------------------------------------\n",
            "---------------------------------\n",
            "---------------------------------\n",
            "[1 1 3 ... 1 1 2]\n",
            "accuracy = 0.7226182760855476\n",
            "precision = 0.7849957970507676\n",
            "recall = 0.7222775091029364\n",
            "f1 = 0.6818412252572353\n",
            "--------------------------------------\n",
            "--------------------------------------\n",
            "--------------------------------------\n",
            "---------------------------------\n",
            "---------------------------------\n",
            "[1 1 3 ... 1 1 2]\n",
            "accuracy = 0.7226182760855476\n",
            "precision = 0.7849957970507676\n",
            "recall = 0.7222775091029364\n",
            "f1 = 0.6818412252572353\n",
            "--------------------------------------\n",
            "--------------------------------------\n",
            "--------------------------------------\n",
            "---------------------------------\n",
            "---------------------------------\n",
            "[1 1 3 ... 1 1 2]\n",
            "accuracy = 0.7226182760855476\n",
            "precision = 0.7849957970507676\n",
            "recall = 0.7222775091029364\n",
            "f1 = 0.6818412252572353\n",
            "--------------------------------------\n",
            "--------------------------------------\n",
            "--------------------------------------\n",
            "---------------------------------\n",
            "---------------------------------\n",
            "[1 1 3 ... 1 1 2]\n",
            "accuracy = 0.7226182760855476\n",
            "precision = 0.7849957970507676\n",
            "recall = 0.7222775091029364\n",
            "f1 = 0.6818412252572353\n",
            "--------------------------------------\n",
            "--------------------------------------\n",
            "--------------------------------------\n",
            "---------------------------------\n",
            "---------------------------------\n",
            "[1 1 3 ... 1 1 2]\n",
            "accuracy = 0.7226182760855476\n",
            "precision = 0.7849957970507676\n",
            "recall = 0.7222775091029364\n",
            "f1 = 0.6818412252572353\n",
            "--------------------------------------\n",
            "--------------------------------------\n",
            "--------------------------------------\n",
            "---------------------------------\n",
            "---------------------------------\n",
            "---------------------------------\n",
            "---------------------------------\n",
            "average acc= 0.7226182760855477\n",
            "average pre= 0.7849957970507677\n",
            "average rec= 0.7222775091029365\n",
            "average f1= 0.6818412252572353\n"
          ]
        },
        {
          "output_type": "display_data",
          "data": {
            "text/plain": [
              "<Figure size 432x288 with 2 Axes>"
            ],
            "image/png": "[encoded data removed]"
          },
          "metadata": {
            "needs_background": "light"
          }
        }
      ]
    },
    {
      "cell_type": "code",
      "execution_count": 563,
      "metadata": {
        "id": "VAK-2Szh_2fu"
      },
      "outputs": [],
      "source": [
        "from sklearn.feature_selection import SequentialFeatureSelector\n",
        "from sklearn.neighbors import KNeighborsClassifier\n",
        "X = merged_data2.drop('DrivingStyle' , axis = 1)\n",
        "knn = KNeighborsClassifier(n_neighbors=3)\n",
        "sfs = SequentialFeatureSelector(knn, n_features_to_select=7)\n",
        "fit6 = sfs.fit(X, y)\n",
        "filter = sfs.get_support(True)\n"
      ]
    },
    {
      "cell_type": "code",
      "execution_count": 564,
      "metadata": {
        "colab": {
          "base_uri": "https://localhost:8080/"
        },
        "id": "TZOVpfpmIxAV",
        "outputId": "3ec6f7b9-0a82-420b-817a-a679ee9cc300"
      },
      "outputs": [
        {
          "output_type": "stream",
          "name": "stdout",
          "text": [
            "All features:\n",
            "['veincle length' 'veincle weight' 'axles number'\n",
            " 'perceding veincle time-gap' 'Lane of the road' 'veincle speed'\n",
            " 'perceding veincle speed' 'perceding veincle weight'\n",
            " 'perceding veincle length' 'road condition' 'Air temprture'\n",
            " 'perciption type' 'perciption intensity' 'relatve humadity'\n",
            " 'wind direction' 'wind speed' 'Lighting condition']\n",
            "[ 2  4  5  9 12 15 16]\n",
            "Selected best 4:\n",
            "Index(['axles number', 'perceding veincle time-gap', 'Lane of the road',\n",
            "       'perceding veincle length', 'perciption type', 'wind direction',\n",
            "       'wind speed'],\n",
            "      dtype='object')\n",
            "SequentialFeatureSelector(estimator=KNeighborsClassifier(n_neighbors=3),\n",
            "                          n_features_to_select=7)\n"
          ]
        }
      ],
      "source": [
        "print(\"All features:\")\n",
        "print(features)\n",
        "print(filter)\n",
        "print(\"Selected best 4:\")\n",
        "print(merged_data2.iloc[:,filter].columns)\n",
        "print(fit6)"
      ]
    },
    {
      "cell_type": "code",
      "execution_count": 565,
      "metadata": {
        "colab": {
          "base_uri": "https://localhost:8080/",
          "height": 1000
        },
        "id": "sGXEmbOCDyqS",
        "outputId": "e0cdef64-4f52-4b6d-b7cd-6e5c6ce8cec6"
      },
      "outputs": [
        {
          "output_type": "stream",
          "name": "stdout",
          "text": [
            "---------------------------------\n",
            "---------------------------------\n",
            "[3 1 3 ... 2 2 3]\n",
            "accuracy = 0.5132858068697342\n",
            "f1 score = 0.4477333030932069\n",
            "precision = 0.4723553661800674\n",
            "recall =  0.4473038431171714\n",
            "---------------------------------\n",
            "---------------------------------\n",
            "[3 1 3 ... 2 2 3]\n",
            "accuracy = 0.4854180168502916\n",
            "f1 score = 0.41318270638065124\n",
            "precision = 0.4406604222434944\n",
            "recall =  0.415317763771768\n",
            "---------------------------------\n",
            "---------------------------------\n",
            "[3 1 3 ... 2 2 3]\n",
            "accuracy = 0.49125081011017496\n",
            "f1 score = 0.4231705824254748\n",
            "precision = 0.44937851077965413\n",
            "recall =  0.4241989706940734\n",
            "---------------------------------\n",
            "---------------------------------\n",
            "[3 1 3 ... 2 2 3]\n",
            "accuracy = 0.4873622812702528\n",
            "f1 score = 0.41774559282503104\n",
            "precision = 0.44545408481479054\n",
            "recall =  0.41868037005352154\n",
            "---------------------------------\n",
            "---------------------------------\n",
            "[3 1 3 ... 2 2 3]\n",
            "accuracy = 0.4899546338302009\n",
            "f1 score = 0.4246485844869224\n",
            "precision = 0.4486069252305665\n",
            "recall =  0.42510334766912455\n",
            "---------------------------------\n",
            "---------------------------------\n",
            "[3 1 3 ... 2 2 3]\n",
            "accuracy = 0.49125081011017496\n",
            "f1 score = 0.4216717023742336\n",
            "precision = 0.4442724765563346\n",
            "recall =  0.4236569652740192\n",
            "---------------------------------\n",
            "---------------------------------\n",
            "[3 1 3 ... 2 2 3]\n",
            "accuracy = 0.49773169151004537\n",
            "f1 score = 0.42616672369632647\n",
            "precision = 0.4513644254571392\n",
            "recall =  0.42986713689613637\n",
            "---------------------------------\n",
            "---------------------------------\n",
            "[3 1 3 ... 2 2 3]\n",
            "accuracy = 0.4931950745301361\n",
            "f1 score = 0.4277340250694632\n",
            "precision = 0.45172919370242975\n",
            "recall =  0.42816488293730465\n",
            "---------------------------------\n",
            "---------------------------------\n",
            "[3 1 2 ... 1 2 3]\n",
            "accuracy = 0.48930654569021387\n",
            "f1 score = 0.421372155427656\n",
            "precision = 0.44556570033933557\n",
            "recall =  0.4226156320260411\n",
            "---------------------------------\n",
            "---------------------------------\n",
            "[3 1 3 ... 2 2 3]\n",
            "accuracy = 0.4957874270900843\n",
            "f1 score = 0.4238442881866719\n",
            "precision = 0.4501292841658524\n",
            "recall =  0.42503176570777873\n",
            "---------------------------------\n",
            "---------------------------------\n",
            "---------------------------------\n",
            "---------------------------------\n",
            "average acc= 0.4934543097861309\n",
            "average pre= 0.44995163894696644\n",
            "average rec= 0.42599406781469396\n",
            "average f1= 0.4247269663965638\n"
          ]
        },
        {
          "output_type": "display_data",
          "data": {
            "text/plain": [
              "<Figure size 432x288 with 2 Axes>"
            ],
            "image/png": "[encoded data removed]"
          },
          "metadata": {
            "needs_background": "light"
          }
        }
      ],
      "source": [
        "X = merged_data2[['axles number', 'perceding veincle time-gap', 'Lane of the road',\n",
        "       'perceding veincle length', 'perciption type', 'wind direction',\n",
        "       'wind speed']]\n",
        "y = merged_data2['DrivingStyle']\n",
        "\n",
        "x_train,x_test,y_train,y_test=train_test_split(X,y,test_size=0.12,random_state=123)\n",
        "\n",
        "avgList = []\n",
        "preList = []\n",
        "recList = []\n",
        "f1List = []\n",
        "\n",
        "for x in range(10):\n",
        "\n",
        "  clf2=RandomForestClassifier(n_estimators=150,max_depth=100,min_samples_split=3,oob_score=True)\n",
        "  clf2.fit(x_train,y_train)\n",
        "  y_pred = clf2.predict(x_test)\n",
        "  print(\"---------------------------------\")\n",
        "  print(\"---------------------------------\")\n",
        "  print(y_pred)\n",
        "\n",
        "  print(\"accuracy =\" ,met.accuracy_score(y_test,y_pred))\n",
        "  print(\"f1 score =\" ,met.f1_score(y_test,y_pred,average='macro'))\n",
        "  print(\"precision =\",met.precision_score(y_test,y_pred,average='macro'))\n",
        "  print(\"recall = \",met.recall_score(y_test,y_pred,average='macro'))\n",
        "\n",
        "  avgList.append(met.accuracy_score(y_test,y_pred))\n",
        "  preList.append(met.precision_score(y_test,y_pred,average='macro'))\n",
        "  recList.append(met.recall_score(y_test,y_pred,average='macro'))\n",
        "  f1List.append(met.f1_score(y_test,y_pred,average='macro'))\n",
        "\n",
        "print(\"---------------------------------\")\n",
        "print(\"---------------------------------\")\n",
        "print(\"---------------------------------\")\n",
        "print(\"---------------------------------\")\n",
        "\n",
        "print(\"average acc=\" ,sum(avgList)/len(avgList))\n",
        "print(\"average pre=\" ,sum(preList)/len(preList))\n",
        "print(\"average rec=\" ,sum(recList)/len(recList))\n",
        "print(\"average f1=\" ,sum(f1List)/len(f1List))\n",
        "\n",
        "\n",
        "ConfusionMatrixDisplay.from_predictions(y_test, y_pred)\n",
        "plt.show()"
      ]
    },
    {
      "cell_type": "code",
      "source": [
        "avgList = []\n",
        "preList = []\n",
        "recList = []\n",
        "f1List = []\n",
        "\n",
        "for x in range(10):\n",
        "\n",
        "  neigh = KNeighborsClassifier(n_neighbors=2,leaf_size=30,p=2,algorithm='ball_tree')\n",
        "  neigh.fit(x_test, y_test)\n",
        "  y_pred = neigh.predict(x_test)\n",
        "\n",
        "  print(\"---------------------------------\")\n",
        "  print(\"---------------------------------\")\n",
        "  print(y_pred)\n",
        "\n",
        "  print('accuracy =', met.accuracy_score(y_test,y_pred))\n",
        "  print('precision =',met.precision_score(y_test,y_pred,average='macro'))\n",
        "  print('recall =',met.recall_score(y_test,y_pred,average='macro'))\n",
        "  print('f1 =',met.f1_score(y_test,y_pred,average='macro'))\n",
        "\n",
        "  print('--------------------------------------')\n",
        "  print('--------------------------------------') \n",
        "  print('--------------------------------------')\n",
        "\n",
        "  avgList.append(met.accuracy_score(y_test,y_pred))\n",
        "  preList.append(met.precision_score(y_test,y_pred,average='macro'))\n",
        "  recList.append(met.recall_score(y_test,y_pred,average='macro'))\n",
        "  f1List.append(met.f1_score(y_test,y_pred,average='macro'))\n",
        "\n",
        "print(\"---------------------------------\")\n",
        "print(\"---------------------------------\")\n",
        "print(\"---------------------------------\")\n",
        "print(\"---------------------------------\")\n",
        "\n",
        "print(\"average acc=\" ,sum(avgList)/len(avgList))\n",
        "print(\"average pre=\" ,sum(preList)/len(preList))\n",
        "print(\"average rec=\" ,sum(recList)/len(recList))\n",
        "print(\"average f1=\" ,sum(f1List)/len(f1List))\n",
        "\n",
        "ConfusionMatrixDisplay.from_predictions(y_test, y_pred)\n",
        "plt.show()"
      ],
      "metadata": {
        "colab": {
          "base_uri": "https://localhost:8080/",
          "height": 1000
        },
        "id": "fBom7AOgULVW",
        "outputId": "f1f772a1-53ee-4b2a-a21c-e1158c48a64d"
      },
      "execution_count": 566,
      "outputs": [
        {
          "output_type": "stream",
          "name": "stdout",
          "text": [
            "---------------------------------\n",
            "---------------------------------\n",
            "[1 3 3 ... 2 1 2]\n",
            "accuracy = 0.7044718081659106\n",
            "precision = 0.7780268716035814\n",
            "recall = 0.6988678798742175\n",
            "f1 = 0.6468944917921274\n",
            "--------------------------------------\n",
            "--------------------------------------\n",
            "--------------------------------------\n",
            "---------------------------------\n",
            "---------------------------------\n",
            "[1 3 3 ... 2 1 2]\n",
            "accuracy = 0.7044718081659106\n",
            "precision = 0.7780268716035814\n",
            "recall = 0.6988678798742175\n",
            "f1 = 0.6468944917921274\n",
            "--------------------------------------\n",
            "--------------------------------------\n",
            "--------------------------------------\n",
            "---------------------------------\n",
            "---------------------------------\n",
            "[1 3 3 ... 2 1 2]\n",
            "accuracy = 0.7044718081659106\n",
            "precision = 0.7780268716035814\n",
            "recall = 0.6988678798742175\n",
            "f1 = 0.6468944917921274\n",
            "--------------------------------------\n",
            "--------------------------------------\n",
            "--------------------------------------\n",
            "---------------------------------\n",
            "---------------------------------\n",
            "[1 3 3 ... 2 1 2]\n",
            "accuracy = 0.7044718081659106\n",
            "precision = 0.7780268716035814\n",
            "recall = 0.6988678798742175\n",
            "f1 = 0.6468944917921274\n",
            "--------------------------------------\n",
            "--------------------------------------\n",
            "--------------------------------------\n",
            "---------------------------------\n",
            "---------------------------------\n",
            "[1 3 3 ... 2 1 2]\n",
            "accuracy = 0.7044718081659106\n",
            "precision = 0.7780268716035814\n",
            "recall = 0.6988678798742175\n",
            "f1 = 0.6468944917921274\n",
            "--------------------------------------\n",
            "--------------------------------------\n",
            "--------------------------------------\n",
            "---------------------------------\n",
            "---------------------------------\n",
            "[1 3 3 ... 2 1 2]\n",
            "accuracy = 0.7044718081659106\n",
            "precision = 0.7780268716035814\n",
            "recall = 0.6988678798742175\n",
            "f1 = 0.6468944917921274\n",
            "--------------------------------------\n",
            "--------------------------------------\n",
            "--------------------------------------\n",
            "---------------------------------\n",
            "---------------------------------\n",
            "[1 3 3 ... 2 1 2]\n",
            "accuracy = 0.7044718081659106\n",
            "precision = 0.7780268716035814\n",
            "recall = 0.6988678798742175\n",
            "f1 = 0.6468944917921274\n",
            "--------------------------------------\n",
            "--------------------------------------\n",
            "--------------------------------------\n",
            "---------------------------------\n",
            "---------------------------------\n",
            "[1 3 3 ... 2 1 2]\n",
            "accuracy = 0.7044718081659106\n",
            "precision = 0.7780268716035814\n",
            "recall = 0.6988678798742175\n",
            "f1 = 0.6468944917921274\n",
            "--------------------------------------\n",
            "--------------------------------------\n",
            "--------------------------------------\n",
            "---------------------------------\n",
            "---------------------------------\n",
            "[1 3 3 ... 2 1 2]\n",
            "accuracy = 0.7044718081659106\n",
            "precision = 0.7780268716035814\n",
            "recall = 0.6988678798742175\n",
            "f1 = 0.6468944917921274\n",
            "--------------------------------------\n",
            "--------------------------------------\n",
            "--------------------------------------\n",
            "---------------------------------\n",
            "---------------------------------\n",
            "[1 3 3 ... 2 1 2]\n",
            "accuracy = 0.7044718081659106\n",
            "precision = 0.7780268716035814\n",
            "recall = 0.6988678798742175\n",
            "f1 = 0.6468944917921274\n",
            "--------------------------------------\n",
            "--------------------------------------\n",
            "--------------------------------------\n",
            "---------------------------------\n",
            "---------------------------------\n",
            "---------------------------------\n",
            "---------------------------------\n",
            "average acc= 0.7044718081659107\n",
            "average pre= 0.7780268716035813\n",
            "average rec= 0.6988678798742176\n",
            "average f1= 0.6468944917921274\n"
          ]
        },
        {
          "output_type": "display_data",
          "data": {
            "text/plain": [
              "<Figure size 432x288 with 2 Axes>"
            ],
            "image/png": "[encoded data removed]"
          },
          "metadata": {
            "needs_background": "light"
          }
        }
      ]
    },
    {
      "cell_type": "code",
      "execution_count": 567,
      "metadata": {
        "colab": {
          "base_uri": "https://localhost:8080/",
          "height": 206
        },
        "id": "kKticwDVLDSk",
        "outputId": "591255c3-732b-49e2-bc12-94953f288706"
      },
      "outputs": [
        {
          "output_type": "execute_result",
          "data": {
            "text/plain": [
              "        PC1       PC2  DrivingStyle\n",
              "0  0.005131 -0.181286           2.0\n",
              "1  2.294394  0.005873           2.0\n",
              "2 -0.708153  2.855183           2.0\n",
              "3  0.880408  0.288475           2.0\n",
              "4 -0.855724  0.354669           2.0"
            ],
            "text/html": [
              "\n",
              "  <div id=\"df-fe7313ab-c718-47e0-acb9-b90c4586cb76\">\n",
              "    <div class=\"colab-df-container\">\n",
              "      <div>\n",
              "<style scoped>\n",
              "    .dataframe tbody tr th:only-of-type {\n",
              "        vertical-align: middle;\n",
              "    }\n",
              "\n",
              "    .dataframe tbody tr th {\n",
              "        vertical-align: top;\n",
              "    }\n",
              "\n",
              "    .dataframe thead th {\n",
              "        text-align: right;\n",
              "    }\n",
              "</style>\n",
              "<table border=\"1\" class=\"dataframe\">\n",
              "  <thead>\n",
              "    <tr style=\"text-align: right;\">\n",
              "      <th></th>\n",
              "      <th>PC1</th>\n",
              "      <th>PC2</th>\n",
              "      <th>DrivingStyle</th>\n",
              "    </tr>\n",
              "  </thead>\n",
              "  <tbody>\n",
              "    <tr>\n",
              "      <th>0</th>\n",
              "      <td>0.005131</td>\n",
              "      <td>-0.181286</td>\n",
              "      <td>2.0</td>\n",
              "    </tr>\n",
              "    <tr>\n",
              "      <th>1</th>\n",
              "      <td>2.294394</td>\n",
              "      <td>0.005873</td>\n",
              "      <td>2.0</td>\n",
              "    </tr>\n",
              "    <tr>\n",
              "      <th>2</th>\n",
              "      <td>-0.708153</td>\n",
              "      <td>2.855183</td>\n",
              "      <td>2.0</td>\n",
              "    </tr>\n",
              "    <tr>\n",
              "      <th>3</th>\n",
              "      <td>0.880408</td>\n",
              "      <td>0.288475</td>\n",
              "      <td>2.0</td>\n",
              "    </tr>\n",
              "    <tr>\n",
              "      <th>4</th>\n",
              "      <td>-0.855724</td>\n",
              "      <td>0.354669</td>\n",
              "      <td>2.0</td>\n",
              "    </tr>\n",
              "  </tbody>\n",
              "</table>\n",
              "</div>\n",
              "      <button class=\"colab-df-convert\" onclick=\"convertToInteractive('df-fe7313ab-c718-47e0-acb9-b90c4586cb76')\"\n",
              "              title=\"Convert this dataframe to an interactive table.\"\n",
              "              style=\"display:none;\">\n",
              "        \n",
              "  <svg xmlns=\"http://www.w3.org/2000/svg\" height=\"24px\"viewBox=\"0 0 24 24\"\n",
              "       width=\"24px\">\n",
              "    <path d=\"M0 0h24v24H0V0z\" fill=\"none\"/>\n",
              "    <path d=\"M18.56 5.44l.94 2.06.94-2.06 2.06-.94-2.06-.94-.94-2.06-.94 2.06-2.06.94zm-11 1L8.5 8.5l.94-2.06 2.06-.94-2.06-.94L8.5 2.5l-.94 2.06-2.06.94zm10 10l.94 2.06.94-2.06 2.06-.94-2.06-.94-.94-2.06-.94 2.06-2.06.94z\"/><path d=\"M17.41 7.96l-1.37-1.37c-.4-.4-.92-.59-1.43-.59-.52 0-1.04.2-1.43.59L10.3 9.45l-7.72 7.72c-.78.78-.78 2.05 0 2.83L4 21.41c.39.39.9.59 1.41.59.51 0 1.02-.2 1.41-.59l7.78-7.78 2.81-2.81c.8-.78.8-2.07 0-2.86zM5.41 20L4 18.59l7.72-7.72 1.47 1.35L5.41 20z\"/>\n",
              "  </svg>\n",
              "      </button>\n",
              "      \n",
              "  <style>\n",
              "    .colab-df-container {\n",
              "      display:flex;\n",
              "      flex-wrap:wrap;\n",
              "      gap: 12px;\n",
              "    }\n",
              "\n",
              "    .colab-df-convert {\n",
              "      background-color: #E8F0FE;\n",
              "      border: none;\n",
              "      border-radius: 50%;\n",
              "      cursor: pointer;\n",
              "      display: none;\n",
              "      fill: #1967D2;\n",
              "      height: 32px;\n",
              "      padding: 0 0 0 0;\n",
              "      width: 32px;\n",
              "    }\n",
              "\n",
              "    .colab-df-convert:hover {\n",
              "      background-color: #E2EBFA;\n",
              "      box-shadow: 0px 1px 2px rgba(60, 64, 67, 0.3), 0px 1px 3px 1px rgba(60, 64, 67, 0.15);\n",
              "      fill: #174EA6;\n",
              "    }\n",
              "\n",
              "    [theme=dark] .colab-df-convert {\n",
              "      background-color: #3B4455;\n",
              "      fill: #D2E3FC;\n",
              "    }\n",
              "\n",
              "    [theme=dark] .colab-df-convert:hover {\n",
              "      background-color: #434B5C;\n",
              "      box-shadow: 0px 1px 3px 1px rgba(0, 0, 0, 0.15);\n",
              "      filter: drop-shadow(0px 1px 2px rgba(0, 0, 0, 0.3));\n",
              "      fill: #FFFFFF;\n",
              "    }\n",
              "  </style>\n",
              "\n",
              "      <script>\n",
              "        const buttonEl =\n",
              "          document.querySelector('#df-fe7313ab-c718-47e0-acb9-b90c4586cb76 button.colab-df-convert');\n",
              "        buttonEl.style.display =\n",
              "          google.colab.kernel.accessAllowed ? 'block' : 'none';\n",
              "\n",
              "        async function convertToInteractive(key) {\n",
              "          const element = document.querySelector('#df-fe7313ab-c718-47e0-acb9-b90c4586cb76');\n",
              "          const dataTable =\n",
              "            await google.colab.kernel.invokeFunction('convertToInteractive',\n",
              "                                                     [key], {});\n",
              "          if (!dataTable) return;\n",
              "\n",
              "          const docLinkHtml = 'Like what you see? Visit the ' +\n",
              "            '<a target=\"_blank\" href=https://colab.research.google.com/notebooks/data_table.ipynb>data table notebook</a>'\n",
              "            + ' to learn more about interactive tables.';\n",
              "          element.innerHTML = '';\n",
              "          dataTable['output_type'] = 'display_data';\n",
              "          await google.colab.output.renderOutput(dataTable, element);\n",
              "          const docLink = document.createElement('div');\n",
              "          docLink.innerHTML = docLinkHtml;\n",
              "          element.appendChild(docLink);\n",
              "        }\n",
              "      </script>\n",
              "    </div>\n",
              "  </div>\n",
              "  "
            ]
          },
          "metadata": {},
          "execution_count": 567
        }
      ],
      "source": [
        "X = merged_data2.drop('DrivingStyle' , axis = 1)\n",
        "scaler = StandardScaler()\n",
        "scaler.fit(X)\n",
        "scaled_data = scaler.transform(X)\n",
        "from sklearn.decomposition import PCA\n",
        "pca = PCA(n_components=2)\n",
        "pca.fit(scaled_data)\n",
        "principalComponents = pca.transform(scaled_data)\n",
        "principalDataframe = pd.DataFrame(data = principalComponents, columns = ['PC1', 'PC2'])\n",
        "newDataframe = pd.concat([principalDataframe, y],axis = 1)\n",
        "newDataframe.head(5)"
      ]
    },
    {
      "cell_type": "code",
      "execution_count": 568,
      "metadata": {
        "colab": {
          "base_uri": "https://localhost:8080/",
          "height": 423
        },
        "id": "NqjpKHBtQClA",
        "outputId": "f8982dc5-1af5-42ce-d3b5-bec21236eff7"
      },
      "outputs": [
        {
          "output_type": "execute_result",
          "data": {
            "text/plain": [
              "            PC1       PC2\n",
              "0      0.005131 -0.181286\n",
              "1      2.294394  0.005873\n",
              "2     -0.708153  2.855183\n",
              "3      0.880408  0.288475\n",
              "4     -0.855724  0.354669\n",
              "...         ...       ...\n",
              "12852 -1.262319  3.464855\n",
              "12853 -1.549867  4.124811\n",
              "12854  2.271728  3.734554\n",
              "12855 -0.972259  2.499082\n",
              "12856  1.651739  7.579126\n",
              "\n",
              "[12857 rows x 2 columns]"
            ],
            "text/html": [
              "\n",
              "  <div id=\"df-6f4cd6d4-f199-453c-b54c-b90e31197e30\">\n",
              "    <div class=\"colab-df-container\">\n",
              "      <div>\n",
              "<style scoped>\n",
              "    .dataframe tbody tr th:only-of-type {\n",
              "        vertical-align: middle;\n",
              "    }\n",
              "\n",
              "    .dataframe tbody tr th {\n",
              "        vertical-align: top;\n",
              "    }\n",
              "\n",
              "    .dataframe thead th {\n",
              "        text-align: right;\n",
              "    }\n",
              "</style>\n",
              "<table border=\"1\" class=\"dataframe\">\n",
              "  <thead>\n",
              "    <tr style=\"text-align: right;\">\n",
              "      <th></th>\n",
              "      <th>PC1</th>\n",
              "      <th>PC2</th>\n",
              "    </tr>\n",
              "  </thead>\n",
              "  <tbody>\n",
              "    <tr>\n",
              "      <th>0</th>\n",
              "      <td>0.005131</td>\n",
              "      <td>-0.181286</td>\n",
              "    </tr>\n",
              "    <tr>\n",
              "      <th>1</th>\n",
              "      <td>2.294394</td>\n",
              "      <td>0.005873</td>\n",
              "    </tr>\n",
              "    <tr>\n",
              "      <th>2</th>\n",
              "      <td>-0.708153</td>\n",
              "      <td>2.855183</td>\n",
              "    </tr>\n",
              "    <tr>\n",
              "      <th>3</th>\n",
              "      <td>0.880408</td>\n",
              "      <td>0.288475</td>\n",
              "    </tr>\n",
              "    <tr>\n",
              "      <th>4</th>\n",
              "      <td>-0.855724</td>\n",
              "      <td>0.354669</td>\n",
              "    </tr>\n",
              "    <tr>\n",
              "      <th>...</th>\n",
              "      <td>...</td>\n",
              "      <td>...</td>\n",
              "    </tr>\n",
              "    <tr>\n",
              "      <th>12852</th>\n",
              "      <td>-1.262319</td>\n",
              "      <td>3.464855</td>\n",
              "    </tr>\n",
              "    <tr>\n",
              "      <th>12853</th>\n",
              "      <td>-1.549867</td>\n",
              "      <td>4.124811</td>\n",
              "    </tr>\n",
              "    <tr>\n",
              "      <th>12854</th>\n",
              "      <td>2.271728</td>\n",
              "      <td>3.734554</td>\n",
              "    </tr>\n",
              "    <tr>\n",
              "      <th>12855</th>\n",
              "      <td>-0.972259</td>\n",
              "      <td>2.499082</td>\n",
              "    </tr>\n",
              "    <tr>\n",
              "      <th>12856</th>\n",
              "      <td>1.651739</td>\n",
              "      <td>7.579126</td>\n",
              "    </tr>\n",
              "  </tbody>\n",
              "</table>\n",
              "<p>12857 rows × 2 columns</p>\n",
              "</div>\n",
              "      <button class=\"colab-df-convert\" onclick=\"convertToInteractive('df-6f4cd6d4-f199-453c-b54c-b90e31197e30')\"\n",
              "              title=\"Convert this dataframe to an interactive table.\"\n",
              "              style=\"display:none;\">\n",
              "        \n",
              "  <svg xmlns=\"http://www.w3.org/2000/svg\" height=\"24px\"viewBox=\"0 0 24 24\"\n",
              "       width=\"24px\">\n",
              "    <path d=\"M0 0h24v24H0V0z\" fill=\"none\"/>\n",
              "    <path d=\"M18.56 5.44l.94 2.06.94-2.06 2.06-.94-2.06-.94-.94-2.06-.94 2.06-2.06.94zm-11 1L8.5 8.5l.94-2.06 2.06-.94-2.06-.94L8.5 2.5l-.94 2.06-2.06.94zm10 10l.94 2.06.94-2.06 2.06-.94-2.06-.94-.94-2.06-.94 2.06-2.06.94z\"/><path d=\"M17.41 7.96l-1.37-1.37c-.4-.4-.92-.59-1.43-.59-.52 0-1.04.2-1.43.59L10.3 9.45l-7.72 7.72c-.78.78-.78 2.05 0 2.83L4 21.41c.39.39.9.59 1.41.59.51 0 1.02-.2 1.41-.59l7.78-7.78 2.81-2.81c.8-.78.8-2.07 0-2.86zM5.41 20L4 18.59l7.72-7.72 1.47 1.35L5.41 20z\"/>\n",
              "  </svg>\n",
              "      </button>\n",
              "      \n",
              "  <style>\n",
              "    .colab-df-container {\n",
              "      display:flex;\n",
              "      flex-wrap:wrap;\n",
              "      gap: 12px;\n",
              "    }\n",
              "\n",
              "    .colab-df-convert {\n",
              "      background-color: #E8F0FE;\n",
              "      border: none;\n",
              "      border-radius: 50%;\n",
              "      cursor: pointer;\n",
              "      display: none;\n",
              "      fill: #1967D2;\n",
              "      height: 32px;\n",
              "      padding: 0 0 0 0;\n",
              "      width: 32px;\n",
              "    }\n",
              "\n",
              "    .colab-df-convert:hover {\n",
              "      background-color: #E2EBFA;\n",
              "      box-shadow: 0px 1px 2px rgba(60, 64, 67, 0.3), 0px 1px 3px 1px rgba(60, 64, 67, 0.15);\n",
              "      fill: #174EA6;\n",
              "    }\n",
              "\n",
              "    [theme=dark] .colab-df-convert {\n",
              "      background-color: #3B4455;\n",
              "      fill: #D2E3FC;\n",
              "    }\n",
              "\n",
              "    [theme=dark] .colab-df-convert:hover {\n",
              "      background-color: #434B5C;\n",
              "      box-shadow: 0px 1px 3px 1px rgba(0, 0, 0, 0.15);\n",
              "      filter: drop-shadow(0px 1px 2px rgba(0, 0, 0, 0.3));\n",
              "      fill: #FFFFFF;\n",
              "    }\n",
              "  </style>\n",
              "\n",
              "      <script>\n",
              "        const buttonEl =\n",
              "          document.querySelector('#df-6f4cd6d4-f199-453c-b54c-b90e31197e30 button.colab-df-convert');\n",
              "        buttonEl.style.display =\n",
              "          google.colab.kernel.accessAllowed ? 'block' : 'none';\n",
              "\n",
              "        async function convertToInteractive(key) {\n",
              "          const element = document.querySelector('#df-6f4cd6d4-f199-453c-b54c-b90e31197e30');\n",
              "          const dataTable =\n",
              "            await google.colab.kernel.invokeFunction('convertToInteractive',\n",
              "                                                     [key], {});\n",
              "          if (!dataTable) return;\n",
              "\n",
              "          const docLinkHtml = 'Like what you see? Visit the ' +\n",
              "            '<a target=\"_blank\" href=https://colab.research.google.com/notebooks/data_table.ipynb>data table notebook</a>'\n",
              "            + ' to learn more about interactive tables.';\n",
              "          element.innerHTML = '';\n",
              "          dataTable['output_type'] = 'display_data';\n",
              "          await google.colab.output.renderOutput(dataTable, element);\n",
              "          const docLink = document.createElement('div');\n",
              "          docLink.innerHTML = docLinkHtml;\n",
              "          element.appendChild(docLink);\n",
              "        }\n",
              "      </script>\n",
              "    </div>\n",
              "  </div>\n",
              "  "
            ]
          },
          "metadata": {},
          "execution_count": 568
        }
      ],
      "source": [
        "principalDataframe"
      ]
    },
    {
      "cell_type": "code",
      "execution_count": 569,
      "metadata": {
        "colab": {
          "base_uri": "https://localhost:8080/",
          "height": 1000
        },
        "id": "9v7H1UbyLTrt",
        "outputId": "097ba8a4-cf7d-4a92-a325-50a95aca1403"
      },
      "outputs": [
        {
          "output_type": "stream",
          "name": "stdout",
          "text": [
            "---------------------------------\n",
            "---------------------------------\n",
            "[3 2 3 ... 2 1 2]\n",
            "accuracy = 0.48412184057031754\n",
            "f1 score = 0.4433952333726503\n",
            "precision = 0.4523836650093322\n",
            "recall =  0.439654272705934\n",
            "---------------------------------\n",
            "---------------------------------\n",
            "[3 1 3 ... 2 1 2]\n",
            "accuracy = 0.48088139987038236\n",
            "f1 score = 0.4383619798575305\n",
            "precision = 0.44765521137990477\n",
            "recall =  0.4347828195533208\n",
            "---------------------------------\n",
            "---------------------------------\n",
            "[3 1 3 ... 2 1 2]\n",
            "accuracy = 0.4899546338302009\n",
            "f1 score = 0.4481043069616469\n",
            "precision = 0.45816371723222343\n",
            "recall =  0.44413328600000385\n",
            "---------------------------------\n",
            "---------------------------------\n",
            "[3 1 3 ... 2 1 2]\n",
            "accuracy = 0.4854180168502916\n",
            "f1 score = 0.4393663188449144\n",
            "precision = 0.45192002383848445\n",
            "recall =  0.43504295887626016\n",
            "---------------------------------\n",
            "---------------------------------\n",
            "[3 1 3 ... 2 1 2]\n",
            "accuracy = 0.4847699287103046\n",
            "f1 score = 0.44448050684996226\n",
            "precision = 0.4542833390940593\n",
            "recall =  0.44009171802526903\n",
            "---------------------------------\n",
            "---------------------------------\n",
            "[3 3 3 ... 1 1 2]\n",
            "accuracy = 0.4867141931302657\n",
            "f1 score = 0.44461485336264706\n",
            "precision = 0.4550710475167345\n",
            "recall =  0.4402893928724541\n",
            "---------------------------------\n",
            "---------------------------------\n",
            "[3 1 3 ... 1 1 2]\n",
            "accuracy = 0.4867141931302657\n",
            "f1 score = 0.4444346795778194\n",
            "precision = 0.45400350732529454\n",
            "recall =  0.4407700977510849\n",
            "---------------------------------\n",
            "---------------------------------\n",
            "[3 1 3 ... 1 1 2]\n",
            "accuracy = 0.47893713545042127\n",
            "f1 score = 0.4379558265578917\n",
            "precision = 0.44687537031154223\n",
            "recall =  0.43431414199610857\n",
            "---------------------------------\n",
            "---------------------------------\n",
            "[3 3 3 ... 1 1 2]\n",
            "accuracy = 0.48930654569021387\n",
            "f1 score = 0.4448786632783274\n",
            "precision = 0.4557435748551837\n",
            "recall =  0.4408325622268392\n",
            "---------------------------------\n",
            "---------------------------------\n",
            "[3 1 3 ... 1 2 2]\n",
            "accuracy = 0.4951393389500972\n",
            "f1 score = 0.45247672208629375\n",
            "precision = 0.46376034927518345\n",
            "recall =  0.4479651518061351\n",
            "---------------------------------\n",
            "---------------------------------\n",
            "---------------------------------\n",
            "---------------------------------\n",
            "average acc= 0.4861957226182761\n",
            "average pre= 0.4539859805837942\n",
            "average rec= 0.4397876401813409\n",
            "average f1= 0.4438069090749684\n"
          ]
        },
        {
          "output_type": "display_data",
          "data": {
            "text/plain": [
              "<Figure size 432x288 with 2 Axes>"
            ],
            "image/png": "[encoded data removed]"
          },
          "metadata": {
            "needs_background": "light"
          }
        }
      ],
      "source": [
        "X = principalDataframe\n",
        "x_train,x_test,y_train,y_test=train_test_split(X,y,test_size=0.12,random_state=123)\n",
        "\n",
        "avgList = []\n",
        "preList = []\n",
        "recList = []\n",
        "f1List = []\n",
        "\n",
        "for x in range(10):\n",
        "\n",
        "  clf2=RandomForestClassifier(n_estimators=150,max_depth=100,min_samples_split=3,oob_score=True)\n",
        "  clf2.fit(x_train,y_train)\n",
        "  y_pred = clf2.predict(x_test)\n",
        "  print(\"---------------------------------\")\n",
        "  print(\"---------------------------------\")\n",
        "  print(y_pred)\n",
        "\n",
        "  print(\"accuracy =\" ,met.accuracy_score(y_test,y_pred))\n",
        "  print(\"f1 score =\" ,met.f1_score(y_test,y_pred,average='macro'))\n",
        "  print(\"precision =\",met.precision_score(y_test,y_pred,average='macro'))\n",
        "  print(\"recall = \",met.recall_score(y_test,y_pred,average='macro'))\n",
        "\n",
        "  avgList.append(met.accuracy_score(y_test,y_pred))\n",
        "  preList.append(met.precision_score(y_test,y_pred,average='macro'))\n",
        "  recList.append(met.recall_score(y_test,y_pred,average='macro'))\n",
        "  f1List.append(met.f1_score(y_test,y_pred,average='macro'))\n",
        "\n",
        "print(\"---------------------------------\")\n",
        "print(\"---------------------------------\")\n",
        "print(\"---------------------------------\")\n",
        "print(\"---------------------------------\")\n",
        "\n",
        "print(\"average acc=\" ,sum(avgList)/len(avgList))\n",
        "print(\"average pre=\" ,sum(preList)/len(preList))\n",
        "print(\"average rec=\" ,sum(recList)/len(recList))\n",
        "print(\"average f1=\" ,sum(f1List)/len(f1List))\n",
        "\n",
        "\n",
        "ConfusionMatrixDisplay.from_predictions(y_test, y_pred)\n",
        "plt.show()"
      ]
    },
    {
      "cell_type": "code",
      "source": [
        "avgList = []\n",
        "preList = []\n",
        "recList = []\n",
        "f1List = []\n",
        "\n",
        "for x in range(10):\n",
        "\n",
        "  neigh = KNeighborsClassifier(n_neighbors=2,leaf_size=30,p=2,algorithm='ball_tree')\n",
        "  neigh.fit(x_test, y_test)\n",
        "  y_pred = neigh.predict(x_test)\n",
        "\n",
        "  print(\"---------------------------------\")\n",
        "  print(\"---------------------------------\")\n",
        "  print(y_pred)\n",
        "\n",
        "  print('accuracy =', met.accuracy_score(y_test,y_pred))\n",
        "  print('precision =',met.precision_score(y_test,y_pred,average='macro'))\n",
        "  print('recall =',met.recall_score(y_test,y_pred,average='macro'))\n",
        "  print('f1 =',met.f1_score(y_test,y_pred,average='macro'))\n",
        "\n",
        "  print('--------------------------------------')\n",
        "  print('--------------------------------------') \n",
        "  print('--------------------------------------')\n",
        "\n",
        "  avgList.append(met.accuracy_score(y_test,y_pred))\n",
        "  preList.append(met.precision_score(y_test,y_pred,average='macro'))\n",
        "  recList.append(met.recall_score(y_test,y_pred,average='macro'))\n",
        "  f1List.append(met.f1_score(y_test,y_pred,average='macro'))\n",
        "\n",
        "print(\"---------------------------------\")\n",
        "print(\"---------------------------------\")\n",
        "print(\"---------------------------------\")\n",
        "print(\"---------------------------------\")\n",
        "\n",
        "print(\"average acc=\" ,sum(avgList)/len(avgList))\n",
        "print(\"average pre=\" ,sum(preList)/len(preList))\n",
        "print(\"average rec=\" ,sum(recList)/len(recList))\n",
        "print(\"average f1=\" ,sum(f1List)/len(f1List))\n",
        "\n",
        "ConfusionMatrixDisplay.from_predictions(y_test, y_pred)\n",
        "plt.show()"
      ],
      "metadata": {
        "colab": {
          "base_uri": "https://localhost:8080/",
          "height": 1000
        },
        "id": "bFmJUqd7HIMe",
        "outputId": "e256321a-9dd3-433f-90b7-29b69b42040a"
      },
      "execution_count": 570,
      "outputs": [
        {
          "output_type": "stream",
          "name": "stdout",
          "text": [
            "---------------------------------\n",
            "---------------------------------\n",
            "[1 2 3 ... 3 2 1]\n",
            "accuracy = 0.7342838626053143\n",
            "precision = 0.7930232558139535\n",
            "recall = 0.7349779725427891\n",
            "f1 = 0.7016039781449604\n",
            "--------------------------------------\n",
            "--------------------------------------\n",
            "--------------------------------------\n",
            "---------------------------------\n",
            "---------------------------------\n",
            "[1 2 3 ... 3 2 1]\n",
            "accuracy = 0.7342838626053143\n",
            "precision = 0.7930232558139535\n",
            "recall = 0.7349779725427891\n",
            "f1 = 0.7016039781449604\n",
            "--------------------------------------\n",
            "--------------------------------------\n",
            "--------------------------------------\n",
            "---------------------------------\n",
            "---------------------------------\n",
            "[1 2 3 ... 3 2 1]\n",
            "accuracy = 0.7342838626053143\n",
            "precision = 0.7930232558139535\n",
            "recall = 0.7349779725427891\n",
            "f1 = 0.7016039781449604\n",
            "--------------------------------------\n",
            "--------------------------------------\n",
            "--------------------------------------\n",
            "---------------------------------\n",
            "---------------------------------\n",
            "[1 2 3 ... 3 2 1]\n",
            "accuracy = 0.7342838626053143\n",
            "precision = 0.7930232558139535\n",
            "recall = 0.7349779725427891\n",
            "f1 = 0.7016039781449604\n",
            "--------------------------------------\n",
            "--------------------------------------\n",
            "--------------------------------------\n",
            "---------------------------------\n",
            "---------------------------------\n",
            "[1 2 3 ... 3 2 1]\n",
            "accuracy = 0.7342838626053143\n",
            "precision = 0.7930232558139535\n",
            "recall = 0.7349779725427891\n",
            "f1 = 0.7016039781449604\n",
            "--------------------------------------\n",
            "--------------------------------------\n",
            "--------------------------------------\n",
            "---------------------------------\n",
            "---------------------------------\n",
            "[1 2 3 ... 3 2 1]\n",
            "accuracy = 0.7342838626053143\n",
            "precision = 0.7930232558139535\n",
            "recall = 0.7349779725427891\n",
            "f1 = 0.7016039781449604\n",
            "--------------------------------------\n",
            "--------------------------------------\n",
            "--------------------------------------\n",
            "---------------------------------\n",
            "---------------------------------\n",
            "[1 2 3 ... 3 2 1]\n",
            "accuracy = 0.7342838626053143\n",
            "precision = 0.7930232558139535\n",
            "recall = 0.7349779725427891\n",
            "f1 = 0.7016039781449604\n",
            "--------------------------------------\n",
            "--------------------------------------\n",
            "--------------------------------------\n",
            "---------------------------------\n",
            "---------------------------------\n",
            "[1 2 3 ... 3 2 1]\n",
            "accuracy = 0.7342838626053143\n",
            "precision = 0.7930232558139535\n",
            "recall = 0.7349779725427891\n",
            "f1 = 0.7016039781449604\n",
            "--------------------------------------\n",
            "--------------------------------------\n",
            "--------------------------------------\n",
            "---------------------------------\n",
            "---------------------------------\n",
            "[1 2 3 ... 3 2 1]\n",
            "accuracy = 0.7342838626053143\n",
            "precision = 0.7930232558139535\n",
            "recall = 0.7349779725427891\n",
            "f1 = 0.7016039781449604\n",
            "--------------------------------------\n",
            "--------------------------------------\n",
            "--------------------------------------\n",
            "---------------------------------\n",
            "---------------------------------\n",
            "[1 2 3 ... 3 2 1]\n",
            "accuracy = 0.7342838626053143\n",
            "precision = 0.7930232558139535\n",
            "recall = 0.7349779725427891\n",
            "f1 = 0.7016039781449604\n",
            "--------------------------------------\n",
            "--------------------------------------\n",
            "--------------------------------------\n",
            "---------------------------------\n",
            "---------------------------------\n",
            "---------------------------------\n",
            "---------------------------------\n",
            "average acc= 0.7342838626053144\n",
            "average pre= 0.7930232558139536\n",
            "average rec= 0.7349779725427891\n",
            "average f1= 0.7016039781449603\n"
          ]
        },
        {
          "output_type": "display_data",
          "data": {
            "text/plain": [
              "<Figure size 432x288 with 2 Axes>"
            ],
            "image/png": "[encoded data removed]"
          },
          "metadata": {
            "needs_background": "light"
          }
        }
      ]
    },
    {
      "cell_type": "markdown",
      "metadata": {
        "id": "Z2s9aRyEQSVl"
      },
      "source": [
        "# **Oversampling and Undersampling**"
      ]
    },
    {
      "cell_type": "code",
      "execution_count": 571,
      "metadata": {
        "id": "feqgVsL3XDR5"
      },
      "outputs": [],
      "source": [
        "from collections import Counter\n",
        "X = merged_data2.drop(['DrivingStyle'] , axis = 1)"
      ]
    },
    {
      "cell_type": "code",
      "execution_count": 572,
      "metadata": {
        "colab": {
          "base_uri": "https://localhost:8080/"
        },
        "id": "mf3g0xFASA6I",
        "outputId": "34bb1566-25f4-4d31-c605-49e2997aa86d"
      },
      "outputs": [
        {
          "output_type": "stream",
          "name": "stdout",
          "text": [
            "[(1, 6346), (2, 6346), (3, 6346)]\n",
            "[('Air temprture', 1), ('Lane of the road', 1), ('Lighting condition', 1), ('axles number', 1), ('perceding veincle length', 1), ('perceding veincle speed', 1), ('perceding veincle time-gap', 1), ('perceding veincle weight', 1), ('perciption intensity', 1), ('perciption type', 1), ('relatve humadity', 1), ('road condition', 1), ('veincle length', 1), ('veincle speed', 1), ('veincle weight', 1), ('wind direction', 1), ('wind speed', 1)]\n"
          ]
        }
      ],
      "source": [
        "from imblearn.over_sampling import RandomOverSampler\n",
        "ros = RandomOverSampler(random_state=0)\n",
        "X_resampled, y_resampled = ros.fit_resample(X, y)\n",
        "print(sorted(Counter(y_resampled).items()))\n",
        "print(sorted(Counter(X_resampled).items()))"
      ]
    },
    {
      "cell_type": "code",
      "execution_count": 573,
      "metadata": {
        "colab": {
          "base_uri": "https://localhost:8080/",
          "height": 467
        },
        "id": "9hOOUFJOSax1",
        "outputId": "f649eacc-06a8-471c-b8d3-a87678ebff07"
      },
      "outputs": [
        {
          "output_type": "stream",
          "name": "stdout",
          "text": [
            "dict_items([(2, 6346), (1, 2741), (3, 3770)])\n",
            "dict_items([(2, 6346), (1, 6346), (3, 6346)])\n",
            "2    6346\n",
            "3    3770\n",
            "1    2741\n",
            "Name: DrivingStyle, dtype: int64\n"
          ]
        },
        {
          "output_type": "execute_result",
          "data": {
            "text/plain": [
              "([<matplotlib.patches.Wedge at 0x7fc83235c730>,\n",
              "  <matplotlib.patches.Wedge at 0x7fc83235c4c0>,\n",
              "  <matplotlib.patches.Wedge at 0x7fc83085b8b0>],\n",
              " [Text(0.02217315292679917, 1.0997765006078666, ''),\n",
              "  Text(-0.7001221014856635, -0.8484273940717018, ''),\n",
              "  Text(0.8623676270282761, -0.6828777898376988, '')])"
            ]
          },
          "metadata": {},
          "execution_count": 573
        },
        {
          "output_type": "display_data",
          "data": {
            "text/plain": [
              "<Figure size 432x288 with 1 Axes>"
            ],
            "image/png": "[encoded data removed]"
          },
          "metadata": {}
        }
      ],
      "source": [
        "z = Counter(y).items()\n",
        "v = Counter(y_resampled).items()\n",
        "u = y.value_counts()\n",
        "print(z)\n",
        "print(v)\n",
        "print(u)\n",
        "d = merged_data2.DrivingStyle.values\n",
        "plt.pie(u)"
      ]
    },
    {
      "cell_type": "code",
      "source": [
        "x_train,x_test,y_train,y_test=train_test_split(X_resampled,y_resampled,test_size=0.12,random_state=123)"
      ],
      "metadata": {
        "id": "4rMLhuPDshF0"
      },
      "execution_count": 574,
      "outputs": []
    },
    {
      "cell_type": "code",
      "execution_count": 575,
      "metadata": {
        "colab": {
          "base_uri": "https://localhost:8080/",
          "height": 1000
        },
        "id": "nPA-tasNRMg2",
        "outputId": "fe3d0e4a-062d-4e38-895b-c4aeac8c3ea6"
      },
      "outputs": [
        {
          "output_type": "stream",
          "name": "stdout",
          "text": [
            "---------------------------------\n",
            "---------------------------------\n",
            "[2 2 1 ... 1 2 1]\n",
            "accuracy = 0.8774617067833698\n",
            "f1 score = 0.8753459295303038\n",
            "precision = 0.8825702081946756\n",
            "recall =  0.8777132262436891\n",
            "---------------------------------\n",
            "---------------------------------\n",
            "[2 2 1 ... 1 2 1]\n",
            "accuracy = 0.874835886214442\n",
            "f1 score = 0.8728333452424452\n",
            "precision = 0.8796554982908206\n",
            "recall =  0.8750368904997741\n",
            "---------------------------------\n",
            "---------------------------------\n",
            "[2 2 1 ... 1 2 1]\n",
            "accuracy = 0.8739606126914661\n",
            "f1 score = 0.8719489103858793\n",
            "precision = 0.8787984042749413\n",
            "recall =  0.8741573279139064\n",
            "---------------------------------\n",
            "---------------------------------\n",
            "[2 2 1 ... 1 2 1]\n",
            "accuracy = 0.8726477024070022\n",
            "f1 score = 0.8704223455691564\n",
            "precision = 0.8787460798882446\n",
            "recall =  0.872895874415661\n",
            "---------------------------------\n",
            "---------------------------------\n",
            "[2 2 1 ... 1 2 1]\n",
            "accuracy = 0.8800875273522976\n",
            "f1 score = 0.8782045846678278\n",
            "precision = 0.884229773307721\n",
            "recall =  0.8803073037781521\n",
            "---------------------------------\n",
            "---------------------------------\n",
            "[2 2 1 ... 1 2 1]\n",
            "accuracy = 0.8730853391684902\n",
            "f1 score = 0.8710809089372727\n",
            "precision = 0.8779489561080188\n",
            "recall =  0.8733267605230512\n",
            "---------------------------------\n",
            "---------------------------------\n",
            "[2 2 1 ... 1 1 1]\n",
            "accuracy = 0.8778993435448578\n",
            "f1 score = 0.8759791414695811\n",
            "precision = 0.8830267878070641\n",
            "recall =  0.8781482377857318\n",
            "---------------------------------\n",
            "---------------------------------\n",
            "[2 1 1 ... 1 2 1]\n",
            "accuracy = 0.8783369803063458\n",
            "f1 score = 0.8760564660448429\n",
            "precision = 0.883991821878194\n",
            "recall =  0.8785618435428516\n",
            "---------------------------------\n",
            "---------------------------------\n",
            "[2 2 1 ... 1 1 1]\n",
            "accuracy = 0.8743982494529541\n",
            "f1 score = 0.8720662006168479\n",
            "precision = 0.8796042523769687\n",
            "recall =  0.8746129666292113\n",
            "---------------------------------\n",
            "---------------------------------\n",
            "[2 2 1 ... 1 1 1]\n",
            "accuracy = 0.8787746170678337\n",
            "f1 score = 0.8765814149710468\n",
            "precision = 0.8830714200708673\n",
            "recall =  0.8789968550848942\n",
            "---------------------------------\n",
            "---------------------------------\n",
            "---------------------------------\n",
            "---------------------------------\n",
            "average acc= 0.8761487964989059\n",
            "average pre= 0.8811643202197516\n",
            "average rec= 0.8763757286416922\n",
            "average f1= 0.8740519247435203\n"
          ]
        },
        {
          "output_type": "display_data",
          "data": {
            "text/plain": [
              "<Figure size 432x288 with 2 Axes>"
            ],
            "image/png": "[encoded data removed]"
          },
          "metadata": {
            "needs_background": "light"
          }
        }
      ],
      "source": [
        "avgList = []\n",
        "preList = []\n",
        "recList = []\n",
        "f1List = []\n",
        "\n",
        "for x in range(10):\n",
        "\n",
        "  clf2=RandomForestClassifier(n_estimators=150,max_depth=100,min_samples_split=3,oob_score=True)\n",
        "  clf2.fit(x_train,y_train)\n",
        "  y_pred = clf2.predict(x_test)\n",
        "  print(\"---------------------------------\")\n",
        "  print(\"---------------------------------\")\n",
        "  print(y_pred)\n",
        "\n",
        "  print(\"accuracy =\" ,met.accuracy_score(y_test,y_pred))\n",
        "  print(\"f1 score =\" ,met.f1_score(y_test,y_pred,average='macro'))\n",
        "  print(\"precision =\",met.precision_score(y_test,y_pred,average='macro'))\n",
        "  print(\"recall = \",met.recall_score(y_test,y_pred,average='macro'))\n",
        "\n",
        "  avgList.append(met.accuracy_score(y_test,y_pred))\n",
        "  preList.append(met.precision_score(y_test,y_pred,average='macro'))\n",
        "  recList.append(met.recall_score(y_test,y_pred,average='macro'))\n",
        "  f1List.append(met.f1_score(y_test,y_pred,average='macro'))\n",
        "\n",
        "print(\"---------------------------------\")\n",
        "print(\"---------------------------------\")\n",
        "print(\"---------------------------------\")\n",
        "print(\"---------------------------------\")\n",
        "\n",
        "print(\"average acc=\" ,sum(avgList)/len(avgList))\n",
        "print(\"average pre=\" ,sum(preList)/len(preList))\n",
        "print(\"average rec=\" ,sum(recList)/len(recList))\n",
        "print(\"average f1=\" ,sum(f1List)/len(f1List))\n",
        "\n",
        "\n",
        "ConfusionMatrixDisplay.from_predictions(y_test, y_pred)\n",
        "plt.show()"
      ]
    },
    {
      "cell_type": "code",
      "execution_count": 576,
      "metadata": {
        "colab": {
          "base_uri": "https://localhost:8080/",
          "height": 297
        },
        "id": "YYu9Q4cPXblT",
        "outputId": "bbefc480-4994-4a49-b99b-4142ec749828"
      },
      "outputs": [
        {
          "output_type": "display_data",
          "data": {
            "text/plain": [
              "<Figure size 432x288 with 1 Axes>"
            ],
            "image/png": "[encoded data removed]"
          },
          "metadata": {
            "needs_background": "light"
          }
        }
      ],
      "source": [
        "importances = clf2.feature_importances_\n",
        "sorted_indices = np.argsort(importances)[::-1]\n",
        "feat_labels = X.columns[1:]\n",
        "\n",
        "plt.title('Feature Importance')\n",
        "plt.bar(range(x_train.shape[1]), importances[sorted_indices], align='center')\n",
        "plt.xticks(range(x_train.shape[1]), x_train.columns[sorted_indices], rotation=90)\n",
        "plt.tight_layout()\n",
        "plt.show()"
      ]
    },
    {
      "cell_type": "code",
      "source": [
        "avgList = []\n",
        "preList = []\n",
        "recList = []\n",
        "f1List = []\n",
        "\n",
        "for x in range(10):\n",
        "\n",
        "  neigh = KNeighborsClassifier(n_neighbors=2,leaf_size=30,p=2,algorithm='ball_tree')\n",
        "  neigh.fit(x_test, y_test)\n",
        "  y_pred = neigh.predict(x_test)\n",
        "\n",
        "  print(\"---------------------------------\")\n",
        "  print(\"---------------------------------\")\n",
        "  print(y_pred)\n",
        "\n",
        "  print('accuracy =', met.accuracy_score(y_test,y_pred))\n",
        "  print('precision =',met.precision_score(y_test,y_pred,average='macro'))\n",
        "  print('recall =',met.recall_score(y_test,y_pred,average='macro'))\n",
        "  print('f1 =',met.f1_score(y_test,y_pred,average='macro'))\n",
        "\n",
        "  print('--------------------------------------')\n",
        "  print('--------------------------------------') \n",
        "  print('--------------------------------------')\n",
        "\n",
        "  avgList.append(met.accuracy_score(y_test,y_pred))\n",
        "  preList.append(met.precision_score(y_test,y_pred,average='macro'))\n",
        "  recList.append(met.recall_score(y_test,y_pred,average='macro'))\n",
        "  f1List.append(met.f1_score(y_test,y_pred,average='macro'))\n",
        "\n",
        "print(\"---------------------------------\")\n",
        "print(\"---------------------------------\")\n",
        "print(\"---------------------------------\")\n",
        "print(\"---------------------------------\")\n",
        "\n",
        "print(\"average acc=\" ,sum(avgList)/len(avgList))\n",
        "print(\"average pre=\" ,sum(preList)/len(preList))\n",
        "print(\"average rec=\" ,sum(recList)/len(recList))\n",
        "print(\"average f1=\" ,sum(f1List)/len(f1List))\n",
        "\n",
        "ConfusionMatrixDisplay.from_predictions(y_test, y_pred)\n",
        "plt.show()"
      ],
      "metadata": {
        "colab": {
          "base_uri": "https://localhost:8080/",
          "height": 1000
        },
        "id": "iK8MaD0HUbY-",
        "outputId": "2ef2da26-3aa2-4e37-a0ef-80ac05c64582"
      },
      "execution_count": 577,
      "outputs": [
        {
          "output_type": "stream",
          "name": "stdout",
          "text": [
            "---------------------------------\n",
            "---------------------------------\n",
            "[2 2 1 ... 1 1 1]\n",
            "accuracy = 0.7260393873085339\n",
            "precision = 0.7880765104168942\n",
            "recall = 0.7280902420813504\n",
            "f1 = 0.7104539318232893\n",
            "--------------------------------------\n",
            "--------------------------------------\n",
            "--------------------------------------\n",
            "---------------------------------\n",
            "---------------------------------\n",
            "[2 2 1 ... 1 1 1]\n",
            "accuracy = 0.7260393873085339\n",
            "precision = 0.7880765104168942\n",
            "recall = 0.7280902420813504\n",
            "f1 = 0.7104539318232893\n",
            "--------------------------------------\n",
            "--------------------------------------\n",
            "--------------------------------------\n",
            "---------------------------------\n",
            "---------------------------------\n",
            "[2 2 1 ... 1 1 1]\n",
            "accuracy = 0.7260393873085339\n",
            "precision = 0.7880765104168942\n",
            "recall = 0.7280902420813504\n",
            "f1 = 0.7104539318232893\n",
            "--------------------------------------\n",
            "--------------------------------------\n",
            "--------------------------------------\n",
            "---------------------------------\n",
            "---------------------------------\n",
            "[2 2 1 ... 1 1 1]\n",
            "accuracy = 0.7260393873085339\n",
            "precision = 0.7880765104168942\n",
            "recall = 0.7280902420813504\n",
            "f1 = 0.7104539318232893\n",
            "--------------------------------------\n",
            "--------------------------------------\n",
            "--------------------------------------\n",
            "---------------------------------\n",
            "---------------------------------\n",
            "[2 2 1 ... 1 1 1]\n",
            "accuracy = 0.7260393873085339\n",
            "precision = 0.7880765104168942\n",
            "recall = 0.7280902420813504\n",
            "f1 = 0.7104539318232893\n",
            "--------------------------------------\n",
            "--------------------------------------\n",
            "--------------------------------------\n",
            "---------------------------------\n",
            "---------------------------------\n",
            "[2 2 1 ... 1 1 1]\n",
            "accuracy = 0.7260393873085339\n",
            "precision = 0.7880765104168942\n",
            "recall = 0.7280902420813504\n",
            "f1 = 0.7104539318232893\n",
            "--------------------------------------\n",
            "--------------------------------------\n",
            "--------------------------------------\n",
            "---------------------------------\n",
            "---------------------------------\n",
            "[2 2 1 ... 1 1 1]\n",
            "accuracy = 0.7260393873085339\n",
            "precision = 0.7880765104168942\n",
            "recall = 0.7280902420813504\n",
            "f1 = 0.7104539318232893\n",
            "--------------------------------------\n",
            "--------------------------------------\n",
            "--------------------------------------\n",
            "---------------------------------\n",
            "---------------------------------\n",
            "[2 2 1 ... 1 1 1]\n",
            "accuracy = 0.7260393873085339\n",
            "precision = 0.7880765104168942\n",
            "recall = 0.7280902420813504\n",
            "f1 = 0.7104539318232893\n",
            "--------------------------------------\n",
            "--------------------------------------\n",
            "--------------------------------------\n",
            "---------------------------------\n",
            "---------------------------------\n",
            "[2 2 1 ... 1 1 1]\n",
            "accuracy = 0.7260393873085339\n",
            "precision = 0.7880765104168942\n",
            "recall = 0.7280902420813504\n",
            "f1 = 0.7104539318232893\n",
            "--------------------------------------\n",
            "--------------------------------------\n",
            "--------------------------------------\n",
            "---------------------------------\n",
            "---------------------------------\n",
            "[2 2 1 ... 1 1 1]\n",
            "accuracy = 0.7260393873085339\n",
            "precision = 0.7880765104168942\n",
            "recall = 0.7280902420813504\n",
            "f1 = 0.7104539318232893\n",
            "--------------------------------------\n",
            "--------------------------------------\n",
            "--------------------------------------\n",
            "---------------------------------\n",
            "---------------------------------\n",
            "---------------------------------\n",
            "---------------------------------\n",
            "average acc= 0.7260393873085339\n",
            "average pre= 0.7880765104168941\n",
            "average rec= 0.7280902420813504\n",
            "average f1= 0.7104539318232892\n"
          ]
        },
        {
          "output_type": "display_data",
          "data": {
            "text/plain": [
              "<Figure size 432x288 with 2 Axes>"
            ],
            "image/png": "[encoded data removed]"
          },
          "metadata": {
            "needs_background": "light"
          }
        }
      ]
    }
  ],
  "metadata": {
    "colab": {
      "provenance": []
    },
    "kernelspec": {
      "display_name": "Python 3",
      "name": "python3"
    },
    "language_info": {
      "name": "python"
    }
  },
  "nbformat": 4,
  "nbformat_minor": 0
}